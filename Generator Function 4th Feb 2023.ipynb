{
 "cells": [
  {
   "cell_type": "code",
   "execution_count": 1,
   "id": "730c56f7-5f0a-4ef3-aa96-dcd150ec3bca",
   "metadata": {},
   "outputs": [
    {
     "data": {
      "text/plain": [
       "range(0, 5)"
      ]
     },
     "execution_count": 1,
     "metadata": {},
     "output_type": "execute_result"
    }
   ],
   "source": [
    "range(5)"
   ]
  },
  {
   "cell_type": "code",
   "execution_count": 2,
   "id": "cb7d9239-0a93-4834-9450-dc7d13b47c1c",
   "metadata": {},
   "outputs": [
    {
     "name": "stdout",
     "output_type": "stream",
     "text": [
      "0\n",
      "1\n",
      "2\n",
      "3\n",
      "4\n"
     ]
    }
   ],
   "source": [
    "for i in range(5):\n",
    "    print(i)"
   ]
  },
  {
   "cell_type": "code",
   "execution_count": 13,
   "id": "9b35e5ff-d8f9-465c-b52d-bf64580b14cb",
   "metadata": {},
   "outputs": [],
   "source": [
    "def test_fib(n):\n",
    "    a,b = 0,1\n",
    "    for i in range(n):\n",
    "        yield a\n",
    "        a,b = b,a+b"
   ]
  },
  {
   "cell_type": "code",
   "execution_count": 14,
   "id": "e3e10d5f-a3e0-4eb8-9d57-7f5a51f09157",
   "metadata": {},
   "outputs": [
    {
     "data": {
      "text/plain": [
       "<generator object test_fib at 0x7f5a158c1e70>"
      ]
     },
     "execution_count": 14,
     "metadata": {},
     "output_type": "execute_result"
    }
   ],
   "source": [
    "test_fib(10)"
   ]
  },
  {
   "cell_type": "code",
   "execution_count": 15,
   "id": "e9295435-5942-4dc8-9dec-c1ac8f781d5a",
   "metadata": {},
   "outputs": [
    {
     "name": "stdout",
     "output_type": "stream",
     "text": [
      "0\n",
      "1\n",
      "1\n",
      "2\n",
      "3\n",
      "5\n",
      "8\n",
      "13\n",
      "21\n",
      "34\n"
     ]
    }
   ],
   "source": [
    "for i in test_fib(10):\n",
    "    print(i)"
   ]
  },
  {
   "cell_type": "code",
   "execution_count": 16,
   "id": "b59a6690-00be-4e33-b3d1-f9fb2d0ab051",
   "metadata": {},
   "outputs": [],
   "source": [
    "# whenever we use yield it becomes a generator function"
   ]
  },
  {
   "cell_type": "code",
   "execution_count": 20,
   "id": "1e31d960-bd03-459e-bfdc-b0287dc0ebe0",
   "metadata": {},
   "outputs": [],
   "source": [
    "def test_fib1():\n",
    "    a,b = 0,1\n",
    "    while True :\n",
    "        yield a\n",
    "        a,b = b,a+b"
   ]
  },
  {
   "cell_type": "code",
   "execution_count": 22,
   "id": "c96587df-1faf-45b1-ae51-8e78a838e4d7",
   "metadata": {},
   "outputs": [],
   "source": [
    "fib = test_fib1()"
   ]
  },
  {
   "cell_type": "code",
   "execution_count": 23,
   "id": "a2a91a12-6d6f-486a-8de2-ccab8e4bf385",
   "metadata": {},
   "outputs": [
    {
     "name": "stdout",
     "output_type": "stream",
     "text": [
      "0\n",
      "1\n",
      "1\n",
      "2\n",
      "3\n",
      "5\n",
      "8\n",
      "13\n",
      "21\n",
      "34\n"
     ]
    }
   ],
   "source": [
    "for i in range(10):\n",
    "    print(next(fib))\n",
    "#     in an iterator we can go next in iterable input"
   ]
  },
  {
   "cell_type": "code",
   "execution_count": 24,
   "id": "d3f7e013-874d-4edb-8d4c-f1c56d8ebc86",
   "metadata": {},
   "outputs": [],
   "source": [
    "H = \"Happy Chauhan\""
   ]
  },
  {
   "cell_type": "code",
   "execution_count": 25,
   "id": "54cfa144-5d78-4c3a-b0a0-356f288c4b87",
   "metadata": {},
   "outputs": [
    {
     "data": {
      "text/plain": [
       "'Happy Chauhan'"
      ]
     },
     "execution_count": 25,
     "metadata": {},
     "output_type": "execute_result"
    }
   ],
   "source": [
    "H"
   ]
  },
  {
   "cell_type": "code",
   "execution_count": 26,
   "id": "202dd009-969b-4ece-9ff2-a5e4bb806ad1",
   "metadata": {},
   "outputs": [
    {
     "ename": "TypeError",
     "evalue": "'str' object is not an iterator",
     "output_type": "error",
     "traceback": [
      "\u001b[0;31m---------------------------------------------------------------------------\u001b[0m",
      "\u001b[0;31mTypeError\u001b[0m                                 Traceback (most recent call last)",
      "Cell \u001b[0;32mIn[26], line 1\u001b[0m\n\u001b[0;32m----> 1\u001b[0m \u001b[38;5;28;43mnext\u001b[39;49m\u001b[43m(\u001b[49m\u001b[43mH\u001b[49m\u001b[43m)\u001b[49m\n",
      "\u001b[0;31mTypeError\u001b[0m: 'str' object is not an iterator"
     ]
    }
   ],
   "source": [
    "next(H)"
   ]
  },
  {
   "cell_type": "code",
   "execution_count": 27,
   "id": "6c255348-651d-4147-95f0-0a7ee003e707",
   "metadata": {},
   "outputs": [],
   "source": [
    "H1 = iter(H)"
   ]
  },
  {
   "cell_type": "code",
   "execution_count": 28,
   "id": "195a90b0-52ad-4787-b21b-5377bfea6367",
   "metadata": {},
   "outputs": [
    {
     "data": {
      "text/plain": [
       "'Happy Chauhan'"
      ]
     },
     "execution_count": 28,
     "metadata": {},
     "output_type": "execute_result"
    }
   ],
   "source": [
    "H"
   ]
  },
  {
   "cell_type": "code",
   "execution_count": 30,
   "id": "b2b4c08b-b26f-420b-aba6-0b21e60f4ef4",
   "metadata": {},
   "outputs": [
    {
     "data": {
      "text/plain": [
       "'H'"
      ]
     },
     "execution_count": 30,
     "metadata": {},
     "output_type": "execute_result"
    }
   ],
   "source": [
    "next(H1)"
   ]
  },
  {
   "cell_type": "code",
   "execution_count": 32,
   "id": "62b6c5c7-da6c-4210-838d-215429c598ff",
   "metadata": {},
   "outputs": [
    {
     "data": {
      "text/plain": [
       "'a'"
      ]
     },
     "execution_count": 32,
     "metadata": {},
     "output_type": "execute_result"
    }
   ],
   "source": [
    "next(H1)"
   ]
  },
  {
   "cell_type": "code",
   "execution_count": 33,
   "id": "d7ce6e56-32df-4e84-b669-b8cbe25a1a7c",
   "metadata": {},
   "outputs": [
    {
     "data": {
      "text/plain": [
       "'p'"
      ]
     },
     "execution_count": 33,
     "metadata": {},
     "output_type": "execute_result"
    }
   ],
   "source": [
    "next(H1)"
   ]
  },
  {
   "cell_type": "code",
   "execution_count": 34,
   "id": "ec818c29-4898-45ee-bf6f-7415a4ce91b0",
   "metadata": {},
   "outputs": [
    {
     "data": {
      "text/plain": [
       "'p'"
      ]
     },
     "execution_count": 34,
     "metadata": {},
     "output_type": "execute_result"
    }
   ],
   "source": [
    "next(H1)"
   ]
  },
  {
   "cell_type": "code",
   "execution_count": 35,
   "id": "9b741406-0629-4f54-92cc-ca55fa5fa3ab",
   "metadata": {},
   "outputs": [
    {
     "data": {
      "text/plain": [
       "'y'"
      ]
     },
     "execution_count": 35,
     "metadata": {},
     "output_type": "execute_result"
    }
   ],
   "source": [
    "next(H1)"
   ]
  },
  {
   "cell_type": "code",
   "execution_count": 36,
   "id": "cbec9c38-c42a-41bd-8feb-9d6695826d8d",
   "metadata": {},
   "outputs": [
    {
     "data": {
      "text/plain": [
       "' '"
      ]
     },
     "execution_count": 36,
     "metadata": {},
     "output_type": "execute_result"
    }
   ],
   "source": [
    "next(H1)"
   ]
  },
  {
   "cell_type": "code",
   "execution_count": 37,
   "id": "2e3cbaee-fee6-4b41-8f64-4c9a68657056",
   "metadata": {},
   "outputs": [
    {
     "data": {
      "text/plain": [
       "'C'"
      ]
     },
     "execution_count": 37,
     "metadata": {},
     "output_type": "execute_result"
    }
   ],
   "source": [
    "next(H1)"
   ]
  },
  {
   "cell_type": "code",
   "execution_count": 38,
   "id": "a1057061-09fb-46c0-bb19-2beef07820fa",
   "metadata": {},
   "outputs": [
    {
     "data": {
      "text/plain": [
       "'h'"
      ]
     },
     "execution_count": 38,
     "metadata": {},
     "output_type": "execute_result"
    }
   ],
   "source": [
    "next(H1)"
   ]
  },
  {
   "cell_type": "code",
   "execution_count": 39,
   "id": "593a4d07-10cd-47d6-b008-40cc81a24ecc",
   "metadata": {},
   "outputs": [
    {
     "data": {
      "text/plain": [
       "'a'"
      ]
     },
     "execution_count": 39,
     "metadata": {},
     "output_type": "execute_result"
    }
   ],
   "source": [
    "next(H1)"
   ]
  },
  {
   "cell_type": "code",
   "execution_count": 40,
   "id": "37accc1d-4a45-4d41-8320-3aa7d9b3ffbc",
   "metadata": {},
   "outputs": [
    {
     "data": {
      "text/plain": [
       "'u'"
      ]
     },
     "execution_count": 40,
     "metadata": {},
     "output_type": "execute_result"
    }
   ],
   "source": [
    "next(H1)"
   ]
  },
  {
   "cell_type": "code",
   "execution_count": 41,
   "id": "4ca50716-3d98-4ae7-950e-85da9fc9d5e3",
   "metadata": {},
   "outputs": [
    {
     "data": {
      "text/plain": [
       "'h'"
      ]
     },
     "execution_count": 41,
     "metadata": {},
     "output_type": "execute_result"
    }
   ],
   "source": [
    "next(H1)"
   ]
  },
  {
   "cell_type": "code",
   "execution_count": 42,
   "id": "d27a8fba-0a13-4e5f-9531-30082e159b07",
   "metadata": {},
   "outputs": [
    {
     "data": {
      "text/plain": [
       "'a'"
      ]
     },
     "execution_count": 42,
     "metadata": {},
     "output_type": "execute_result"
    }
   ],
   "source": [
    "next(H1)"
   ]
  },
  {
   "cell_type": "code",
   "execution_count": 43,
   "id": "a1cc7afb-2eb3-419a-8ccd-d4da565687e3",
   "metadata": {},
   "outputs": [
    {
     "data": {
      "text/plain": [
       "'n'"
      ]
     },
     "execution_count": 43,
     "metadata": {},
     "output_type": "execute_result"
    }
   ],
   "source": [
    "next(H1)\n"
   ]
  },
  {
   "cell_type": "code",
   "execution_count": 45,
   "id": "35ad18ba-eff1-4365-a435-44c023d92aee",
   "metadata": {},
   "outputs": [],
   "source": [
    "# iter converts normal string into the iterator"
   ]
  },
  {
   "cell_type": "code",
   "execution_count": 46,
   "id": "6aea0b2e-a939-4a0d-9615-28ab6d9b56cf",
   "metadata": {},
   "outputs": [],
   "source": [
    "# we can't convert anything into iterator if it is iterable then only we can convert it into iterator"
   ]
  },
  {
   "cell_type": "code",
   "execution_count": 47,
   "id": "667ff56e-20c3-44ce-9089-ddc539d10d45",
   "metadata": {},
   "outputs": [],
   "source": [
    "# for example"
   ]
  },
  {
   "cell_type": "code",
   "execution_count": 48,
   "id": "11f51070-69f0-4912-954a-32964805ec4b",
   "metadata": {},
   "outputs": [
    {
     "ename": "TypeError",
     "evalue": "'int' object is not iterable",
     "output_type": "error",
     "traceback": [
      "\u001b[0;31m---------------------------------------------------------------------------\u001b[0m",
      "\u001b[0;31mTypeError\u001b[0m                                 Traceback (most recent call last)",
      "Cell \u001b[0;32mIn[48], line 1\u001b[0m\n\u001b[0;32m----> 1\u001b[0m \u001b[38;5;28;43miter\u001b[39;49m\u001b[43m(\u001b[49m\u001b[38;5;241;43m45\u001b[39;49m\u001b[43m)\u001b[49m\n",
      "\u001b[0;31mTypeError\u001b[0m: 'int' object is not iterable"
     ]
    }
   ],
   "source": [
    "iter(45)"
   ]
  },
  {
   "cell_type": "code",
   "execution_count": 49,
   "id": "079a149e-74eb-488c-a6b3-cdad43e19216",
   "metadata": {},
   "outputs": [
    {
     "ename": "TypeError",
     "evalue": "'int' object is not an iterator",
     "output_type": "error",
     "traceback": [
      "\u001b[0;31m---------------------------------------------------------------------------\u001b[0m",
      "\u001b[0;31mTypeError\u001b[0m                                 Traceback (most recent call last)",
      "Cell \u001b[0;32mIn[49], line 1\u001b[0m\n\u001b[0;32m----> 1\u001b[0m \u001b[38;5;28;43mnext\u001b[39;49m\u001b[43m(\u001b[49m\u001b[38;5;241;43m45\u001b[39;49m\u001b[43m)\u001b[49m\n",
      "\u001b[0;31mTypeError\u001b[0m: 'int' object is not an iterator"
     ]
    }
   ],
   "source": [
    "next(45)"
   ]
  },
  {
   "cell_type": "code",
   "execution_count": 50,
   "id": "526c6136-92e3-4cd1-9d8e-bca6bedb9427",
   "metadata": {},
   "outputs": [
    {
     "data": {
      "text/plain": [
       "generator"
      ]
     },
     "execution_count": 50,
     "metadata": {},
     "output_type": "execute_result"
    }
   ],
   "source": [
    "type(fib)"
   ]
  },
  {
   "cell_type": "code",
   "execution_count": 54,
   "id": "6619c76e-5e62-48a7-9d03-892d5c9ac58c",
   "metadata": {},
   "outputs": [],
   "source": [
    "def setting(n):\n",
    "    count =1\n",
    "    while count <= n:\n",
    "        yield count\n",
    "        count = count + 1"
   ]
  },
  {
   "cell_type": "code",
   "execution_count": 55,
   "id": "2f4afe89-6c90-410d-a399-b1c8a0e34278",
   "metadata": {},
   "outputs": [],
   "source": [
    "c = setting(6)"
   ]
  },
  {
   "cell_type": "code",
   "execution_count": 56,
   "id": "4d5e0386-2490-47b9-aa53-174647a135a8",
   "metadata": {},
   "outputs": [
    {
     "name": "stdout",
     "output_type": "stream",
     "text": [
      "1\n",
      "2\n",
      "3\n",
      "4\n",
      "5\n",
      "6\n"
     ]
    }
   ],
   "source": [
    "for i in c:\n",
    "    print(i)"
   ]
  },
  {
   "cell_type": "code",
   "execution_count": null,
   "id": "e6f197c2-c991-4df2-b858-f7366e0f02d1",
   "metadata": {},
   "outputs": [],
   "source": []
  }
 ],
 "metadata": {
  "kernelspec": {
   "display_name": "Python 3 (ipykernel)",
   "language": "python",
   "name": "python3"
  },
  "language_info": {
   "codemirror_mode": {
    "name": "ipython",
    "version": 3
   },
   "file_extension": ".py",
   "mimetype": "text/x-python",
   "name": "python",
   "nbconvert_exporter": "python",
   "pygments_lexer": "ipython3",
   "version": "3.10.8"
  }
 },
 "nbformat": 4,
 "nbformat_minor": 5
}
