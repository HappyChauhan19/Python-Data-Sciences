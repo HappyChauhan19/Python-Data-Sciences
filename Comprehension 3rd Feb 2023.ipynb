{
 "cells": [
  {
   "cell_type": "code",
   "execution_count": 1,
   "id": "9a2669ff-dadc-4d79-ae57-d2462c4a3ed6",
   "metadata": {},
   "outputs": [],
   "source": [
    "# As in loops we have comprehensions here"
   ]
  },
  {
   "cell_type": "code",
   "execution_count": 2,
   "id": "c36c9997-1d5b-42b6-b64d-64a144d5a6e1",
   "metadata": {},
   "outputs": [
    {
     "name": "stdout",
     "output_type": "stream",
     "text": [
      "[1, 4, 9, 16, 25]\n"
     ]
    }
   ],
   "source": [
    "square = [1,2,3,4,5]\n",
    "l1 = []\n",
    "for i in square:\n",
    "    l1.append(i**2)\n",
    "print(l1)"
   ]
  },
  {
   "cell_type": "code",
   "execution_count": 3,
   "id": "987e5534-d7bd-463d-a990-39522b297b96",
   "metadata": {},
   "outputs": [],
   "source": [
    "# for comprehension we have to put in square brackets"
   ]
  },
  {
   "cell_type": "code",
   "execution_count": 4,
   "id": "3f952a88-b171-49a9-9009-591bbfc55911",
   "metadata": {},
   "outputs": [
    {
     "data": {
      "text/plain": [
       "[1, 4, 9, 16, 25]"
      ]
     },
     "execution_count": 4,
     "metadata": {},
     "output_type": "execute_result"
    }
   ],
   "source": [
    "[i**2 for i in square]"
   ]
  },
  {
   "cell_type": "code",
   "execution_count": 6,
   "id": "6629adb4-e427-48d4-b24a-6fa7f73e26db",
   "metadata": {},
   "outputs": [
    {
     "data": {
      "text/plain": [
       "[2, 4]"
      ]
     },
     "execution_count": 6,
     "metadata": {},
     "output_type": "execute_result"
    }
   ],
   "source": [
    "[i for i in square if i % 2 == 0]"
   ]
  },
  {
   "cell_type": "code",
   "execution_count": 7,
   "id": "b2660f0e-7acd-4007-9ade-1cdb83fd5ac5",
   "metadata": {},
   "outputs": [],
   "source": [
    "item = [\"Happy Chauhan\", \"Data Science\", \"Laptop\", \"ASUS\"]"
   ]
  },
  {
   "cell_type": "code",
   "execution_count": 8,
   "id": "4853637d-1adc-4c13-ae0c-4cb7fa8f405b",
   "metadata": {},
   "outputs": [
    {
     "data": {
      "text/plain": [
       "['HAPPY CHAUHAN', 'DATA SCIENCE', 'LAPTOP', 'ASUS']"
      ]
     },
     "execution_count": 8,
     "metadata": {},
     "output_type": "execute_result"
    }
   ],
   "source": [
    "[i.upper() for i in item]"
   ]
  },
  {
   "cell_type": "code",
   "execution_count": 9,
   "id": "fd65d954-e314-496c-b783-f6fcc068e638",
   "metadata": {},
   "outputs": [
    {
     "data": {
      "text/plain": [
       "<generator object <genexpr> at 0x7ffb0e0ca110>"
      ]
     },
     "execution_count": 9,
     "metadata": {},
     "output_type": "execute_result"
    }
   ],
   "source": [
    "(i**2 for i in square)"
   ]
  },
  {
   "cell_type": "code",
   "execution_count": 10,
   "id": "50afb240-bba0-4f08-a8a6-915e474cd846",
   "metadata": {},
   "outputs": [
    {
     "data": {
      "text/plain": [
       "[1, 4, 9, 16, 25]"
      ]
     },
     "execution_count": 10,
     "metadata": {},
     "output_type": "execute_result"
    }
   ],
   "source": [
    "list(i**2 for i in square)"
   ]
  },
  {
   "cell_type": "code",
   "execution_count": 11,
   "id": "7cb1af5d-1036-472c-8c25-8ba9da0acd4c",
   "metadata": {},
   "outputs": [],
   "source": [
    "diss = {\"key 1\" : 1, \"key 2\" : 2, \"key 3\" : 3, \"key 4\" : 4}"
   ]
  },
  {
   "cell_type": "code",
   "execution_count": 12,
   "id": "0471642e-bcf6-4c1e-818e-ad774ecc29a0",
   "metadata": {},
   "outputs": [
    {
     "data": {
      "text/plain": [
       "{'key 1': 1, 'key 2': 4, 'key 3': 9, 'key 4': 16}"
      ]
     },
     "execution_count": 12,
     "metadata": {},
     "output_type": "execute_result"
    }
   ],
   "source": [
    "{k : v**2 for k , v in diss.items()}"
   ]
  },
  {
   "cell_type": "code",
   "execution_count": 16,
   "id": "8248d018-e034-45ef-ad4a-81358e9440b3",
   "metadata": {},
   "outputs": [
    {
     "data": {
      "text/plain": [
       "{'key 2': 2, 'key 3': 3, 'key 4': 4}"
      ]
     },
     "execution_count": 16,
     "metadata": {},
     "output_type": "execute_result"
    }
   ],
   "source": [
    "{k : v for k, v in diss.items() if v> 1}"
   ]
  }
 ],
 "metadata": {
  "kernelspec": {
   "display_name": "Python 3 (ipykernel)",
   "language": "python",
   "name": "python3"
  },
  "language_info": {
   "codemirror_mode": {
    "name": "ipython",
    "version": 3
   },
   "file_extension": ".py",
   "mimetype": "text/x-python",
   "name": "python",
   "nbconvert_exporter": "python",
   "pygments_lexer": "ipython3",
   "version": "3.10.8"
  }
 },
 "nbformat": 4,
 "nbformat_minor": 5
}
