{
 "cells": [
  {
   "cell_type": "code",
   "execution_count": 2,
   "id": "378d02f8-6496-46d5-a521-309eed6bd45d",
   "metadata": {},
   "outputs": [],
   "source": [
    "Oxford = {}"
   ]
  },
  {
   "cell_type": "code",
   "execution_count": 3,
   "id": "94b0426c-413d-4a82-81b4-2801eedf5a59",
   "metadata": {},
   "outputs": [
    {
     "data": {
      "text/plain": [
       "dict"
      ]
     },
     "execution_count": 3,
     "metadata": {},
     "output_type": "execute_result"
    }
   ],
   "source": [
    "type(Oxford)"
   ]
  },
  {
   "cell_type": "code",
   "execution_count": 4,
   "id": "fa364953-fccd-4dd3-b8d3-7632f612e178",
   "metadata": {},
   "outputs": [],
   "source": [
    "D1 = {\"Key\" : \"Data Science\"}"
   ]
  },
  {
   "cell_type": "code",
   "execution_count": 5,
   "id": "8e97e62e-744a-4a8c-bdfe-f82e96326550",
   "metadata": {},
   "outputs": [
    {
     "data": {
      "text/plain": [
       "{'Key': 'Data Science'}"
      ]
     },
     "execution_count": 5,
     "metadata": {},
     "output_type": "execute_result"
    }
   ],
   "source": [
    "D1"
   ]
  },
  {
   "cell_type": "code",
   "execution_count": 6,
   "id": "60a44468-c105-4ca3-a2f5-60fc6793a08d",
   "metadata": {},
   "outputs": [],
   "source": [
    "D2 = {\"Name\" : \"Happy Chauhan\", \"Email ID\" : \"Happy.chauhan1902@gmail.com\", \"Phone no\" : \"7011535418\", 22 : \"Age\"}"
   ]
  },
  {
   "cell_type": "code",
   "execution_count": 7,
   "id": "c3c799bb-3c58-43cf-8c9b-2d8fcb03c420",
   "metadata": {},
   "outputs": [],
   "source": [
    "D3 = {\"@gmail.com\" : \"Mail id bhar apni idhar\", True : \"Correct\", False : \"Wrong\"}"
   ]
  },
  {
   "cell_type": "code",
   "execution_count": 8,
   "id": "e15d30a3-decc-4fda-bde4-94e13e717270",
   "metadata": {},
   "outputs": [
    {
     "data": {
      "text/plain": [
       "'Happy Chauhan'"
      ]
     },
     "execution_count": 8,
     "metadata": {},
     "output_type": "execute_result"
    }
   ],
   "source": [
    "D2[\"Name\"]"
   ]
  },
  {
   "cell_type": "code",
   "execution_count": 9,
   "id": "2317775a-a4ca-4615-93f1-9f7a4e844426",
   "metadata": {},
   "outputs": [
    {
     "data": {
      "text/plain": [
       "'Correct'"
      ]
     },
     "execution_count": 9,
     "metadata": {},
     "output_type": "execute_result"
    }
   ],
   "source": [
    "D3[True]"
   ]
  },
  {
   "cell_type": "code",
   "execution_count": 10,
   "id": "7703a2c2-5e89-46be-a775-7a4108bff637",
   "metadata": {},
   "outputs": [
    {
     "data": {
      "text/plain": [
       "'Wrong'"
      ]
     },
     "execution_count": 10,
     "metadata": {},
     "output_type": "execute_result"
    }
   ],
   "source": [
    "D3[False]"
   ]
  },
  {
   "cell_type": "code",
   "execution_count": 11,
   "id": "189f3373-65fa-4311-974a-ba704d19c34f",
   "metadata": {},
   "outputs": [
    {
     "data": {
      "text/plain": [
       "'Happy.chauhan1902@gmail.com'"
      ]
     },
     "execution_count": 11,
     "metadata": {},
     "output_type": "execute_result"
    }
   ],
   "source": [
    "D2[\"Email ID\"]"
   ]
  },
  {
   "cell_type": "code",
   "execution_count": 12,
   "id": "add52b9b-c3fd-40ab-b817-505b0532cf78",
   "metadata": {},
   "outputs": [
    {
     "data": {
      "text/plain": [
       "'Age'"
      ]
     },
     "execution_count": 12,
     "metadata": {},
     "output_type": "execute_result"
    }
   ],
   "source": [
    "D2[22]"
   ]
  },
  {
   "cell_type": "code",
   "execution_count": 13,
   "id": "a7ed3b41-aaf9-4c45-bf59-739d16ab612f",
   "metadata": {},
   "outputs": [
    {
     "data": {
      "text/plain": [
       "'Correct'"
      ]
     },
     "execution_count": 13,
     "metadata": {},
     "output_type": "execute_result"
    }
   ],
   "source": [
    "D3[1]"
   ]
  },
  {
   "cell_type": "code",
   "execution_count": 15,
   "id": "892f6bad-1ba7-435a-838f-8fc249a760ed",
   "metadata": {},
   "outputs": [],
   "source": [
    "# key is always unique in a dictionary when we add another key with same name then\n",
    "# old key is dumped and the new one overtakes the old one.\n",
    "# we can add list in the dictionary too"
   ]
  },
  {
   "cell_type": "code",
   "execution_count": 16,
   "id": "cde1c888-e8ab-4f78-8789-696c9e42f644",
   "metadata": {},
   "outputs": [],
   "source": [
    "D4 = {\"Company\" : \"VFS Global\", \"Posts\" : [\"Data Analyst\", \"Data Scientsit\", \"Operation Officer\"]}"
   ]
  },
  {
   "cell_type": "code",
   "execution_count": 17,
   "id": "8c110edb-b132-418b-82cf-80104963a855",
   "metadata": {},
   "outputs": [
    {
     "data": {
      "text/plain": [
       "{'Company': 'VFS Global',\n",
       " 'Posts': ['Data Analyst', 'Data Scientsit', 'Operation Officer']}"
      ]
     },
     "execution_count": 17,
     "metadata": {},
     "output_type": "execute_result"
    }
   ],
   "source": [
    "D4"
   ]
  },
  {
   "cell_type": "code",
   "execution_count": 19,
   "id": "8c397f97-4405-4a37-851b-c2ac606b8b10",
   "metadata": {},
   "outputs": [
    {
     "data": {
      "text/plain": [
       "'Operation Officer'"
      ]
     },
     "execution_count": 19,
     "metadata": {},
     "output_type": "execute_result"
    }
   ],
   "source": [
    "D4[\"Posts\"][2]"
   ]
  },
  {
   "cell_type": "code",
   "execution_count": 22,
   "id": "b8888c92-7b18-4dff-a34e-bc2faa42ef4a",
   "metadata": {},
   "outputs": [],
   "source": [
    "# We can add tuples in the dictionary too\n",
    "# We can add set in the dictionary too"
   ]
  },
  {
   "cell_type": "code",
   "execution_count": 25,
   "id": "6f858ec8-5268-4cd0-9ab2-62e96cfd3a48",
   "metadata": {},
   "outputs": [],
   "source": [
    "D5 = {\"Numbers\" : [65,99,8,4,46,45,2,4,678,8,5], \"Assignments\" : (1,2,3,4,5,6,7,8,9), \"Launch date\" : {12,15,31,8,9,24}, \"Batch timing\" : {\"Full Stack Web Development\" : \"8AM\", \"Data Science master\" : \"8PM\", \"Java with DSA\" : \"3PM\"}}"
   ]
  },
  {
   "cell_type": "code",
   "execution_count": 26,
   "id": "4a102762-e9ca-4443-bb9f-9969bad3ac5f",
   "metadata": {},
   "outputs": [],
   "source": [
    "# Even we can create dictionary inside a dictionary"
   ]
  },
  {
   "cell_type": "code",
   "execution_count": 27,
   "id": "84c849c8-bcc0-4479-b0e3-0af502a6d98f",
   "metadata": {},
   "outputs": [
    {
     "data": {
      "text/plain": [
       "{'Numbers': [65, 99, 8, 4, 46, 45, 2, 4, 678, 8, 5],\n",
       " 'Assignments': (1, 2, 3, 4, 5, 6, 7, 8, 9),\n",
       " 'Launch date': {8, 9, 12, 15, 24, 31},\n",
       " 'Batch timing': {'Full Stack Web Development': '8AM',\n",
       "  'Data Science master': '8PM',\n",
       "  'Java with DSA': '3PM'}}"
      ]
     },
     "execution_count": 27,
     "metadata": {},
     "output_type": "execute_result"
    }
   ],
   "source": [
    "D5"
   ]
  },
  {
   "cell_type": "code",
   "execution_count": 28,
   "id": "f3fcdaf5-4f51-4587-b8f0-fdbe57407c9c",
   "metadata": {},
   "outputs": [
    {
     "data": {
      "text/plain": [
       "'3PM'"
      ]
     },
     "execution_count": 28,
     "metadata": {},
     "output_type": "execute_result"
    }
   ],
   "source": [
    "D5[\"Batch timing\"][\"Java with DSA\"]"
   ]
  },
  {
   "cell_type": "code",
   "execution_count": 29,
   "id": "bb22210d-e4a3-4a28-af80-51d5ce1166f9",
   "metadata": {},
   "outputs": [],
   "source": [
    "# We can add a key inside a Dictionary even it is aldready made here is an example of it"
   ]
  },
  {
   "cell_type": "code",
   "execution_count": 30,
   "id": "6d809537-487b-45ba-bd0f-922d0ab1da07",
   "metadata": {},
   "outputs": [],
   "source": [
    "D5[\"Mentors\"] = [\"Sudhanshu\", \"Krish\", \"Jaiswal\", \"Hyder\"]"
   ]
  },
  {
   "cell_type": "code",
   "execution_count": 31,
   "id": "dfbcfde0-ae8e-4857-aabc-5c37854ca8e7",
   "metadata": {},
   "outputs": [
    {
     "data": {
      "text/plain": [
       "{'Numbers': [65, 99, 8, 4, 46, 45, 2, 4, 678, 8, 5],\n",
       " 'Assignments': (1, 2, 3, 4, 5, 6, 7, 8, 9),\n",
       " 'Launch date': {8, 9, 12, 15, 24, 31},\n",
       " 'Batch timing': {'Full Stack Web Development': '8AM',\n",
       "  'Data Science master': '8PM',\n",
       "  'Java with DSA': '3PM'},\n",
       " 'Mentors': ['Sudhanshu', 'Krish', 'Jaiswal', 'Hyder']}"
      ]
     },
     "execution_count": 31,
     "metadata": {},
     "output_type": "execute_result"
    }
   ],
   "source": [
    "D5"
   ]
  },
  {
   "cell_type": "code",
   "execution_count": 32,
   "id": "0ab3ef0c-64f2-4748-acaf-537030eca7e9",
   "metadata": {},
   "outputs": [],
   "source": [
    "# If we add a key with the same name which is already in existance than it will just update the key with new one"
   ]
  },
  {
   "cell_type": "code",
   "execution_count": 33,
   "id": "4fb7048b-ad99-4aeb-88e6-6bf0c95e218c",
   "metadata": {},
   "outputs": [],
   "source": [
    "# If we want to delete any key from a dictionary we can use a function which is \"del\""
   ]
  },
  {
   "cell_type": "code",
   "execution_count": 34,
   "id": "ffca2a1e-b4f2-4a53-b7a6-267046b6e343",
   "metadata": {},
   "outputs": [],
   "source": [
    "del D5[\"Mentors\"]"
   ]
  },
  {
   "cell_type": "code",
   "execution_count": 35,
   "id": "cd65db8d-86c3-4142-bb3a-af9f2b121aba",
   "metadata": {},
   "outputs": [
    {
     "data": {
      "text/plain": [
       "{'Numbers': [65, 99, 8, 4, 46, 45, 2, 4, 678, 8, 5],\n",
       " 'Assignments': (1, 2, 3, 4, 5, 6, 7, 8, 9),\n",
       " 'Launch date': {8, 9, 12, 15, 24, 31},\n",
       " 'Batch timing': {'Full Stack Web Development': '8AM',\n",
       "  'Data Science master': '8PM',\n",
       "  'Java with DSA': '3PM'}}"
      ]
     },
     "execution_count": 35,
     "metadata": {},
     "output_type": "execute_result"
    }
   ],
   "source": [
    "D5"
   ]
  },
  {
   "cell_type": "code",
   "execution_count": 38,
   "id": "209ffc14-a1b7-473a-957f-e96dfb082c01",
   "metadata": {},
   "outputs": [],
   "source": [
    "# We can create list of the keys in existance in the dictionary by calling \"keys()\" function"
   ]
  },
  {
   "cell_type": "code",
   "execution_count": 39,
   "id": "32cd3d3c-046a-4f81-a3cc-e13562573964",
   "metadata": {},
   "outputs": [
    {
     "data": {
      "text/plain": [
       "dict_keys(['Numbers', 'Assignments', 'Launch date', 'Batch timing'])"
      ]
     },
     "execution_count": 39,
     "metadata": {},
     "output_type": "execute_result"
    }
   ],
   "source": [
    "D5.keys()"
   ]
  },
  {
   "cell_type": "code",
   "execution_count": 40,
   "id": "9b38c123-cd24-4f94-b586-0745352b851e",
   "metadata": {},
   "outputs": [
    {
     "data": {
      "text/plain": [
       "['Numbers', 'Assignments', 'Launch date', 'Batch timing']"
      ]
     },
     "execution_count": 40,
     "metadata": {},
     "output_type": "execute_result"
    }
   ],
   "source": [
    "list(D5.keys())"
   ]
  },
  {
   "cell_type": "code",
   "execution_count": 41,
   "id": "a7288cd3-9a36-4aec-9cbd-80b95944cdc5",
   "metadata": {},
   "outputs": [
    {
     "data": {
      "text/plain": [
       "dict_values([[65, 99, 8, 4, 46, 45, 2, 4, 678, 8, 5], (1, 2, 3, 4, 5, 6, 7, 8, 9), {8, 9, 12, 31, 24, 15}, {'Full Stack Web Development': '8AM', 'Data Science master': '8PM', 'Java with DSA': '3PM'}])"
      ]
     },
     "execution_count": 41,
     "metadata": {},
     "output_type": "execute_result"
    }
   ],
   "source": [
    "D5.values()"
   ]
  },
  {
   "cell_type": "code",
   "execution_count": 42,
   "id": "85c66458-7e05-49d4-bfac-8c0a6fc794f9",
   "metadata": {},
   "outputs": [
    {
     "data": {
      "text/plain": [
       "[[65, 99, 8, 4, 46, 45, 2, 4, 678, 8, 5],\n",
       " (1, 2, 3, 4, 5, 6, 7, 8, 9),\n",
       " {8, 9, 12, 15, 24, 31},\n",
       " {'Full Stack Web Development': '8AM',\n",
       "  'Data Science master': '8PM',\n",
       "  'Java with DSA': '3PM'}]"
      ]
     },
     "execution_count": 42,
     "metadata": {},
     "output_type": "execute_result"
    }
   ],
   "source": [
    "list(D5.values())"
   ]
  },
  {
   "cell_type": "code",
   "execution_count": 45,
   "id": "0f600aff-573e-4ca0-b3eb-357eeed9a0c7",
   "metadata": {},
   "outputs": [
    {
     "data": {
      "text/plain": [
       "{'Assignments', 'Batch timing', 'Launch date', 'Numbers'}"
      ]
     },
     "execution_count": 45,
     "metadata": {},
     "output_type": "execute_result"
    }
   ],
   "source": [
    "set(D5.keys())"
   ]
  },
  {
   "cell_type": "code",
   "execution_count": 47,
   "id": "fe531c3b-7f4c-419c-8dd2-e21416a22bae",
   "metadata": {},
   "outputs": [
    {
     "data": {
      "text/plain": [
       "dict_items([('Numbers', [65, 99, 8, 4, 46, 45, 2, 4, 678, 8, 5]), ('Assignments', (1, 2, 3, 4, 5, 6, 7, 8, 9)), ('Launch date', {8, 9, 12, 31, 24, 15}), ('Batch timing', {'Full Stack Web Development': '8AM', 'Data Science master': '8PM', 'Java with DSA': '3PM'})])"
      ]
     },
     "execution_count": 47,
     "metadata": {},
     "output_type": "execute_result"
    }
   ],
   "source": [
    "D5.items()"
   ]
  },
  {
   "cell_type": "code",
   "execution_count": 48,
   "id": "b0ae45e0-d753-4c8f-8db0-3a087fc55ee6",
   "metadata": {},
   "outputs": [
    {
     "data": {
      "text/plain": [
       "[('Numbers', [65, 99, 8, 4, 46, 45, 2, 4, 678, 8, 5]),\n",
       " ('Assignments', (1, 2, 3, 4, 5, 6, 7, 8, 9)),\n",
       " ('Launch date', {8, 9, 12, 15, 24, 31}),\n",
       " ('Batch timing',\n",
       "  {'Full Stack Web Development': '8AM',\n",
       "   'Data Science master': '8PM',\n",
       "   'Java with DSA': '3PM'})]"
      ]
     },
     "execution_count": 48,
     "metadata": {},
     "output_type": "execute_result"
    }
   ],
   "source": [
    "list(D5.items())"
   ]
  },
  {
   "cell_type": "code",
   "execution_count": 50,
   "id": "3458ce45-6b05-4414-bef7-fd2f7c471b7a",
   "metadata": {},
   "outputs": [
    {
     "data": {
      "text/plain": [
       "{'Full Stack Web Development': '8AM',\n",
       " 'Data Science master': '8PM',\n",
       " 'Java with DSA': '3PM'}"
      ]
     },
     "execution_count": 50,
     "metadata": {},
     "output_type": "execute_result"
    }
   ],
   "source": [
    "D5.pop(\"Batch timing\")"
   ]
  },
  {
   "cell_type": "code",
   "execution_count": 51,
   "id": "8ada5414-c4e8-4fe2-be68-3ec6aee3a2f4",
   "metadata": {},
   "outputs": [
    {
     "data": {
      "text/plain": [
       "{'Numbers': [65, 99, 8, 4, 46, 45, 2, 4, 678, 8, 5],\n",
       " 'Assignments': (1, 2, 3, 4, 5, 6, 7, 8, 9),\n",
       " 'Launch date': {8, 9, 12, 15, 24, 31}}"
      ]
     },
     "execution_count": 51,
     "metadata": {},
     "output_type": "execute_result"
    }
   ],
   "source": [
    "D5"
   ]
  },
  {
   "cell_type": "code",
   "execution_count": 53,
   "id": "4f228b2e-47dd-4411-b078-0785558f9a49",
   "metadata": {},
   "outputs": [],
   "source": [
    "# Dictionary is a mutable object"
   ]
  },
  {
   "cell_type": "code",
   "execution_count": 55,
   "id": "8a729784-7da8-4fd2-9814-15eb3bc647b0",
   "metadata": {},
   "outputs": [
    {
     "name": "stdout",
     "output_type": "stream",
     "text": [
      "You will be a part of A0 Batch\n"
     ]
    }
   ],
   "source": [
    "marks = 85\n",
    "if marks >= 80 :\n",
    "    print(\"You will be a part of A0 Batch\")\n",
    "elif marks >= 60 and marks < 80 : \n",
    "    print(\"You will be a part of A1 Batch\")\n",
    "elif marks >= 40 and marks < 60 :\n",
    "    print(\"You will be a part of A2 Batch\")\n",
    "else :\n",
    "    print(\"You will be a part of A3 Batch\")"
   ]
  },
  {
   "cell_type": "code",
   "execution_count": 60,
   "id": "998a812f-0cdd-4590-b7a9-d0bb1f559ade",
   "metadata": {},
   "outputs": [
    {
     "name": "stdin",
     "output_type": "stream",
     "text": [
      "Enter Your Marks 65\n"
     ]
    },
    {
     "name": "stdout",
     "output_type": "stream",
     "text": [
      "You will be a part of A1 Batch\n"
     ]
    }
   ],
   "source": [
    "marks = int(input(\"Enter Your Marks\"))\n",
    "if marks >= 80:\n",
    "    print(\"You will be a part of A0 Batch\")\n",
    "elif marks >=60 and marks < 80:\n",
    "    print(\"You will be a part of A1 Batch\")\n",
    "elif marks >= 40 and marks < 60 :\n",
    "    print(\"You will be a part of A2 Batch\")\n",
    "else :\n",
    "    print(\"You will be a part of A3 Batch\")"
   ]
  },
  {
   "cell_type": "code",
   "execution_count": 61,
   "id": "148ccac6-d7c6-4d59-a691-fcfd414f20b1",
   "metadata": {},
   "outputs": [
    {
     "name": "stdin",
     "output_type": "stream",
     "text": [
      "Enter Your Marks 98\n"
     ]
    },
    {
     "name": "stdout",
     "output_type": "stream",
     "text": [
      "You will be a part of A0 Batch\n"
     ]
    }
   ],
   "source": [
    "marks = int(input(\"Enter Your Marks\"))\n",
    "if marks >= 80:\n",
    "    print(\"You will be a part of A0 Batch\")\n",
    "elif marks >=60 and marks < 80:\n",
    "    print(\"You will be a part of A1 Batch\")\n",
    "elif marks >= 40 and marks < 60 :\n",
    "    print(\"You will be a part of A2 Batch\")\n",
    "else :\n",
    "    print(\"You will be a part of A3 Batch\")"
   ]
  },
  {
   "cell_type": "code",
   "execution_count": 62,
   "id": "8d45a109-d912-49e8-9258-a66806cede11",
   "metadata": {},
   "outputs": [
    {
     "name": "stdin",
     "output_type": "stream",
     "text": [
      "What is the price of the product 700\n"
     ]
    },
    {
     "name": "stdout",
     "output_type": "stream",
     "text": [
      "I will purchase\n"
     ]
    }
   ],
   "source": [
    "price = int(input(\"What is the price of the product\"))\n",
    "if price > 1000 :\n",
    "    print(\"I will not purchase\")\n",
    "    if price > 5000:\n",
    "        print(\"This is too expensive\")\n",
    "        if price > 10000:\n",
    "            print(\"Tera ghar jaayenga isme\")\n",
    "else :\n",
    "    print(\"I will purchase\")"
   ]
  },
  {
   "cell_type": "code",
   "execution_count": 64,
   "id": "fe77fae0-14ab-404c-b811-d6e4e9571053",
   "metadata": {},
   "outputs": [
    {
     "name": "stdin",
     "output_type": "stream",
     "text": [
      "What is the price of the product 6000\n"
     ]
    },
    {
     "name": "stdout",
     "output_type": "stream",
     "text": [
      "I will not purchase\n",
      "This is too expensive\n"
     ]
    }
   ],
   "source": [
    "price = int(input(\"What is the price of the product\"))\n",
    "if price > 1000 :\n",
    "    print(\"I will not purchase\")\n",
    "    if price > 5000:\n",
    "        print(\"This is too expensive\")\n",
    "        if price > 10000:\n",
    "            print(\"Tera ghar jaayenga isme\")\n",
    "else :\n",
    "    print(\"I will purchase\")"
   ]
  },
  {
   "cell_type": "code",
   "execution_count": 65,
   "id": "f317bc3a-56bc-4404-a775-2c7f050e1b87",
   "metadata": {},
   "outputs": [
    {
     "name": "stdin",
     "output_type": "stream",
     "text": [
      "What is the price of the product 15000\n"
     ]
    },
    {
     "name": "stdout",
     "output_type": "stream",
     "text": [
      "I will not purchase\n",
      "This is too expensive\n",
      "Tera ghar jaayenga isme\n"
     ]
    }
   ],
   "source": [
    "price = int(input(\"What is the price of the product\"))\n",
    "if price > 1000 :\n",
    "    print(\"I will not purchase\")\n",
    "    if price > 5000:\n",
    "        print(\"This is too expensive\")\n",
    "        if price > 10000:\n",
    "            print(\"Tera ghar jaayenga isme\")\n",
    "else :\n",
    "    print(\"I will purchase\")"
   ]
  },
  {
   "cell_type": "code",
   "execution_count": 66,
   "id": "f370ab0a-b837-4403-9e9c-728a4dce8973",
   "metadata": {},
   "outputs": [],
   "source": [
    "Integers = [1,2,3,4,5,6,7,8]"
   ]
  },
  {
   "cell_type": "code",
   "execution_count": 67,
   "id": "bea9c988-3629-4bd5-ab42-22061bd40948",
   "metadata": {},
   "outputs": [
    {
     "data": {
      "text/plain": [
       "1"
      ]
     },
     "execution_count": 67,
     "metadata": {},
     "output_type": "execute_result"
    }
   ],
   "source": [
    "Integers[0]"
   ]
  },
  {
   "cell_type": "code",
   "execution_count": 69,
   "id": "3686ab49-787c-4d14-b965-f59597a76a6d",
   "metadata": {},
   "outputs": [],
   "source": [
    "new = []"
   ]
  },
  {
   "cell_type": "code",
   "execution_count": 71,
   "id": "df037231-f553-4095-8228-79f0d4cbfc7a",
   "metadata": {},
   "outputs": [],
   "source": [
    "new.append(Integers[0]+ 1)"
   ]
  },
  {
   "cell_type": "code",
   "execution_count": 72,
   "id": "cd8a0ada-dab5-4c22-b652-14a9c9f35bcf",
   "metadata": {},
   "outputs": [
    {
     "data": {
      "text/plain": [
       "[2]"
      ]
     },
     "execution_count": 72,
     "metadata": {},
     "output_type": "execute_result"
    }
   ],
   "source": [
    "new"
   ]
  },
  {
   "cell_type": "code",
   "execution_count": 73,
   "id": "1d63e6cd-79af-4dbb-a979-61b2cea94be7",
   "metadata": {},
   "outputs": [],
   "source": [
    "Integers.append(Integers[0]+ 1)"
   ]
  },
  {
   "cell_type": "code",
   "execution_count": 74,
   "id": "c282f06d-0102-45bc-bd35-4139c94ea68a",
   "metadata": {},
   "outputs": [
    {
     "data": {
      "text/plain": [
       "[1, 2, 3, 4, 5, 6, 7, 8, 2]"
      ]
     },
     "execution_count": 74,
     "metadata": {},
     "output_type": "execute_result"
    }
   ],
   "source": [
    "Integers"
   ]
  },
  {
   "cell_type": "code",
   "execution_count": 76,
   "id": "9245a128-ac2a-4b09-a606-318c1e8b7163",
   "metadata": {},
   "outputs": [],
   "source": [
    "                                           # Loop"
   ]
  },
  {
   "cell_type": "code",
   "execution_count": 77,
   "id": "e5bfddbc-a940-4a04-af07-c066112aa47a",
   "metadata": {},
   "outputs": [
    {
     "name": "stdout",
     "output_type": "stream",
     "text": [
      "1\n",
      "2\n",
      "3\n",
      "4\n",
      "5\n",
      "6\n",
      "7\n",
      "8\n",
      "2\n"
     ]
    }
   ],
   "source": [
    "for Dash in Integers :\n",
    "    print(Dash)"
   ]
  },
  {
   "cell_type": "code",
   "execution_count": 81,
   "id": "c71b4825-9afd-40ce-88b9-5c7e57b9bdb3",
   "metadata": {},
   "outputs": [
    {
     "name": "stdout",
     "output_type": "stream",
     "text": [
      "2\n",
      "3\n",
      "4\n",
      "5\n",
      "6\n",
      "7\n",
      "8\n",
      "9\n",
      "3\n"
     ]
    }
   ],
   "source": [
    "for Dash in Integers :\n",
    "    print(Dash + 1)"
   ]
  },
  {
   "cell_type": "code",
   "execution_count": 87,
   "id": "ecd9e90e-f802-4399-9da1-909c32698d83",
   "metadata": {},
   "outputs": [
    {
     "name": "stdout",
     "output_type": "stream",
     "text": [
      "2\n",
      "3\n",
      "4\n",
      "5\n",
      "6\n",
      "7\n",
      "8\n",
      "9\n",
      "3\n"
     ]
    },
    {
     "data": {
      "text/plain": [
       "[2, 3, 4, 5, 6, 7, 8, 9, 3]"
      ]
     },
     "execution_count": 87,
     "metadata": {},
     "output_type": "execute_result"
    }
   ],
   "source": [
    "L1 = []\n",
    "for Dash in Integers:\n",
    "    print(Dash + 1)\n",
    "    L1.append(Dash + 1)\n",
    "L1"
   ]
  },
  {
   "cell_type": "code",
   "execution_count": 88,
   "id": "a5c88617-d4f1-4fa5-a2ae-f31a84510013",
   "metadata": {},
   "outputs": [
    {
     "data": {
      "text/plain": [
       "[2, 3, 4, 5, 6, 7, 8, 9, 3]"
      ]
     },
     "execution_count": 88,
     "metadata": {},
     "output_type": "execute_result"
    }
   ],
   "source": [
    "L2 = []\n",
    "for Dash in Integers :\n",
    "    L2.append(Dash + 1)\n",
    "L2 "
   ]
  },
  {
   "cell_type": "code",
   "execution_count": 90,
   "id": "c98037be-0326-48b3-a29d-3bf3c4006f5f",
   "metadata": {},
   "outputs": [
    {
     "data": {
      "text/plain": [
       "[2, 3, 4, 5, 6, 7, 8, 9, 3]"
      ]
     },
     "execution_count": 90,
     "metadata": {},
     "output_type": "execute_result"
    }
   ],
   "source": [
    "L1"
   ]
  },
  {
   "cell_type": "code",
   "execution_count": 91,
   "id": "756a3614-fafc-4b47-82d1-47c92784521b",
   "metadata": {},
   "outputs": [
    {
     "data": {
      "text/plain": [
       "[2, 3, 4, 5, 6, 7, 8, 9, 3]"
      ]
     },
     "execution_count": 91,
     "metadata": {},
     "output_type": "execute_result"
    }
   ],
   "source": [
    "L2"
   ]
  },
  {
   "cell_type": "code",
   "execution_count": 92,
   "id": "867deb85-9e78-4d82-8681-6539b9680278",
   "metadata": {},
   "outputs": [],
   "source": [
    "List = [\"Happy\", \"Chauhan\", \"Data\", \"Science\"]"
   ]
  },
  {
   "cell_type": "code",
   "execution_count": 93,
   "id": "023dd776-4cb3-42dc-af3e-50ebe5bdae76",
   "metadata": {},
   "outputs": [
    {
     "name": "stdout",
     "output_type": "stream",
     "text": [
      "HAPPY\n",
      "CHAUHAN\n",
      "DATA\n",
      "SCIENCE\n"
     ]
    },
    {
     "data": {
      "text/plain": [
       "['HAPPY', 'CHAUHAN', 'DATA', 'SCIENCE']"
      ]
     },
     "execution_count": 93,
     "metadata": {},
     "output_type": "execute_result"
    }
   ],
   "source": [
    "ravan = []\n",
    "for Itachi in List:\n",
    "    print(Itachi.upper())\n",
    "    ravan.append(Itachi.upper())\n",
    "ravan"
   ]
  },
  {
   "cell_type": "code",
   "execution_count": 94,
   "id": "51f60eed-ff4b-45f3-b08f-307a328629c6",
   "metadata": {},
   "outputs": [
    {
     "data": {
      "text/plain": [
       "['HAPPY', 'CHAUHAN', 'DATA', 'SCIENCE']"
      ]
     },
     "execution_count": 94,
     "metadata": {},
     "output_type": "execute_result"
    }
   ],
   "source": [
    "ravan"
   ]
  },
  {
   "cell_type": "code",
   "execution_count": 95,
   "id": "d6fb0917-a576-47b9-b7c0-c15ad4402171",
   "metadata": {},
   "outputs": [],
   "source": [
    "Mixed = [4,2,3,\"Happy\", \"Chauhan\", \"Data Science\", 45,6486,87.78789]"
   ]
  },
  {
   "cell_type": "code",
   "execution_count": 99,
   "id": "5be6ffbc-f398-4eea-942f-4da05f7310ee",
   "metadata": {},
   "outputs": [],
   "source": [
    "Number = []\n",
    "String = []\n",
    "for go in Mixed:\n",
    "    if type(go) == int or type(go) == float:\n",
    "        Number.append(go)\n",
    "    else :\n",
    "        String.append(go)    "
   ]
  },
  {
   "cell_type": "code",
   "execution_count": 100,
   "id": "c1ff2cbb-288b-4d36-bb14-f0addd6fb618",
   "metadata": {},
   "outputs": [
    {
     "data": {
      "text/plain": [
       "[4, 2, 3, 45, 6486, 87.78789]"
      ]
     },
     "execution_count": 100,
     "metadata": {},
     "output_type": "execute_result"
    }
   ],
   "source": [
    "Number"
   ]
  },
  {
   "cell_type": "code",
   "execution_count": 101,
   "id": "e66482d8-8f6c-4693-94d3-b4a539807df3",
   "metadata": {},
   "outputs": [
    {
     "data": {
      "text/plain": [
       "['Happy', 'Chauhan', 'Data Science']"
      ]
     },
     "execution_count": 101,
     "metadata": {},
     "output_type": "execute_result"
    }
   ],
   "source": [
    "String"
   ]
  },
  {
   "cell_type": "code",
   "execution_count": null,
   "id": "733f497b-0258-45e4-8b0e-9941a5fb4637",
   "metadata": {},
   "outputs": [],
   "source": []
  }
 ],
 "metadata": {
  "kernelspec": {
   "display_name": "Python 3 (ipykernel)",
   "language": "python",
   "name": "python3"
  },
  "language_info": {
   "codemirror_mode": {
    "name": "ipython",
    "version": 3
   },
   "file_extension": ".py",
   "mimetype": "text/x-python",
   "name": "python",
   "nbconvert_exporter": "python",
   "pygments_lexer": "ipython3",
   "version": "3.10.8"
  }
 },
 "nbformat": 4,
 "nbformat_minor": 5
}
