{
 "cells": [
  {
   "cell_type": "code",
   "execution_count": 36,
   "id": "604164b1-f532-4cc5-aa4e-e81fe63bb85c",
   "metadata": {},
   "outputs": [],
   "source": [
    "f = open(\"text.txt\", \"w\")"
   ]
  },
  {
   "cell_type": "code",
   "execution_count": 37,
   "id": "4dc7ccc0-a1d8-47ec-9b64-c686a4d48a4d",
   "metadata": {},
   "outputs": [
    {
     "data": {
      "text/plain": [
       "'/home/jovyan/work'"
      ]
     },
     "execution_count": 37,
     "metadata": {},
     "output_type": "execute_result"
    }
   ],
   "source": [
    "pwd"
   ]
  },
  {
   "cell_type": "code",
   "execution_count": 38,
   "id": "6e780fbe-92e2-4d6f-bf4b-61a8e967e928",
   "metadata": {},
   "outputs": [
    {
     "name": "stdout",
     "output_type": "stream",
     "text": [
      "'2nd feb Assignment.ipynb'\n",
      "'30 Jan Assignment.ipynb'\n",
      "'3rd feb Assignment.ipynb'\n",
      " Abstraction.ipynb\n",
      " Assignment.ipynb\n",
      " Checking\n",
      "'Class Methods.ipynb'\n",
      " Comprehension.ipynb\n",
      " Decorator.ipynb\n",
      "'Dict, Conditional, Loop.ipynb'\n",
      "'for Loop Pracrtice.ipynb'\n",
      "'Function 1.ipynb'\n",
      "'Generator Function.ipynb'\n",
      "'Lambda Function.ipynb'\n",
      "'List, tuples, sets .ipynb'\n",
      "'Map, Reduce, Filter Function.ipynb'\n",
      "'OOPS encapsulation.ipynb'\n",
      "'OOPS Inheritance.ipynb'\n",
      "'OOPS Part 1.ipynb'\n",
      "'OOPS Polymorphism.ipynb'\n",
      "'Python Basics.ipynb'\n",
      "'Special (Magic or Dunder) Methods and Property Decorators - Getters, Setters, and Deletes.ipynb'\n",
      "'Static Method.ipynb'\n",
      " text.txt\n",
      "'While loop.ipynb'\n",
      "'Working with files.ipynb'\n"
     ]
    }
   ],
   "source": [
    "ls"
   ]
  },
  {
   "cell_type": "code",
   "execution_count": 39,
   "id": "ffa35cb6-bc03-4afd-8a52-cbd95ed7b1c0",
   "metadata": {},
   "outputs": [],
   "source": [
    "# cd means change the directory and we can change the directing easily"
   ]
  },
  {
   "cell_type": "code",
   "execution_count": 40,
   "id": "4e07e500-24d3-4d99-8db5-a9591faea81c",
   "metadata": {},
   "outputs": [
    {
     "data": {
      "text/plain": [
       "30"
      ]
     },
     "execution_count": 40,
     "metadata": {},
     "output_type": "execute_result"
    }
   ],
   "source": [
    "f.write(\"This is my first file to write\")"
   ]
  },
  {
   "cell_type": "code",
   "execution_count": 41,
   "id": "851e45ed-1c72-4fbd-95a1-abf490c6aef9",
   "metadata": {},
   "outputs": [],
   "source": [
    "f.close()"
   ]
  },
  {
   "cell_type": "code",
   "execution_count": 42,
   "id": "6ae8a48c-8ecb-4579-8e72-a496c3932b90",
   "metadata": {},
   "outputs": [],
   "source": [
    "f = open(\"text.txt\", \"w\")"
   ]
  },
  {
   "cell_type": "code",
   "execution_count": 43,
   "id": "1a04e53e-eaae-46c2-834e-273b8bc46416",
   "metadata": {},
   "outputs": [
    {
     "data": {
      "text/plain": [
       "15"
      ]
     },
     "execution_count": 43,
     "metadata": {},
     "output_type": "execute_result"
    }
   ],
   "source": [
    "f.write(\"This is my file\")"
   ]
  },
  {
   "cell_type": "code",
   "execution_count": 44,
   "id": "25fd62a4-0b05-4541-a862-7c365b9aa884",
   "metadata": {},
   "outputs": [],
   "source": [
    "f.close()"
   ]
  },
  {
   "cell_type": "code",
   "execution_count": 45,
   "id": "161939f0-2c5a-4419-a7a1-d0117d472e66",
   "metadata": {},
   "outputs": [],
   "source": [
    "f = open(\"text.txt\", \"a\")"
   ]
  },
  {
   "cell_type": "code",
   "execution_count": 46,
   "id": "caf60ad9-ea7c-4d7a-bbc8-3ae79716e9d7",
   "metadata": {},
   "outputs": [
    {
     "data": {
      "text/plain": [
       "221"
      ]
     },
     "execution_count": 46,
     "metadata": {},
     "output_type": "execute_result"
    }
   ],
   "source": [
    "f.write(\"My name is Happy Chauhan and I am going to be a Data Scientist I will be earning in crores and will make my parents proud so that my father could feel proud in the heaven and my mother can earn more respect in the society\")"
   ]
  },
  {
   "cell_type": "code",
   "execution_count": 47,
   "id": "b3590a59-082c-42f0-a6fc-fd63b57f9a62",
   "metadata": {},
   "outputs": [],
   "source": [
    "f.close()"
   ]
  },
  {
   "cell_type": "code",
   "execution_count": 48,
   "id": "f1854042-510a-4e23-8002-d165fceacb99",
   "metadata": {},
   "outputs": [],
   "source": [
    "f = open(\"text.txt\",\"r\")"
   ]
  },
  {
   "cell_type": "code",
   "execution_count": 49,
   "id": "ca18b716-15f6-4af8-bc09-dd62f93647aa",
   "metadata": {},
   "outputs": [
    {
     "data": {
      "text/plain": [
       "'This is my fileMy name is Happy Chauhan and I am going to be a Data Scientist I will be earning in crores and will make my parents proud so that my father could feel proud in the heaven and my mother can earn more respect in the society'"
      ]
     },
     "execution_count": 49,
     "metadata": {},
     "output_type": "execute_result"
    }
   ],
   "source": [
    "f.read()"
   ]
  },
  {
   "cell_type": "code",
   "execution_count": 50,
   "id": "7b6c05dd-ca17-4795-924e-fdeb160fde05",
   "metadata": {},
   "outputs": [
    {
     "data": {
      "text/plain": [
       "''"
      ]
     },
     "execution_count": 50,
     "metadata": {},
     "output_type": "execute_result"
    }
   ],
   "source": [
    "f.readline()"
   ]
  },
  {
   "cell_type": "code",
   "execution_count": 51,
   "id": "6b11b38c-13a8-42b6-bfb5-1ee4084c38c6",
   "metadata": {},
   "outputs": [
    {
     "data": {
      "text/plain": [
       "0"
      ]
     },
     "execution_count": 51,
     "metadata": {},
     "output_type": "execute_result"
    }
   ],
   "source": [
    "f.seek(0)"
   ]
  },
  {
   "cell_type": "code",
   "execution_count": 52,
   "id": "68015b47-969f-4a12-8e13-f0e2fff830a5",
   "metadata": {},
   "outputs": [
    {
     "data": {
      "text/plain": [
       "'This is my fileMy name is Happy Chauhan and I am going to be a Data Scientist I will be earning in crores and will make my parents proud so that my father could feel proud in the heaven and my mother can earn more respect in the society'"
      ]
     },
     "execution_count": 52,
     "metadata": {},
     "output_type": "execute_result"
    }
   ],
   "source": [
    "f.readline()"
   ]
  },
  {
   "cell_type": "code",
   "execution_count": 53,
   "id": "b4869b12-f8f9-419d-bc53-f5dc1247ad63",
   "metadata": {},
   "outputs": [
    {
     "data": {
      "text/plain": [
       "66"
      ]
     },
     "execution_count": 53,
     "metadata": {},
     "output_type": "execute_result"
    }
   ],
   "source": [
    "f.seek(66)"
   ]
  },
  {
   "cell_type": "code",
   "execution_count": 54,
   "id": "f496f85e-fc79-426c-8613-5de8f563b2c2",
   "metadata": {},
   "outputs": [
    {
     "data": {
      "text/plain": [
       "'a Scientist I will be earning in crores and will make my parents proud so that my father could feel proud in the heaven and my mother can earn more respect in the society'"
      ]
     },
     "execution_count": 54,
     "metadata": {},
     "output_type": "execute_result"
    }
   ],
   "source": [
    "f.readline()"
   ]
  },
  {
   "cell_type": "code",
   "execution_count": 55,
   "id": "10886753-6551-45fa-a8d5-403180be65e8",
   "metadata": {},
   "outputs": [],
   "source": [
    "file = open(\"text.txt\", \"r\")"
   ]
  },
  {
   "cell_type": "code",
   "execution_count": 56,
   "id": "67b94bc7-05da-4edd-b4fd-3d8214232f64",
   "metadata": {},
   "outputs": [
    {
     "name": "stdout",
     "output_type": "stream",
     "text": [
      "This is my fileMy name is Happy Chauhan and I am going to be a Data Scientist I will be earning in crores and will make my parents proud so that my father could feel proud in the heaven and my mother can earn more respect in the society\n"
     ]
    }
   ],
   "source": [
    "for i in file:\n",
    "    print(i)"
   ]
  },
  {
   "cell_type": "code",
   "execution_count": 57,
   "id": "ff257740-56df-46e9-83d2-d8dfc6e0ccb7",
   "metadata": {},
   "outputs": [],
   "source": [
    "import os"
   ]
  },
  {
   "cell_type": "code",
   "execution_count": 58,
   "id": "178f613a-869a-44f2-829b-aefb2328547c",
   "metadata": {},
   "outputs": [
    {
     "data": {
      "text/plain": [
       "236"
      ]
     },
     "execution_count": 58,
     "metadata": {},
     "output_type": "execute_result"
    }
   ],
   "source": [
    "os.path.getsize(\"text.txt\")"
   ]
  },
  {
   "cell_type": "code",
   "execution_count": 59,
   "id": "e8502725-ddef-4104-8792-7f4bf82d857a",
   "metadata": {},
   "outputs": [],
   "source": [
    "os.remove(\"text.txt\")"
   ]
  },
  {
   "cell_type": "code",
   "execution_count": 60,
   "id": "4f1bd7ec-3e23-414a-9c1e-0f940092c0e6",
   "metadata": {},
   "outputs": [],
   "source": [
    "ana = open(\"text.txt\", \"w\")"
   ]
  },
  {
   "cell_type": "code",
   "execution_count": 61,
   "id": "4dea152d-0816-4afb-a714-cc99ae9d82b9",
   "metadata": {},
   "outputs": [
    {
     "data": {
      "text/plain": [
       "12"
      ]
     },
     "execution_count": 61,
     "metadata": {},
     "output_type": "execute_result"
    }
   ],
   "source": [
    "ana.write(\"Checking 123\")"
   ]
  },
  {
   "cell_type": "code",
   "execution_count": 62,
   "id": "d893317e-716a-4230-976b-19bce8d04400",
   "metadata": {},
   "outputs": [],
   "source": [
    "ana.close()"
   ]
  },
  {
   "cell_type": "code",
   "execution_count": 63,
   "id": "3e724c0c-71d2-4c07-bb5e-3dfed8b58ad4",
   "metadata": {},
   "outputs": [],
   "source": [
    "os.rename(\"text.txt\", \"Checking.txt\")"
   ]
  },
  {
   "cell_type": "code",
   "execution_count": 64,
   "id": "0ed56df0-16d9-4656-aba6-9aacdb4fc53b",
   "metadata": {},
   "outputs": [],
   "source": [
    "import shutil"
   ]
  },
  {
   "cell_type": "code",
   "execution_count": 65,
   "id": "c2aba907-da51-414b-a097-53a12cc3dd83",
   "metadata": {},
   "outputs": [
    {
     "data": {
      "text/plain": [
       "'Copy_Checking.txt'"
      ]
     },
     "execution_count": 65,
     "metadata": {},
     "output_type": "execute_result"
    }
   ],
   "source": [
    "shutil.copy(\"Checking.txt\", \"Copy_Checking.txt\")"
   ]
  },
  {
   "cell_type": "code",
   "execution_count": 67,
   "id": "19c7c284-f698-44d4-94a3-556a0f8a2619",
   "metadata": {},
   "outputs": [
    {
     "name": "stdout",
     "output_type": "stream",
     "text": [
      "Checking 123\n"
     ]
    }
   ],
   "source": [
    "with open(\"Checking.txt\", \"r\") as text:\n",
    "    print(text.read())"
   ]
  },
  {
   "cell_type": "code",
   "execution_count": null,
   "id": "e0b147ff-6543-407d-8247-a2943bec4e8a",
   "metadata": {},
   "outputs": [],
   "source": []
  }
 ],
 "metadata": {
  "kernelspec": {
   "display_name": "Python 3 (ipykernel)",
   "language": "python",
   "name": "python3"
  },
  "language_info": {
   "codemirror_mode": {
    "name": "ipython",
    "version": 3
   },
   "file_extension": ".py",
   "mimetype": "text/x-python",
   "name": "python",
   "nbconvert_exporter": "python",
   "pygments_lexer": "ipython3",
   "version": "3.10.8"
  }
 },
 "nbformat": 4,
 "nbformat_minor": 5
}
