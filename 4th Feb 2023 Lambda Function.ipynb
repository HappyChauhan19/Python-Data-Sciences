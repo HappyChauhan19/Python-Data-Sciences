{
 "cells": [
  {
   "cell_type": "code",
   "execution_count": 1,
   "id": "5e1e039a-abb1-4a84-9a6e-9a86e6609f09",
   "metadata": {},
   "outputs": [],
   "source": [
    "x = 4\n",
    "y = 3"
   ]
  },
  {
   "cell_type": "code",
   "execution_count": 2,
   "id": "515bf458-907c-49f4-a292-2553ed7431e4",
   "metadata": {},
   "outputs": [],
   "source": [
    "def power(x,y):\n",
    "    return x**y"
   ]
  },
  {
   "cell_type": "code",
   "execution_count": 3,
   "id": "6dc9dec0-7c15-41db-ae24-ef4c9176caeb",
   "metadata": {},
   "outputs": [
    {
     "data": {
      "text/plain": [
       "16815125390625"
      ]
     },
     "execution_count": 3,
     "metadata": {},
     "output_type": "execute_result"
    }
   ],
   "source": [
    "power(45,8)"
   ]
  },
  {
   "cell_type": "code",
   "execution_count": 5,
   "id": "2822526b-32f9-441c-a324-248d368012aa",
   "metadata": {},
   "outputs": [
    {
     "name": "stdin",
     "output_type": "stream",
     "text": [
      "Enter the base value 10\n",
      "Enter the power value 5\n"
     ]
    },
    {
     "name": "stdout",
     "output_type": "stream",
     "text": [
      "100000\n"
     ]
    }
   ],
   "source": [
    "s = int(input(\"Enter the base value\"))\n",
    "r = int(input(\"Enter the power value\"))\n",
    "def power1(s,r):\n",
    "    return s**r\n",
    "print(power1(s,r))"
   ]
  },
  {
   "cell_type": "code",
   "execution_count": 7,
   "id": "57d7d70a-ed20-4e4a-8311-c1004ed4d8a4",
   "metadata": {},
   "outputs": [],
   "source": [
    "ch = lambda a, b : a**b"
   ]
  },
  {
   "cell_type": "code",
   "execution_count": 8,
   "id": "19c4debd-a9a2-4030-a3ed-e71cf8af2eb8",
   "metadata": {},
   "outputs": [
    {
     "data": {
      "text/plain": [
       "100000"
      ]
     },
     "execution_count": 8,
     "metadata": {},
     "output_type": "execute_result"
    }
   ],
   "source": [
    "ch(10,5)"
   ]
  },
  {
   "cell_type": "code",
   "execution_count": 18,
   "id": "890d92a3-96ce-4765-a299-d4345c7b926d",
   "metadata": {},
   "outputs": [],
   "source": [
    "add = lambda a, b : a+b"
   ]
  },
  {
   "cell_type": "code",
   "execution_count": 20,
   "id": "81da3879-b7a8-461d-b533-99dedfc17104",
   "metadata": {},
   "outputs": [
    {
     "data": {
      "text/plain": [
       "9"
      ]
     },
     "execution_count": 20,
     "metadata": {},
     "output_type": "execute_result"
    }
   ],
   "source": [
    "add(4,5)"
   ]
  },
  {
   "cell_type": "code",
   "execution_count": 24,
   "id": "14ea0314-fb34-4c2f-9540-bbfd9b9952bb",
   "metadata": {},
   "outputs": [],
   "source": [
    "c_2_f = lambda c : (9/5)*c + 32"
   ]
  },
  {
   "cell_type": "code",
   "execution_count": 25,
   "id": "54d14faf-2535-47c0-9730-0b8fcca184a9",
   "metadata": {},
   "outputs": [
    {
     "data": {
      "text/plain": [
       "113.0"
      ]
     },
     "execution_count": 25,
     "metadata": {},
     "output_type": "execute_result"
    }
   ],
   "source": [
    "c_2_f(45)"
   ]
  },
  {
   "cell_type": "code",
   "execution_count": 32,
   "id": "b46f12df-1b58-408d-8920-273095bc36f2",
   "metadata": {},
   "outputs": [
    {
     "name": "stdout",
     "output_type": "stream",
     "text": [
      "541\n"
     ]
    }
   ],
   "source": [
    "maxima = lambda a,b : a if a > b else b\n",
    "print(maxima(54,541))"
   ]
  },
  {
   "cell_type": "code",
   "execution_count": 39,
   "id": "4ce29ebc-d56b-488c-8cd4-2ec29794f2aa",
   "metadata": {},
   "outputs": [
    {
     "name": "stdin",
     "output_type": "stream",
     "text": [
      "Type the word My name is Happy Chauhan\n"
     ]
    },
    {
     "name": "stdout",
     "output_type": "stream",
     "text": [
      "24\n"
     ]
    }
   ],
   "source": [
    "z = input(\"Type the word\")\n",
    "length = lambda z : len(z)\n",
    "print(length(z))"
   ]
  },
  {
   "cell_type": "code",
   "execution_count": 40,
   "id": "05b4aa73-5242-47eb-aab1-4ca4f2a5e980",
   "metadata": {},
   "outputs": [
    {
     "data": {
      "text/plain": [
       "24"
      ]
     },
     "execution_count": 40,
     "metadata": {},
     "output_type": "execute_result"
    }
   ],
   "source": [
    "length(z)"
   ]
  },
  {
   "cell_type": "code",
   "execution_count": null,
   "id": "f9b4fd21-35e2-4549-a543-57601d34d8f9",
   "metadata": {},
   "outputs": [],
   "source": []
  }
 ],
 "metadata": {
  "kernelspec": {
   "display_name": "Python 3 (ipykernel)",
   "language": "python",
   "name": "python3"
  },
  "language_info": {
   "codemirror_mode": {
    "name": "ipython",
    "version": 3
   },
   "file_extension": ".py",
   "mimetype": "text/x-python",
   "name": "python",
   "nbconvert_exporter": "python",
   "pygments_lexer": "ipython3",
   "version": "3.10.8"
  }
 },
 "nbformat": 4,
 "nbformat_minor": 5
}
