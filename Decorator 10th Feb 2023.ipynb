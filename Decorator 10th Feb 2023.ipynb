{
 "cells": [
  {
   "cell_type": "code",
   "execution_count": 1,
   "id": "c595ecd2-4f78-4e07-8b2b-c764d3bfe9ba",
   "metadata": {},
   "outputs": [],
   "source": [
    "def you():\n",
    "    print(\"This is a class of decorator\")"
   ]
  },
  {
   "cell_type": "code",
   "execution_count": 2,
   "id": "a2a2c482-aaa2-45bd-8c38-b9df3044c36c",
   "metadata": {},
   "outputs": [
    {
     "name": "stdout",
     "output_type": "stream",
     "text": [
      "This is a class of decorator\n"
     ]
    }
   ],
   "source": [
    "you()"
   ]
  },
  {
   "cell_type": "code",
   "execution_count": 4,
   "id": "6236117c-952d-4867-ad1f-a217e136bd83",
   "metadata": {},
   "outputs": [],
   "source": [
    "def your():\n",
    "    print(\"This is the start function\")\n",
    "    print(\"This is the function to express\")\n",
    "    print(654+878)\n",
    "    print(\"This is the end function\")"
   ]
  },
  {
   "cell_type": "code",
   "execution_count": 5,
   "id": "2add1dd0-e93f-444a-961b-40f75267d1da",
   "metadata": {},
   "outputs": [
    {
     "name": "stdout",
     "output_type": "stream",
     "text": [
      "This is the start function\n",
      "This is the function to express\n",
      "1532\n",
      "This is the end function\n"
     ]
    }
   ],
   "source": [
    "your()"
   ]
  },
  {
   "cell_type": "code",
   "execution_count": 6,
   "id": "fe232a42-c18b-4129-b08c-cf04b9d4640e",
   "metadata": {},
   "outputs": [],
   "source": [
    "def deco(func):\n",
    "    def inner_dec():\n",
    "        print(\"This is the start function\")\n",
    "        func()\n",
    "        print(\"This is the end function\")\n",
    "    return inner_dec"
   ]
  },
  {
   "cell_type": "code",
   "execution_count": 7,
   "id": "3434ae8d-410d-482d-820b-87121b4be982",
   "metadata": {},
   "outputs": [],
   "source": [
    "def test1():\n",
    "    print(546+56489)"
   ]
  },
  {
   "cell_type": "code",
   "execution_count": 8,
   "id": "0f6783e6-629c-43f1-b0da-4d6cf4e7ec8b",
   "metadata": {},
   "outputs": [
    {
     "name": "stdout",
     "output_type": "stream",
     "text": [
      "57035\n"
     ]
    }
   ],
   "source": [
    "test1()"
   ]
  },
  {
   "cell_type": "code",
   "execution_count": 9,
   "id": "56cb431a-892e-48a5-8d70-be93b6f75293",
   "metadata": {},
   "outputs": [],
   "source": [
    "@deco\n",
    "def test1():\n",
    "    print(546+56489)"
   ]
  },
  {
   "cell_type": "code",
   "execution_count": 10,
   "id": "d79bf997-7f43-4200-8387-2ab80259f395",
   "metadata": {},
   "outputs": [
    {
     "name": "stdout",
     "output_type": "stream",
     "text": [
      "This is the start function\n",
      "57035\n",
      "This is the end function\n"
     ]
    }
   ],
   "source": [
    "test1()"
   ]
  },
  {
   "cell_type": "code",
   "execution_count": 17,
   "id": "fb7271e8-e7fc-4590-bac5-34ee44401cde",
   "metadata": {},
   "outputs": [],
   "source": [
    "import time\n",
    "\n",
    "def timer(func):\n",
    "    def timer_inner_function():\n",
    "        start = time.time()\n",
    "        func()\n",
    "        end = time.time()\n",
    "        print(end - start)\n",
    "    return timer_inner_function"
   ]
  },
  {
   "cell_type": "code",
   "execution_count": 18,
   "id": "57f3f0d3-474e-408f-8c9b-a27d6f8c975b",
   "metadata": {},
   "outputs": [],
   "source": [
    "def time1():\n",
    "    print(548647613+789231723178)"
   ]
  },
  {
   "cell_type": "code",
   "execution_count": 19,
   "id": "3c475749-fb03-4cbb-a2d0-4b34af1608d6",
   "metadata": {},
   "outputs": [
    {
     "name": "stdout",
     "output_type": "stream",
     "text": [
      "789780370791\n"
     ]
    }
   ],
   "source": [
    "time1()"
   ]
  },
  {
   "cell_type": "code",
   "execution_count": 20,
   "id": "ea90555b-2012-4d72-9c27-b38cb22e051d",
   "metadata": {},
   "outputs": [],
   "source": [
    "@timer\n",
    "def time1():\n",
    "    print(548647613+789231723178)"
   ]
  },
  {
   "cell_type": "code",
   "execution_count": 21,
   "id": "2b672c3b-e275-40d7-a1f7-030cf828b389",
   "metadata": {},
   "outputs": [
    {
     "name": "stdout",
     "output_type": "stream",
     "text": [
      "789780370791\n",
      "4.1961669921875e-05\n"
     ]
    }
   ],
   "source": [
    "time1()"
   ]
  },
  {
   "cell_type": "code",
   "execution_count": 24,
   "id": "d7c7573c-add4-42d4-b320-4858bf1e8da1",
   "metadata": {},
   "outputs": [],
   "source": [
    "@timer\n",
    "def idea ():\n",
    "    for i in range (6546):\n",
    "        pass"
   ]
  },
  {
   "cell_type": "code",
   "execution_count": null,
   "id": "34e1b7d8-e07f-4a5a-aa86-2e097fb138bd",
   "metadata": {},
   "outputs": [],
   "source": [
    "idea()"
   ]
  },
  {
   "cell_type": "code",
   "execution_count": null,
   "id": "fd32bd98-733f-457a-88e2-07d9a9836edb",
   "metadata": {},
   "outputs": [],
   "source": [
    "@timer\n",
    "def idea1():\n",
    "    for p in range(2454547):\n",
    "        pass"
   ]
  },
  {
   "cell_type": "code",
   "execution_count": null,
   "id": "fe68322b-113a-4a98-9cb2-b597f01e7903",
   "metadata": {},
   "outputs": [],
   "source": [
    "idea1()"
   ]
  }
 ],
 "metadata": {
  "kernelspec": {
   "display_name": "Python 3 (ipykernel)",
   "language": "python",
   "name": "python3"
  },
  "language_info": {
   "codemirror_mode": {
    "name": "ipython",
    "version": 3
   },
   "file_extension": ".py",
   "mimetype": "text/x-python",
   "name": "python",
   "nbconvert_exporter": "python",
   "pygments_lexer": "ipython3",
   "version": "3.10.8"
  }
 },
 "nbformat": 4,
 "nbformat_minor": 5
}
