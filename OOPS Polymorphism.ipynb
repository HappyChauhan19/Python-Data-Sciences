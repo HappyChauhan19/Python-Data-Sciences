{
 "cells": [
  {
   "cell_type": "code",
   "execution_count": 1,
   "id": "197e74f8-71c5-435e-94fb-eed97908c577",
   "metadata": {},
   "outputs": [],
   "source": [
    "def test(a,b):\n",
    "    return a + b"
   ]
  },
  {
   "cell_type": "code",
   "execution_count": 3,
   "id": "2d38d3e8-24b4-4172-9c4c-bfb0bf48ff0e",
   "metadata": {},
   "outputs": [
    {
     "data": {
      "text/plain": [
       "6501"
      ]
     },
     "execution_count": 3,
     "metadata": {},
     "output_type": "execute_result"
    }
   ],
   "source": [
    "test(45,6456)"
   ]
  },
  {
   "cell_type": "code",
   "execution_count": 5,
   "id": "247ccfd1-efcd-452a-8023-aba998440759",
   "metadata": {},
   "outputs": [
    {
     "data": {
      "text/plain": [
       "'Happy Chauhan'"
      ]
     },
     "execution_count": 5,
     "metadata": {},
     "output_type": "execute_result"
    }
   ],
   "source": [
    "test(\"Happy \",\"Chauhan\")"
   ]
  },
  {
   "cell_type": "code",
   "execution_count": 6,
   "id": "c5db450e-cd0e-4eb7-8dc1-0b573d9eb36f",
   "metadata": {},
   "outputs": [
    {
     "data": {
      "text/plain": [
       "[5, 54, 8, 4, 2, 1, 864, 87, 5, 48, 1, 27, 21, 864, 247, 561, 542, 45, 415]"
      ]
     },
     "execution_count": 6,
     "metadata": {},
     "output_type": "execute_result"
    }
   ],
   "source": [
    "test([5,54,8,4,2,1,864,87],[5,48,1,27,21,864,247,561,542,45,415])"
   ]
  },
  {
   "cell_type": "code",
   "execution_count": 7,
   "id": "eeae3945-3914-4ef7-aad2-8e94db28b42c",
   "metadata": {},
   "outputs": [],
   "source": [
    "# showing multiple behaviours of an entity"
   ]
  },
  {
   "cell_type": "code",
   "execution_count": 8,
   "id": "d04f4324-5fdc-4486-bc33-4e83c89cc434",
   "metadata": {},
   "outputs": [],
   "source": [
    "class data:\n",
    "    def syllabus(self):\n",
    "        print(\"This is my Syllabus for data science masters\")"
   ]
  },
  {
   "cell_type": "code",
   "execution_count": 9,
   "id": "82299f29-4459-4863-9ea2-aac526e86ecb",
   "metadata": {},
   "outputs": [],
   "source": [
    "class web_dev:\n",
    "    def syllabus(self):\n",
    "        print(\"This is my Syllabus for web development with DSA\")"
   ]
  },
  {
   "cell_type": "code",
   "execution_count": 10,
   "id": "5e8bb0ca-a286-4020-bf8c-51fa64da993d",
   "metadata": {},
   "outputs": [],
   "source": [
    "def class_parcer(class_object) :\n",
    "    for i in class_object:\n",
    "        i.syllabus()"
   ]
  },
  {
   "cell_type": "code",
   "execution_count": 11,
   "id": "d1779512-24cb-4502-9abd-b34c2ab3587d",
   "metadata": {},
   "outputs": [],
   "source": [
    "Data = data()"
   ]
  },
  {
   "cell_type": "code",
   "execution_count": 12,
   "id": "ec0f8989-9bff-49cd-883b-c2d136c5ca88",
   "metadata": {},
   "outputs": [],
   "source": [
    "Web = web_dev()"
   ]
  },
  {
   "cell_type": "code",
   "execution_count": 16,
   "id": "ad4f66a8-db7d-4988-9841-f6f84cdbb606",
   "metadata": {},
   "outputs": [],
   "source": [
    "class_object = [Data, Web]"
   ]
  },
  {
   "cell_type": "code",
   "execution_count": 17,
   "id": "be56e6c5-f62c-4909-ab8a-79ffac4a4f34",
   "metadata": {},
   "outputs": [
    {
     "name": "stdout",
     "output_type": "stream",
     "text": [
      "This is my Syllabus for data science masters\n",
      "This is my Syllabus for web development with DSA\n"
     ]
    }
   ],
   "source": [
    "class_parcer(class_object)"
   ]
  },
  {
   "cell_type": "code",
   "execution_count": null,
   "id": "2626767d-a48f-4248-8a19-7987c683d981",
   "metadata": {},
   "outputs": [],
   "source": []
  }
 ],
 "metadata": {
  "kernelspec": {
   "display_name": "Python 3 (ipykernel)",
   "language": "python",
   "name": "python3"
  },
  "language_info": {
   "codemirror_mode": {
    "name": "ipython",
    "version": 3
   },
   "file_extension": ".py",
   "mimetype": "text/x-python",
   "name": "python",
   "nbconvert_exporter": "python",
   "pygments_lexer": "ipython3",
   "version": "3.10.8"
  }
 },
 "nbformat": 4,
 "nbformat_minor": 5
}
