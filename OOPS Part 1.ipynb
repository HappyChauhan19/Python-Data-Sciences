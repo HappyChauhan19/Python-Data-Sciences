{
 "cells": [
  {
   "cell_type": "raw",
   "id": "3d9c4912-8970-4013-8415-9e4c5c07d8c3",
   "metadata": {},
   "source": [
    "# OOPS stands for Object Oriented Programming System"
   ]
  },
  {
   "cell_type": "code",
   "execution_count": 1,
   "id": "dd6bee17-386f-4e65-a9f7-453117bc2363",
   "metadata": {},
   "outputs": [],
   "source": [
    "value = 1"
   ]
  },
  {
   "cell_type": "code",
   "execution_count": 2,
   "id": "10a626b1-b9d8-4ec3-84b1-2d2f6060d5c8",
   "metadata": {},
   "outputs": [
    {
     "name": "stdout",
     "output_type": "stream",
     "text": [
      "<class 'int'>\n"
     ]
    }
   ],
   "source": [
    "print(type(value))"
   ]
  },
  {
   "cell_type": "code",
   "execution_count": 3,
   "id": "1f231604-4b54-491c-a874-216ad7a3f013",
   "metadata": {},
   "outputs": [
    {
     "name": "stdout",
     "output_type": "stream",
     "text": [
      "<class 'str'>\n"
     ]
    }
   ],
   "source": [
    "print(type(\"Happy Chauhan\"))"
   ]
  },
  {
   "cell_type": "raw",
   "id": "179c3d40-1587-4e4c-a290-3c896610c6ec",
   "metadata": {},
   "source": [
    "# Now here question arise that what is the meaning of class in the upper codes "
   ]
  },
  {
   "cell_type": "raw",
   "id": "b6dbb614-e7e9-41f4-a0f7-592f721718c5",
   "metadata": {},
   "source": [
    "# class is the blueprint of the real world entity\n",
    "Here value is object or variable or instance and the object is real world entity"
   ]
  },
  {
   "cell_type": "code",
   "execution_count": 6,
   "id": "f1e77b03-345a-429f-9ac1-11ee1571d473",
   "metadata": {},
   "outputs": [],
   "source": [
    "# To create class here"
   ]
  },
  {
   "cell_type": "code",
   "execution_count": 7,
   "id": "c7684dc5-7ad9-4432-a0d9-8ff5025777b4",
   "metadata": {},
   "outputs": [],
   "source": [
    "class tom:\n",
    "    pass"
   ]
  },
  {
   "cell_type": "raw",
   "id": "f635976f-5843-4dab-918d-96bae2861efc",
   "metadata": {},
   "source": [
    "# this creates a blank class\n",
    "# Class is used to create a different class for different types of the modules \n",
    "# for eg. a class of front end, a class for the back end, a class for the database etc.\n",
    "It makes the code reusable and make it in the structured form "
   ]
  },
  {
   "cell_type": "code",
   "execution_count": 9,
   "id": "d213d18b-56ac-49a6-93af-28763bcd9e85",
   "metadata": {},
   "outputs": [],
   "source": [
    "what = tom()"
   ]
  },
  {
   "cell_type": "code",
   "execution_count": 10,
   "id": "9dbd1e6a-4c0a-4253-8cdd-0456260b0512",
   "metadata": {},
   "outputs": [
    {
     "data": {
      "text/plain": [
       "__main__.tom"
      ]
     },
     "execution_count": 10,
     "metadata": {},
     "output_type": "execute_result"
    }
   ],
   "source": [
    "type(what)"
   ]
  },
  {
   "cell_type": "code",
   "execution_count": 11,
   "id": "4d31d4d7-3309-4cd6-b63d-e3fc30dea2e2",
   "metadata": {},
   "outputs": [
    {
     "name": "stdout",
     "output_type": "stream",
     "text": [
      "<class '__main__.tom'>\n"
     ]
    }
   ],
   "source": [
    "print(type(what))"
   ]
  },
  {
   "cell_type": "code",
   "execution_count": 12,
   "id": "572c1e49-ae9f-44fb-8806-5a72c47a31d5",
   "metadata": {},
   "outputs": [],
   "source": [
    "# We can add any variable and function or method in it"
   ]
  },
  {
   "cell_type": "code",
   "execution_count": 13,
   "id": "16a9e962-acec-4c8a-b539-558f34edcdb8",
   "metadata": {},
   "outputs": [],
   "source": [
    "class jerry :\n",
    "    def name():\n",
    "        print(\"My name is Happy Chauhan\")"
   ]
  },
  {
   "cell_type": "code",
   "execution_count": 14,
   "id": "2c701eb4-c662-45b9-8dc1-c948d53af305",
   "metadata": {},
   "outputs": [],
   "source": [
    "happy = jerry()"
   ]
  },
  {
   "cell_type": "code",
   "execution_count": 15,
   "id": "1beebb90-1fa9-4bc6-b34a-f006ffcc0df2",
   "metadata": {},
   "outputs": [
    {
     "name": "stdout",
     "output_type": "stream",
     "text": [
      "<class '__main__.jerry'>\n"
     ]
    }
   ],
   "source": [
    "print(type(happy))"
   ]
  },
  {
   "cell_type": "code",
   "execution_count": 16,
   "id": "9b5050cb-f796-4938-9200-f0d5b30863fa",
   "metadata": {},
   "outputs": [
    {
     "ename": "TypeError",
     "evalue": "jerry.name() takes 0 positional arguments but 1 was given",
     "output_type": "error",
     "traceback": [
      "\u001b[0;31m---------------------------------------------------------------------------\u001b[0m",
      "\u001b[0;31mTypeError\u001b[0m                                 Traceback (most recent call last)",
      "Cell \u001b[0;32mIn[16], line 1\u001b[0m\n\u001b[0;32m----> 1\u001b[0m \u001b[43mhappy\u001b[49m\u001b[38;5;241;43m.\u001b[39;49m\u001b[43mname\u001b[49m\u001b[43m(\u001b[49m\u001b[43m)\u001b[49m\n",
      "\u001b[0;31mTypeError\u001b[0m: jerry.name() takes 0 positional arguments but 1 was given"
     ]
    }
   ],
   "source": [
    "happy.name()"
   ]
  },
  {
   "cell_type": "code",
   "execution_count": 17,
   "id": "4a342c78-25c4-4076-ae08-54355dfdb632",
   "metadata": {},
   "outputs": [],
   "source": [
    "class bob:\n",
    "    def fame(self):\n",
    "        print(\"My name is Happy Chauhan\")"
   ]
  },
  {
   "cell_type": "code",
   "execution_count": 18,
   "id": "f0b42cf8-5742-482c-98ae-1dbd941d66c8",
   "metadata": {},
   "outputs": [],
   "source": [
    "chauhan = bob()"
   ]
  },
  {
   "cell_type": "code",
   "execution_count": 19,
   "id": "a60fda73-3cda-4c5f-913f-851409f0e81c",
   "metadata": {},
   "outputs": [
    {
     "name": "stdout",
     "output_type": "stream",
     "text": [
      "<class '__main__.bob'>\n"
     ]
    }
   ],
   "source": [
    "print(type(chauhan))"
   ]
  },
  {
   "cell_type": "code",
   "execution_count": 20,
   "id": "91392371-32b1-4cf1-8614-a2560ea2911d",
   "metadata": {},
   "outputs": [
    {
     "name": "stdout",
     "output_type": "stream",
     "text": [
      "My name is Happy Chauhan\n"
     ]
    }
   ],
   "source": [
    "chauhan.fame()"
   ]
  },
  {
   "cell_type": "code",
   "execution_count": 21,
   "id": "2f212a27-6002-42db-ad98-08a86f364adb",
   "metadata": {},
   "outputs": [],
   "source": [
    "aman = bob()"
   ]
  },
  {
   "cell_type": "code",
   "execution_count": 22,
   "id": "98feff9e-7f35-42db-8491-683835aef24a",
   "metadata": {},
   "outputs": [
    {
     "name": "stdout",
     "output_type": "stream",
     "text": [
      "My name is Happy Chauhan\n"
     ]
    }
   ],
   "source": [
    "aman.fame()"
   ]
  },
  {
   "cell_type": "code",
   "execution_count": 29,
   "id": "bae3d102-feed-44f9-8df5-feca450ac560",
   "metadata": {},
   "outputs": [],
   "source": [
    "class pwskills:\n",
    "    def __init__(self,Phone_number, Email_ID, Student_ID):\n",
    "        # __init__ is a constructure it is used to pass the data inside a class it is a inbuilt function too\n",
    "        self.Phone_number = Phone_number\n",
    "        self.Email_ID = Email_ID\n",
    "        self.Student_ID = Student_ID\n",
    "    \n",
    "    def return_student_details(self):\n",
    "        return self.Student_ID, self.Email_ID, self.Phone_number"
   ]
  },
  {
   "cell_type": "code",
   "execution_count": 30,
   "id": "137fbb75-79ef-41cd-8373-91b7e136e551",
   "metadata": {},
   "outputs": [
    {
     "ename": "TypeError",
     "evalue": "pwskills.__init__() missing 3 required positional arguments: 'Phone_number', 'Email_ID', and 'Student_ID'",
     "output_type": "error",
     "traceback": [
      "\u001b[0;31m---------------------------------------------------------------------------\u001b[0m",
      "\u001b[0;31mTypeError\u001b[0m                                 Traceback (most recent call last)",
      "Cell \u001b[0;32mIn[30], line 1\u001b[0m\n\u001b[0;32m----> 1\u001b[0m raju \u001b[38;5;241m=\u001b[39m \u001b[43mpwskills\u001b[49m\u001b[43m(\u001b[49m\u001b[43m)\u001b[49m\n",
      "\u001b[0;31mTypeError\u001b[0m: pwskills.__init__() missing 3 required positional arguments: 'Phone_number', 'Email_ID', and 'Student_ID'"
     ]
    }
   ],
   "source": [
    "raju = pwskills()"
   ]
  },
  {
   "cell_type": "code",
   "execution_count": 31,
   "id": "21957f5d-5813-4f21-868d-47cb01c97fbe",
   "metadata": {},
   "outputs": [],
   "source": [
    "raju = pwskills(7011535418, \"rajurastogi@gmail.com\", 20140282425 )"
   ]
  },
  {
   "cell_type": "code",
   "execution_count": 33,
   "id": "fd3cf14e-0103-4aab-91bc-2031659d7f12",
   "metadata": {},
   "outputs": [
    {
     "data": {
      "text/plain": [
       "(20140282425, 'rajurastogi@gmail.com', 7011535418)"
      ]
     },
     "execution_count": 33,
     "metadata": {},
     "output_type": "execute_result"
    }
   ],
   "source": [
    "raju.return_student_details()"
   ]
  },
  {
   "cell_type": "code",
   "execution_count": 35,
   "id": "ce8c519e-2d5d-40ec-9a66-09da260ecc6a",
   "metadata": {},
   "outputs": [],
   "source": [
    "virat = pwskills(54641,\"viratkohli18@gmail.com\", 577558758)"
   ]
  },
  {
   "cell_type": "code",
   "execution_count": 36,
   "id": "d3108eea-b72f-4798-a464-db8b3f840341",
   "metadata": {},
   "outputs": [
    {
     "data": {
      "text/plain": [
       "(577558758, 'viratkohli18@gmail.com', 54641)"
      ]
     },
     "execution_count": 36,
     "metadata": {},
     "output_type": "execute_result"
    }
   ],
   "source": [
    "virat.return_student_details()"
   ]
  },
  {
   "cell_type": "code",
   "execution_count": 38,
   "id": "2d93beba-6b1f-4d54-ba00-71fea31f8dd8",
   "metadata": {},
   "outputs": [
    {
     "data": {
      "text/plain": [
       "'viratkohli18@gmail.com'"
      ]
     },
     "execution_count": 38,
     "metadata": {},
     "output_type": "execute_result"
    }
   ],
   "source": [
    "virat.Email_ID"
   ]
  },
  {
   "cell_type": "code",
   "execution_count": 39,
   "id": "38d05b39-504f-47a1-9966-823ac644d0b3",
   "metadata": {},
   "outputs": [
    {
     "data": {
      "text/plain": [
       "54641"
      ]
     },
     "execution_count": 39,
     "metadata": {},
     "output_type": "execute_result"
    }
   ],
   "source": [
    "virat.Phone_number"
   ]
  },
  {
   "cell_type": "code",
   "execution_count": 41,
   "id": "b796b43b-992e-4fe1-8756-48c7d521d201",
   "metadata": {},
   "outputs": [
    {
     "data": {
      "text/plain": [
       "577558758"
      ]
     },
     "execution_count": 41,
     "metadata": {},
     "output_type": "execute_result"
    }
   ],
   "source": [
    "virat.Student_ID"
   ]
  },
  {
   "cell_type": "code",
   "execution_count": 42,
   "id": "e75f7324-cd42-482e-b468-157a108e82f8",
   "metadata": {},
   "outputs": [],
   "source": [
    "class pwskills1:\n",
    "    def __init__(self,Phone_number, Email_ID, Student_ID):\n",
    "        # __init__ is a constructure it is used to pass the data inside a class it is a inbuilt function too\n",
    "        self.Phone_number1 = Phone_number\n",
    "        self.Email_ID1 = Email_ID\n",
    "        self.Student_ID1 = Student_ID\n",
    "    \n",
    "    def return_student_details(self):\n",
    "        return self.Student_ID, self.Email_ID, self.Phone_number"
   ]
  },
  {
   "cell_type": "code",
   "execution_count": 43,
   "id": "086053bb-fdde-47e3-a283-2ae751540f39",
   "metadata": {},
   "outputs": [],
   "source": [
    "rohit = pwskills1(1148451156, \"dhfsf@gmail.com\", 845454)"
   ]
  },
  {
   "cell_type": "code",
   "execution_count": 44,
   "id": "6666865f-cc70-4351-8577-c3a97b952471",
   "metadata": {},
   "outputs": [
    {
     "data": {
      "text/plain": [
       "1148451156"
      ]
     },
     "execution_count": 44,
     "metadata": {},
     "output_type": "execute_result"
    }
   ],
   "source": [
    "rohit.Phone_number1"
   ]
  },
  {
   "cell_type": "code",
   "execution_count": 45,
   "id": "3bf3f1a1-1282-4940-b4bc-0fe5ec63f708",
   "metadata": {},
   "outputs": [
    {
     "ename": "AttributeError",
     "evalue": "'pwskills1' object has no attribute 'Phone_number'",
     "output_type": "error",
     "traceback": [
      "\u001b[0;31m---------------------------------------------------------------------------\u001b[0m",
      "\u001b[0;31mAttributeError\u001b[0m                            Traceback (most recent call last)",
      "Cell \u001b[0;32mIn[45], line 1\u001b[0m\n\u001b[0;32m----> 1\u001b[0m \u001b[43mrohit\u001b[49m\u001b[38;5;241;43m.\u001b[39;49m\u001b[43mPhone_number\u001b[49m\n",
      "\u001b[0;31mAttributeError\u001b[0m: 'pwskills1' object has no attribute 'Phone_number'"
     ]
    }
   ],
   "source": [
    "rohit.Phone_number"
   ]
  },
  {
   "cell_type": "code",
   "execution_count": 46,
   "id": "449869c7-1095-4546-b531-ba1525ac5a23",
   "metadata": {},
   "outputs": [],
   "source": [
    "# we have to get an updated version of the class."
   ]
  },
  {
   "cell_type": "code",
   "execution_count": 47,
   "id": "70d12119-2a41-480f-b831-830138cbdb09",
   "metadata": {},
   "outputs": [
    {
     "ename": "AttributeError",
     "evalue": "'pwskills1' object has no attribute 'Student_ID'",
     "output_type": "error",
     "traceback": [
      "\u001b[0;31m---------------------------------------------------------------------------\u001b[0m",
      "\u001b[0;31mAttributeError\u001b[0m                            Traceback (most recent call last)",
      "Cell \u001b[0;32mIn[47], line 1\u001b[0m\n\u001b[0;32m----> 1\u001b[0m \u001b[43mrohit\u001b[49m\u001b[38;5;241;43m.\u001b[39;49m\u001b[43mreturn_student_details\u001b[49m\u001b[43m(\u001b[49m\u001b[43m)\u001b[49m\n",
      "Cell \u001b[0;32mIn[42], line 9\u001b[0m, in \u001b[0;36mpwskills1.return_student_details\u001b[0;34m(self)\u001b[0m\n\u001b[1;32m      8\u001b[0m \u001b[38;5;28;01mdef\u001b[39;00m \u001b[38;5;21mreturn_student_details\u001b[39m(\u001b[38;5;28mself\u001b[39m):\n\u001b[0;32m----> 9\u001b[0m     \u001b[38;5;28;01mreturn\u001b[39;00m \u001b[38;5;28;43mself\u001b[39;49m\u001b[38;5;241;43m.\u001b[39;49m\u001b[43mStudent_ID\u001b[49m, \u001b[38;5;28mself\u001b[39m\u001b[38;5;241m.\u001b[39mEmail_ID, \u001b[38;5;28mself\u001b[39m\u001b[38;5;241m.\u001b[39mPhone_number\n",
      "\u001b[0;31mAttributeError\u001b[0m: 'pwskills1' object has no attribute 'Student_ID'"
     ]
    }
   ],
   "source": [
    "rohit.return_student_details()"
   ]
  },
  {
   "cell_type": "code",
   "execution_count": 48,
   "id": "03f48ef6-826a-480e-9804-2c729781ddff",
   "metadata": {},
   "outputs": [],
   "source": [
    "class pwskills1:\n",
    "    def __init__(self,Phone_number, Email_ID, Student_ID):\n",
    "        # __init__ is a constructure it is used to pass the data inside a class it is a inbuilt function too\n",
    "        self.Phone_number1 = Phone_number\n",
    "        self.Email_ID1 = Email_ID\n",
    "        self.Student_ID1 = Student_ID\n",
    "    \n",
    "    def return_student_details(self):\n",
    "        return self.Student_ID1, self.Email_ID1, self.Phone_number1"
   ]
  },
  {
   "cell_type": "code",
   "execution_count": 50,
   "id": "3cacd98c-8d14-4267-be24-86c792a11879",
   "metadata": {},
   "outputs": [],
   "source": [
    "rohit1 = pwskills1(4654654164,\"fhdhfj@gmail.com\", 784)"
   ]
  },
  {
   "cell_type": "code",
   "execution_count": 51,
   "id": "32d837a0-59d6-4e37-94b5-8655f3989a1b",
   "metadata": {},
   "outputs": [
    {
     "data": {
      "text/plain": [
       "(784, 'fhdhfj@gmail.com', 4654654164)"
      ]
     },
     "execution_count": 51,
     "metadata": {},
     "output_type": "execute_result"
    }
   ],
   "source": [
    "rohit1.return_student_details()"
   ]
  },
  {
   "cell_type": "code",
   "execution_count": 58,
   "id": "5361891d-feab-4d5a-8ce7-a6cf170770a4",
   "metadata": {},
   "outputs": [],
   "source": [
    "class pwskills1:\n",
    "    def __init__(happy,Phone_number, Email_ID, Student_ID):\n",
    "        # __init__ is a constructure it is used to pass the data inside a class it is a inbuilt function too\n",
    "        happy.Phone_number1 = Phone_number\n",
    "        happy.Email_ID1 = Email_ID\n",
    "        happy.Student_ID1 = Student_ID\n",
    "    \n",
    "    def return_student_details(happy):\n",
    "        return happy.Student_ID1, happy.Email_ID1, happy.Phone_number1"
   ]
  },
  {
   "cell_type": "code",
   "execution_count": 59,
   "id": "fd87270b-3364-4eb3-8a18-0e8f6c5ca551",
   "metadata": {},
   "outputs": [],
   "source": [
    "rahul = pwskills1(844489464, \"huihdf@gmail.com\", 54654)"
   ]
  },
  {
   "cell_type": "code",
   "execution_count": 60,
   "id": "fc7f1d74-59f8-46c3-8e57-953fbf303cf2",
   "metadata": {},
   "outputs": [
    {
     "data": {
      "text/plain": [
       "(54654, 'huihdf@gmail.com', 844489464)"
      ]
     },
     "execution_count": 60,
     "metadata": {},
     "output_type": "execute_result"
    }
   ],
   "source": [
    "rahul.return_student_details()"
   ]
  },
  {
   "cell_type": "code",
   "execution_count": 61,
   "id": "102e2800-82d9-4a93-b9fc-c1802e75845a",
   "metadata": {},
   "outputs": [],
   "source": [
    "# There is no reserved keyword like self we can use another keyword too like happy"
   ]
  },
  {
   "cell_type": "code",
   "execution_count": 62,
   "id": "d8e390b8-cc76-4202-a41c-3f7f4b6db57a",
   "metadata": {},
   "outputs": [
    {
     "data": {
      "text/plain": [
       "54654"
      ]
     },
     "execution_count": 62,
     "metadata": {},
     "output_type": "execute_result"
    }
   ],
   "source": [
    "rahul.Student_ID1"
   ]
  },
  {
   "cell_type": "code",
   "execution_count": 64,
   "id": "a562435b-b47e-4186-9932-6efcab4bbd32",
   "metadata": {},
   "outputs": [
    {
     "data": {
      "text/plain": [
       "'huihdf@gmail.com'"
      ]
     },
     "execution_count": 64,
     "metadata": {},
     "output_type": "execute_result"
    }
   ],
   "source": [
    "rahul.Email_ID1"
   ]
  },
  {
   "cell_type": "code",
   "execution_count": 65,
   "id": "0f57efa8-20bd-489f-95f2-6f151b23a30e",
   "metadata": {},
   "outputs": [
    {
     "data": {
      "text/plain": [
       "844489464"
      ]
     },
     "execution_count": 65,
     "metadata": {},
     "output_type": "execute_result"
    }
   ],
   "source": [
    "rahul.Phone_number1"
   ]
  },
  {
   "cell_type": "code",
   "execution_count": null,
   "id": "12964bad-d5d9-4f3c-b0ae-189c479e7f12",
   "metadata": {},
   "outputs": [],
   "source": []
  }
 ],
 "metadata": {
  "kernelspec": {
   "display_name": "Python 3 (ipykernel)",
   "language": "python",
   "name": "python3"
  },
  "language_info": {
   "codemirror_mode": {
    "name": "ipython",
    "version": 3
   },
   "file_extension": ".py",
   "mimetype": "text/x-python",
   "name": "python",
   "nbconvert_exporter": "python",
   "pygments_lexer": "ipython3",
   "version": "3.10.8"
  }
 },
 "nbformat": 4,
 "nbformat_minor": 5
}
