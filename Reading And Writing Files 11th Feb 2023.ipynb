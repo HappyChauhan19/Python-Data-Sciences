{
 "cells": [
  {
   "cell_type": "code",
   "execution_count": 4,
   "id": "c8e70f3d-d950-4be4-b8e7-469273935790",
   "metadata": {},
   "outputs": [],
   "source": [
    "Data = {\n",
    "    \"Name\" : \"Happy Chauhan\",\n",
    "    \"Mail_id\" : \"19happychauhan19@gmail.com\",\n",
    "    \"Phone_Number\" : \"'7011535418\",\n",
    "    \"Interest\" : [\"Anime\" , \"Cricket\" , \"Gym\" , \"Bike\" , \"Car\" , \"Music\" ]\n",
    "}"
   ]
  },
  {
   "cell_type": "code",
   "execution_count": 5,
   "id": "dcb25491-9228-4ee5-a196-cfe32f2ad57a",
   "metadata": {},
   "outputs": [],
   "source": [
    "import json"
   ]
  },
  {
   "cell_type": "code",
   "execution_count": 6,
   "id": "40232867-3568-454d-add4-b70149819b84",
   "metadata": {},
   "outputs": [],
   "source": [
    "with open(\"Data.json\", \"w\") as f :\n",
    "    json.dump(Data, f)"
   ]
  },
  {
   "cell_type": "code",
   "execution_count": 8,
   "id": "86c89f15-e7a2-473d-9f9b-80c5c6bdc5ae",
   "metadata": {},
   "outputs": [],
   "source": [
    "with open(\"Data.json\", \"r\") as f :\n",
    "    data = json.load(f)"
   ]
  },
  {
   "cell_type": "code",
   "execution_count": 9,
   "id": "8cc488c3-1535-4ded-a4d8-c1b361172c02",
   "metadata": {},
   "outputs": [
    {
     "data": {
      "text/plain": [
       "{'Name': 'Happy Chauhan',\n",
       " 'Mail_id': '19happychauhan19@gmail.com',\n",
       " 'Phone_Number': \"'7011535418\",\n",
       " 'Interest': ['Anime', 'Cricket', 'Gym', 'Bike', 'Car', 'Music']}"
      ]
     },
     "execution_count": 9,
     "metadata": {},
     "output_type": "execute_result"
    }
   ],
   "source": [
    "data"
   ]
  },
  {
   "cell_type": "code",
   "execution_count": 12,
   "id": "523cc8d8-baf8-41d3-b4ad-bd705a29d7d3",
   "metadata": {},
   "outputs": [
    {
     "data": {
      "text/plain": [
       "'Anime'"
      ]
     },
     "execution_count": 12,
     "metadata": {},
     "output_type": "execute_result"
    }
   ],
   "source": [
    "data[\"Interest\"][0]"
   ]
  },
  {
   "cell_type": "code",
   "execution_count": 13,
   "id": "a9a5b71f-8f53-441a-adc9-62c5527b3d7f",
   "metadata": {},
   "outputs": [],
   "source": [
    "# comma seperated value files"
   ]
  },
  {
   "cell_type": "code",
   "execution_count": 14,
   "id": "003c1a1a-fc6f-4769-9236-f7b5395c2228",
   "metadata": {},
   "outputs": [],
   "source": [
    "import csv"
   ]
  },
  {
   "cell_type": "code",
   "execution_count": 16,
   "id": "cfb896d4-604a-45d0-aae3-b4f330c143e2",
   "metadata": {},
   "outputs": [],
   "source": [
    "gian = [[\"Name\", \"Email_id\", \"Phone_Number\"],\n",
    "        [\"Happy Chauhan\", \"19happychauhan19@gmail.com\", 7011535418],\n",
    "        [\"Aman\", \"Amanmishra@gmail.com\", 566845594]\n",
    "]"
   ]
  },
  {
   "cell_type": "code",
   "execution_count": 17,
   "id": "4b542a7a-38fb-4ea0-9bcf-832e046f253b",
   "metadata": {},
   "outputs": [],
   "source": [
    "with open(\"gian.csv\", \"w\") as f:\n",
    "    write = csv.writer(f)\n",
    "    for i in gian:\n",
    "        write.writerow(i)"
   ]
  },
  {
   "cell_type": "code",
   "execution_count": 20,
   "id": "71727458-b7a3-473c-aa7a-753c1e702ca2",
   "metadata": {},
   "outputs": [
    {
     "name": "stdout",
     "output_type": "stream",
     "text": [
      "['Name', 'Email_id', 'Phone_Number']\n",
      "['Happy Chauhan', '19happychauhan19@gmail.com', '7011535418']\n",
      "['Aman', 'Amanmishra@gmail.com', '566845594']\n"
     ]
    }
   ],
   "source": [
    "with open(\"gian.csv\", \"r\") as f :\n",
    "    read = csv.reader(f)\n",
    "    \n",
    "    for i in read:\n",
    "        print(i)"
   ]
  },
  {
   "cell_type": "code",
   "execution_count": 26,
   "id": "3ec23fd3-7f30-4f07-a129-2d62fd8ba1a1",
   "metadata": {},
   "outputs": [],
   "source": [
    "with open(\"text.bin\", \"wb\") as f:\n",
    "    f.write(b\"\\x01\\x02\\x03\\x577755\")"
   ]
  },
  {
   "cell_type": "code",
   "execution_count": null,
   "id": "c61a0f25-a77e-41fa-a6df-21ad97c3e33d",
   "metadata": {},
   "outputs": [],
   "source": [
    "with open(\"text.bin\", \"rb\") as f:\n",
    "    print()"
   ]
  }
 ],
 "metadata": {
  "kernelspec": {
   "display_name": "Python 3 (ipykernel)",
   "language": "python",
   "name": "python3"
  },
  "language_info": {
   "codemirror_mode": {
    "name": "ipython",
    "version": 3
   },
   "file_extension": ".py",
   "mimetype": "text/x-python",
   "name": "python",
   "nbconvert_exporter": "python",
   "pygments_lexer": "ipython3",
   "version": "3.10.8"
  }
 },
 "nbformat": 4,
 "nbformat_minor": 5
}
