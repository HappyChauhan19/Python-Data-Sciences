{
 "cells": [
  {
   "cell_type": "code",
   "execution_count": 14,
   "id": "f1075b76-f3b7-4918-9cbc-7158379ab386",
   "metadata": {},
   "outputs": [
    {
     "name": "stdin",
     "output_type": "stream",
     "text": [
      "What is your age:  -23\n"
     ]
    }
   ],
   "source": [
    "Age = int(input(\"What is your age: \"))"
   ]
  },
  {
   "cell_type": "code",
   "execution_count": 15,
   "id": "b92a653a-85df-472f-bfd4-fecd6dac71e8",
   "metadata": {},
   "outputs": [],
   "source": [
    "# We can handle negative age situation too by the help of if or else but here we are going to use exceptions"
   ]
  },
  {
   "cell_type": "code",
   "execution_count": 4,
   "id": "a22b8da5-f4b1-458f-8913-a724cffb5ae1",
   "metadata": {},
   "outputs": [],
   "source": [
    "class Valid_date(Exception):\n",
    "    def __init__(self, msg):\n",
    "        self.msg = msg"
   ]
  },
  {
   "cell_type": "code",
   "execution_count": 5,
   "id": "b78da3a9-f6dc-4570-9eab-6f64aa1d987a",
   "metadata": {},
   "outputs": [],
   "source": [
    "def Validateage(age):\n",
    "    if age < 0 :\n",
    "        raise Valid_date('Entered Age is negative.')\n",
    "    elif age > 150:\n",
    "        raise Valid_date(\"Entered Age is not possible it is very very high in numbers\")\n",
    "    else:\n",
    "        print(\"The age is Valid.\")"
   ]
  },
  {
   "cell_type": "code",
   "execution_count": 7,
   "id": "fb2f058a-5df1-4153-b3ef-e0d8458ee48b",
   "metadata": {},
   "outputs": [
    {
     "name": "stdin",
     "output_type": "stream",
     "text": [
      "What is your age:  2423\n"
     ]
    },
    {
     "name": "stdout",
     "output_type": "stream",
     "text": [
      "Entered Age is not possible it is very very high in numbers\n"
     ]
    }
   ],
   "source": [
    "try:\n",
    "    age = int(input(\"What is your age: \"))\n",
    "    Validateage(age)\n",
    "except Exception as e:\n",
    "    print(e)"
   ]
  },
  {
   "cell_type": "code",
   "execution_count": null,
   "id": "f2527170-1ac5-4b5a-9d54-2868cf21180e",
   "metadata": {},
   "outputs": [],
   "source": []
  }
 ],
 "metadata": {
  "kernelspec": {
   "display_name": "Python 3 (ipykernel)",
   "language": "python",
   "name": "python3"
  },
  "language_info": {
   "codemirror_mode": {
    "name": "ipython",
    "version": 3
   },
   "file_extension": ".py",
   "mimetype": "text/x-python",
   "name": "python",
   "nbconvert_exporter": "python",
   "pygments_lexer": "ipython3",
   "version": "3.10.8"
  }
 },
 "nbformat": 4,
 "nbformat_minor": 5
}
