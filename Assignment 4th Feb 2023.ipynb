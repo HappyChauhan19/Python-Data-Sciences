{
 "cells": [
  {
   "cell_type": "markdown",
   "id": "6ecb89fa-b6c5-437b-891e-b341242cb2a7",
   "metadata": {},
   "source": [
    "Q1. Create a python program to sort the given list of tuples based on integer value using a\n",
    "lambda function.\n",
    "[('Sachin Tendulkar', 34357), ('Ricky Ponting', 27483), ('Jack Kallis', 25534), ('Virat Kohli', 24936)]"
   ]
  },
  {
   "cell_type": "markdown",
   "id": "67032638-0483-4541-9392-1b0fb14410aa",
   "metadata": {},
   "source": [
    "Ans 1."
   ]
  },
  {
   "cell_type": "code",
   "execution_count": 1,
   "id": "c7519f6d-1d44-43d9-b961-a986b312398a",
   "metadata": {},
   "outputs": [],
   "source": [
    "List = [('Sachin Tendulkar', 34357), ('Ricky Ponting', 27483), ('Jack Kallis', 25534), ('Virat Kohli', 24936)]"
   ]
  },
  {
   "cell_type": "code",
   "execution_count": 2,
   "id": "fc4ae77c-fd51-4484-a0d8-4c9e8ea0e281",
   "metadata": {},
   "outputs": [
    {
     "data": {
      "text/plain": [
       "[34357, 27483, 25534, 24936]"
      ]
     },
     "execution_count": 2,
     "metadata": {},
     "output_type": "execute_result"
    }
   ],
   "source": [
    "list(map(lambda x : x[1], List ))"
   ]
  },
  {
   "cell_type": "markdown",
   "id": "bdb88e90-4be7-4538-9496-b7423cf6f95d",
   "metadata": {},
   "source": [
    "Q2. Write a Python Program to find the squares of all the numbers in the given list of integers using\n",
    "lambda and map functions.\n",
    "[1, 2, 3, 4, 5, 6, 7, 8, 9, 10]"
   ]
  },
  {
   "cell_type": "markdown",
   "id": "4e427676-ae7e-4409-a7c5-44bfd7f42e9a",
   "metadata": {},
   "source": [
    "Ans 2."
   ]
  },
  {
   "cell_type": "code",
   "execution_count": 3,
   "id": "bb71d485-e14b-4dd7-993a-a3dafc97cbfb",
   "metadata": {},
   "outputs": [],
   "source": [
    "Numbers = [1,2,3,4,5,6,7,8,9,10]"
   ]
  },
  {
   "cell_type": "code",
   "execution_count": 4,
   "id": "72ff9cbb-3709-4724-9163-53b0bbd652d1",
   "metadata": {},
   "outputs": [
    {
     "data": {
      "text/plain": [
       "[1, 4, 9, 16, 25, 36, 49, 64, 81, 100]"
      ]
     },
     "execution_count": 4,
     "metadata": {},
     "output_type": "execute_result"
    }
   ],
   "source": [
    "list(map(lambda x : x**2, Numbers))"
   ]
  },
  {
   "cell_type": "markdown",
   "id": "17ff2e3c-6947-4d8f-a4e7-985cad2977fb",
   "metadata": {},
   "source": [
    "Q3. Write a python program to convert the given list of integers into a tuple of strings. Use map and\n",
    "lambda functions\n",
    "Given String: [1, 2, 3, 4, 5, 6, 7, 8, 9, 10]\n",
    "Expected output: ('1', '2', '3', '4', '5', '6', '7', '8', '9', '10')"
   ]
  },
  {
   "cell_type": "markdown",
   "id": "cce5a6a6-7c7b-48d9-94ef-9015f5fd90fb",
   "metadata": {},
   "source": [
    "Ans 3."
   ]
  },
  {
   "cell_type": "code",
   "execution_count": 5,
   "id": "aaf411f2-d65c-446d-a8c6-3303fa6a46a5",
   "metadata": {},
   "outputs": [],
   "source": [
    "Numbers2 = [1,2,3,4,5,6,7,8,9,10]"
   ]
  },
  {
   "cell_type": "code",
   "execution_count": 6,
   "id": "1bff77ab-0767-48d3-a646-fc4bb7ea2f83",
   "metadata": {},
   "outputs": [
    {
     "name": "stdout",
     "output_type": "stream",
     "text": [
      "('1', '2', '3', '4', '5', '6', '7', '8', '9', '10')\n"
     ]
    }
   ],
   "source": [
    "print(tuple(map(lambda x : str(x), Numbers2)))"
   ]
  },
  {
   "cell_type": "markdown",
   "id": "2731cf4a-4c1f-438c-92e9-80320298984c",
   "metadata": {},
   "source": [
    "Q4. Write a python program using reduce function to compute the product of a list containing numbers\n",
    "from 1 to 25."
   ]
  },
  {
   "cell_type": "markdown",
   "id": "d44851c1-5b9b-48c8-bc88-56ab8d34e2ba",
   "metadata": {},
   "source": [
    "Ans 4."
   ]
  },
  {
   "cell_type": "code",
   "execution_count": 7,
   "id": "b5c6df76-2f6b-4f6c-8bb9-b293b2f1b990",
   "metadata": {},
   "outputs": [],
   "source": [
    "from functools import reduce"
   ]
  },
  {
   "cell_type": "code",
   "execution_count": 8,
   "id": "545d5a68-5e6b-405e-9d03-fa267f8edef9",
   "metadata": {},
   "outputs": [],
   "source": [
    "Number_List = list(range(1,26))"
   ]
  },
  {
   "cell_type": "code",
   "execution_count": 9,
   "id": "b3a4f9a8-ab1d-4134-9cce-54fb4a78741c",
   "metadata": {},
   "outputs": [
    {
     "data": {
      "text/plain": [
       "15511210043330985984000000"
      ]
     },
     "execution_count": 9,
     "metadata": {},
     "output_type": "execute_result"
    }
   ],
   "source": [
    "reduce(lambda x, y : x*y, Number_List)"
   ]
  },
  {
   "cell_type": "markdown",
   "id": "a377d2a8-45fa-40de-a88b-331e65cf7332",
   "metadata": {},
   "source": [
    "Q5. Write a python program to filter the numbers in a given list that are divisible by 2 and 3 using the\n",
    "filter function.\n",
    "[2, 3, 6, 9, 27, 60, 90, 120, 55, 46]"
   ]
  },
  {
   "cell_type": "markdown",
   "id": "3e46d5ef-461c-4405-9c3e-4c79a4ff850f",
   "metadata": {},
   "source": [
    "Ans 5."
   ]
  },
  {
   "cell_type": "code",
   "execution_count": 10,
   "id": "c64e6529-e771-4853-aa37-d1c733d84a08",
   "metadata": {},
   "outputs": [],
   "source": [
    "NUM = [2,3,6,9,27,60,90,120,55,46]"
   ]
  },
  {
   "cell_type": "code",
   "execution_count": 11,
   "id": "94a5954a-3bde-4f59-aae5-fde2286d20c4",
   "metadata": {},
   "outputs": [
    {
     "data": {
      "text/plain": [
       "[6, 60, 90, 120]"
      ]
     },
     "execution_count": 11,
     "metadata": {},
     "output_type": "execute_result"
    }
   ],
   "source": [
    "list(filter(lambda x : x % (2*3) == 0, NUM))"
   ]
  },
  {
   "cell_type": "markdown",
   "id": "8fc5dd3a-2e1b-4f79-8aad-8e314ff6b5ce",
   "metadata": {},
   "source": [
    "Q6. Write a python program to find palindromes in the given list of strings using lambda and filter\n",
    "function.\n",
    "['python', 'php', 'aba', 'radar', 'level']"
   ]
  },
  {
   "cell_type": "markdown",
   "id": "71e10422-dfb3-4c71-ae67-bd26bcbe42a9",
   "metadata": {},
   "source": [
    "Ans 6."
   ]
  },
  {
   "cell_type": "code",
   "execution_count": 12,
   "id": "a4d4d483-0e42-4014-93b0-51b382500882",
   "metadata": {},
   "outputs": [],
   "source": [
    "String_list = [\"python\", \"php\", \"aba\", \"radar\", \"level\"]"
   ]
  },
  {
   "cell_type": "code",
   "execution_count": 13,
   "id": "462f4a37-4622-43f3-82bf-a71f563ca67f",
   "metadata": {},
   "outputs": [
    {
     "data": {
      "text/plain": [
       "['php', 'aba', 'radar', 'level']"
      ]
     },
     "execution_count": 13,
     "metadata": {},
     "output_type": "execute_result"
    }
   ],
   "source": [
    "list(filter(lambda x : x == x[::-1], String_list))"
   ]
  }
 ],
 "metadata": {
  "kernelspec": {
   "display_name": "Python 3 (ipykernel)",
   "language": "python",
   "name": "python3"
  },
  "language_info": {
   "codemirror_mode": {
    "name": "ipython",
    "version": 3
   },
   "file_extension": ".py",
   "mimetype": "text/x-python",
   "name": "python",
   "nbconvert_exporter": "python",
   "pygments_lexer": "ipython3",
   "version": "3.10.8"
  }
 },
 "nbformat": 4,
 "nbformat_minor": 5
}
