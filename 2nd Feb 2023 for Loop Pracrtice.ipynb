{
 "cells": [
  {
   "cell_type": "code",
   "execution_count": 1,
   "id": "dcd2b8de-9fb3-4d81-aa93-5741817925b3",
   "metadata": {},
   "outputs": [],
   "source": [
    "Wow = [1,2,3,4,5,6,7,8,9]"
   ]
  },
  {
   "cell_type": "code",
   "execution_count": 2,
   "id": "4ebb33cb-f6bb-4115-9e0b-b472d147667c",
   "metadata": {},
   "outputs": [
    {
     "name": "stdout",
     "output_type": "stream",
     "text": [
      "1\n",
      "2\n",
      "3\n",
      "4\n",
      "5\n",
      "6\n",
      "7\n",
      "8\n",
      "9\n"
     ]
    }
   ],
   "source": [
    "for Check in Wow:\n",
    "    print(Check)"
   ]
  },
  {
   "cell_type": "code",
   "execution_count": 3,
   "id": "55125845-7626-460e-9c9c-14051aa30480",
   "metadata": {},
   "outputs": [],
   "source": [
    "Names = [\"Happy Chauhan\", \"Aman Mishra\", \"Sourabh Rajput\", \"Komal\", \"Asif\", \"Lubhanshi\", \"Akansha\"]"
   ]
  },
  {
   "cell_type": "code",
   "execution_count": 4,
   "id": "d14962ba-a879-41ed-a187-01092ffcc270",
   "metadata": {},
   "outputs": [
    {
     "data": {
      "text/plain": [
       "9"
      ]
     },
     "execution_count": 4,
     "metadata": {},
     "output_type": "execute_result"
    }
   ],
   "source": [
    "Check"
   ]
  },
  {
   "cell_type": "code",
   "execution_count": 5,
   "id": "5755f1d9-2f6f-41b0-a2e2-e14678248eb1",
   "metadata": {},
   "outputs": [
    {
     "data": {
      "text/plain": [
       "[1, 2, 3, 4, 5, 6, 7, 8, 9]"
      ]
     },
     "execution_count": 5,
     "metadata": {},
     "output_type": "execute_result"
    }
   ],
   "source": [
    "Wow"
   ]
  },
  {
   "cell_type": "code",
   "execution_count": 7,
   "id": "4d0d670e-6476-49be-976c-203165ba63ec",
   "metadata": {},
   "outputs": [
    {
     "name": "stdout",
     "output_type": "stream",
     "text": [
      "Happy Chauhan <class 'str'>\n",
      "Aman Mishra <class 'str'>\n",
      "Sourabh Rajput <class 'str'>\n",
      "Komal <class 'str'>\n",
      "Asif <class 'str'>\n",
      "Lubhanshi <class 'str'>\n",
      "Akansha <class 'str'>\n"
     ]
    }
   ],
   "source": [
    "for Sound in Names : \n",
    "    print(Sound, type(Sound))"
   ]
  },
  {
   "cell_type": "code",
   "execution_count": 8,
   "id": "f9b92a63-a718-4bf4-8010-c06776278bbd",
   "metadata": {},
   "outputs": [
    {
     "name": "stdout",
     "output_type": "stream",
     "text": [
      "Happy Chauhan\n",
      "Aman Mishra\n",
      "Sourabh Rajput\n",
      "Komal\n",
      "Asif\n",
      "Lubhanshi\n",
      "Akansha\n",
      "Make loyal friends\n"
     ]
    }
   ],
   "source": [
    "for go in Names:\n",
    "    print(go)\n",
    "else:\n",
    "    print(\"Make loyal friends\")"
   ]
  },
  {
   "cell_type": "code",
   "execution_count": 9,
   "id": "76b4561e-fda8-4bbb-9dda-5a366836b5ed",
   "metadata": {},
   "outputs": [
    {
     "data": {
      "text/plain": [
       "'Akansha'"
      ]
     },
     "execution_count": 9,
     "metadata": {},
     "output_type": "execute_result"
    }
   ],
   "source": [
    "go"
   ]
  },
  {
   "cell_type": "code",
   "execution_count": 11,
   "id": "1c9a35ca-d233-491c-9d3d-1dc7fb879b13",
   "metadata": {},
   "outputs": [
    {
     "name": "stdout",
     "output_type": "stream",
     "text": [
      "Happy Chauhan\n",
      "Aman Mishra\n",
      "Sourabh Rajput\n",
      "Komal\n"
     ]
    }
   ],
   "source": [
    "for go in Names:\n",
    "    if go == \"Asif\":\n",
    "        break\n",
    "    print(go)"
   ]
  },
  {
   "cell_type": "code",
   "execution_count": 12,
   "id": "f3c35f6d-7d38-44ad-b2f9-79f424e65c31",
   "metadata": {},
   "outputs": [
    {
     "data": {
      "text/plain": [
       "'Asif'"
      ]
     },
     "execution_count": 12,
     "metadata": {},
     "output_type": "execute_result"
    }
   ],
   "source": [
    "go"
   ]
  },
  {
   "cell_type": "code",
   "execution_count": 17,
   "id": "1c325a1a-6bbf-4da7-9ad2-9ee9d32a8c3d",
   "metadata": {},
   "outputs": [],
   "source": [
    "Names = [\"Happy Chauhan\", \"Aman Mishra\", \"Sourabh Rajput\", \"Komal\", \"Asif\", \"Lubhanshi\", \"Akansha\"]"
   ]
  },
  {
   "cell_type": "code",
   "execution_count": 20,
   "id": "e12d532d-ae70-40f4-a745-d01c844f6516",
   "metadata": {},
   "outputs": [],
   "source": [
    "for go in Names:\n",
    "    if go == \"Komal\":\n",
    "        break\n",
    "        print(go)\n",
    "else :\n",
    "        print(\"Are rukja bhyyi\")"
   ]
  },
  {
   "cell_type": "code",
   "execution_count": 21,
   "id": "02eabd6a-a13f-46e6-bdfe-9ac36bb80a53",
   "metadata": {},
   "outputs": [
    {
     "data": {
      "text/plain": [
       "'Komal'"
      ]
     },
     "execution_count": 21,
     "metadata": {},
     "output_type": "execute_result"
    }
   ],
   "source": [
    "go"
   ]
  },
  {
   "cell_type": "code",
   "execution_count": 28,
   "id": "464abf0f-5f07-4c69-b245-a0da08647bc5",
   "metadata": {},
   "outputs": [
    {
     "name": "stdout",
     "output_type": "stream",
     "text": [
      "Happy Chauhan\n",
      "Aman Mishra\n",
      "Komal\n",
      "Asif\n",
      "Lubhanshi\n",
      "Akansha\n"
     ]
    }
   ],
   "source": [
    "for tuk in Names:\n",
    "    if tuk == \"Sourabh Rajput\":\n",
    "        continue\n",
    "    print(tuk)"
   ]
  },
  {
   "cell_type": "code",
   "execution_count": 32,
   "id": "485f0675-dc35-4393-815b-f1877808fecf",
   "metadata": {},
   "outputs": [
    {
     "name": "stdout",
     "output_type": "stream",
     "text": [
      "Happy Chauhan\n",
      "Aman Mishra\n",
      "Sourabh Rajput\n",
      "Komal\n",
      "Asif\n",
      "Lubhanshi\n"
     ]
    }
   ],
   "source": [
    "for dora in Names:\n",
    "    if dora == \"Akansha\":\n",
    "        continue\n",
    "    print(dora)"
   ]
  },
  {
   "cell_type": "code",
   "execution_count": 36,
   "id": "bdda5244-03b5-47e6-98b5-dc8212ecaea8",
   "metadata": {},
   "outputs": [
    {
     "name": "stdout",
     "output_type": "stream",
     "text": [
      "Happy Chauhan\n",
      "Aman Mishra\n",
      "Sourabh Rajput\n",
      "Komal\n",
      "Lubhanshi\n",
      "Akansha\n",
      "What to do now tell me\n"
     ]
    }
   ],
   "source": [
    "for kenya in Names:\n",
    "    if kenya == \"Asif\":\n",
    "        continue\n",
    "    print(kenya)\n",
    "else:\n",
    "    print(\"What to do now tell me\")"
   ]
  },
  {
   "cell_type": "code",
   "execution_count": 37,
   "id": "2a042b0b-4601-4b4a-b801-05223cc0de1b",
   "metadata": {},
   "outputs": [
    {
     "data": {
      "text/plain": [
       "range(0, 20)"
      ]
     },
     "execution_count": 37,
     "metadata": {},
     "output_type": "execute_result"
    }
   ],
   "source": [
    "range(20)"
   ]
  },
  {
   "cell_type": "code",
   "execution_count": 38,
   "id": "a0eae32d-1e9e-4bb2-9333-753ef4e20853",
   "metadata": {},
   "outputs": [
    {
     "data": {
      "text/plain": [
       "[0, 1, 2, 3, 4, 5, 6, 7, 8, 9, 10, 11, 12, 13, 14, 15, 16, 17, 18, 19]"
      ]
     },
     "execution_count": 38,
     "metadata": {},
     "output_type": "execute_result"
    }
   ],
   "source": [
    "list(range(20))"
   ]
  },
  {
   "cell_type": "code",
   "execution_count": 39,
   "id": "b042e0a5-fd2d-4dee-b0cf-3b91eda86e7f",
   "metadata": {},
   "outputs": [
    {
     "data": {
      "text/plain": [
       "[0,\n",
       " 4,\n",
       " 8,\n",
       " 12,\n",
       " 16,\n",
       " 20,\n",
       " 24,\n",
       " 28,\n",
       " 32,\n",
       " 36,\n",
       " 40,\n",
       " 44,\n",
       " 48,\n",
       " 52,\n",
       " 56,\n",
       " 60,\n",
       " 64,\n",
       " 68,\n",
       " 72,\n",
       " 76,\n",
       " 80,\n",
       " 84,\n",
       " 88,\n",
       " 92,\n",
       " 96]"
      ]
     },
     "execution_count": 39,
     "metadata": {},
     "output_type": "execute_result"
    }
   ],
   "source": [
    "list(range(0,99,4))"
   ]
  },
  {
   "cell_type": "code",
   "execution_count": 40,
   "id": "fe43f792-7e3d-43fe-9ab8-8a3945d57916",
   "metadata": {},
   "outputs": [
    {
     "data": {
      "text/plain": [
       "[99, 89, 79, 69, 59, 49, 39, 29, 19, 9]"
      ]
     },
     "execution_count": 40,
     "metadata": {},
     "output_type": "execute_result"
    }
   ],
   "source": [
    "list(range(99,0,-10))"
   ]
  },
  {
   "cell_type": "code",
   "execution_count": 47,
   "id": "72bc90d7-1b31-44ac-b907-96bfbbf97363",
   "metadata": {},
   "outputs": [],
   "source": [
    "list(range(99,0,-10)).reverse()"
   ]
  },
  {
   "cell_type": "code",
   "execution_count": 48,
   "id": "e92f40d3-dfb6-4b1d-a65c-43aec3fff39f",
   "metadata": {},
   "outputs": [
    {
     "data": {
      "text/plain": [
       "[99, 89, 79, 69, 59, 49, 39, 29, 19, 9]"
      ]
     },
     "execution_count": 48,
     "metadata": {},
     "output_type": "execute_result"
    }
   ],
   "source": [
    "list(range(99,0,-10))"
   ]
  },
  {
   "cell_type": "code",
   "execution_count": 49,
   "id": "a56f6366-58e8-421d-894e-4fe9458d2975",
   "metadata": {},
   "outputs": [
    {
     "data": {
      "text/plain": [
       "[0, 1, 2, 3, 4, 5, 6]"
      ]
     },
     "execution_count": 49,
     "metadata": {},
     "output_type": "execute_result"
    }
   ],
   "source": [
    "list(range(len(Names)))"
   ]
  },
  {
   "cell_type": "code",
   "execution_count": 53,
   "id": "17a38b70-e24c-477c-8397-c8644ac53427",
   "metadata": {},
   "outputs": [
    {
     "name": "stdout",
     "output_type": "stream",
     "text": [
      "Happy Chauhan\n",
      "Aman Mishra\n",
      "Sourabh Rajput\n",
      "Komal\n",
      "Asif\n",
      "Lubhanshi\n",
      "Akansha\n"
     ]
    }
   ],
   "source": [
    "for furr in range(len(Names)):\n",
    "    print(Names[furr])"
   ]
  },
  {
   "cell_type": "code",
   "execution_count": 90,
   "id": "6debc7d5-8cff-449c-bf96-01820e8735dc",
   "metadata": {},
   "outputs": [
    {
     "ename": "IndexError",
     "evalue": "list index out of range",
     "output_type": "error",
     "traceback": [
      "\u001b[0;31m---------------------------------------------------------------------------\u001b[0m",
      "\u001b[0;31mIndexError\u001b[0m                                Traceback (most recent call last)",
      "Cell \u001b[0;32mIn[90], line 2\u001b[0m\n\u001b[1;32m      1\u001b[0m \u001b[38;5;28;01mfor\u001b[39;00m furr \u001b[38;5;129;01min\u001b[39;00m \u001b[38;5;28mrange\u001b[39m(\u001b[38;5;28mlen\u001b[39m(Names), \u001b[38;5;241m0\u001b[39m, \u001b[38;5;241m-\u001b[39m\u001b[38;5;241m1\u001b[39m):\n\u001b[0;32m----> 2\u001b[0m     \u001b[38;5;28mprint\u001b[39m(\u001b[43mNames\u001b[49m\u001b[43m[\u001b[49m\u001b[43mfurr\u001b[49m\u001b[43m]\u001b[49m)\n",
      "\u001b[0;31mIndexError\u001b[0m: list index out of range"
     ]
    }
   ],
   "source": [
    "for furr in range(len(Names), 0, -1):\n",
    "    print(Names[furr])"
   ]
  },
  {
   "cell_type": "code",
   "execution_count": 55,
   "id": "4ba7e95a-676c-4d05-968e-0fb477fe6c88",
   "metadata": {},
   "outputs": [
    {
     "data": {
      "text/plain": [
       "[7, 6, 5, 4, 3, 2, 1]"
      ]
     },
     "execution_count": 55,
     "metadata": {},
     "output_type": "execute_result"
    }
   ],
   "source": [
    "list(range(len(Names),0,-1))"
   ]
  },
  {
   "cell_type": "code",
   "execution_count": 68,
   "id": "110892bc-2e8b-43e7-ae67-59f468303994",
   "metadata": {},
   "outputs": [
    {
     "name": "stdout",
     "output_type": "stream",
     "text": [
      "7\n",
      "6\n",
      "5\n",
      "4\n",
      "3\n",
      "2\n",
      "1\n"
     ]
    }
   ],
   "source": [
    "for gian in range(len(Names),0,-1):\n",
    "    print(gian)"
   ]
  },
  {
   "cell_type": "code",
   "execution_count": 72,
   "id": "4818c865-94de-415a-8ddf-d5422370411e",
   "metadata": {},
   "outputs": [
    {
     "name": "stdout",
     "output_type": "stream",
     "text": [
      "7\n",
      "6\n",
      "5\n",
      "4\n",
      "3\n",
      "2\n",
      "1\n"
     ]
    }
   ],
   "source": [
    "for gian in range(len(Names),0,-1):\n",
    "    print(gian)"
   ]
  },
  {
   "cell_type": "code",
   "execution_count": 73,
   "id": "2614a09f-e6c0-4e50-b52c-923f0f9952b8",
   "metadata": {},
   "outputs": [],
   "source": [
    "l1 = [1,87,7,5,48,4,7,6,18,9,18,94,2,4,94,2,68,61,89,1,579,1,8,674,2,549,21,8,1,86,4,1,87,6,41,7,98]"
   ]
  },
  {
   "cell_type": "code",
   "execution_count": 74,
   "id": "b938d7ce-b0e0-4d1b-9b4f-3640565711bf",
   "metadata": {},
   "outputs": [
    {
     "data": {
      "text/plain": [
       "1"
      ]
     },
     "execution_count": 74,
     "metadata": {},
     "output_type": "execute_result"
    }
   ],
   "source": [
    "gian"
   ]
  },
  {
   "cell_type": "code",
   "execution_count": 75,
   "id": "8066b287-866b-41f1-acc7-67b6dfd11581",
   "metadata": {},
   "outputs": [
    {
     "data": {
      "text/plain": [
       "7"
      ]
     },
     "execution_count": 75,
     "metadata": {},
     "output_type": "execute_result"
    }
   ],
   "source": [
    "len(Names)"
   ]
  },
  {
   "cell_type": "code",
   "execution_count": 76,
   "id": "a04a9480-c893-46b4-b991-9336b82b54a3",
   "metadata": {},
   "outputs": [
    {
     "data": {
      "text/plain": [
       "37"
      ]
     },
     "execution_count": 76,
     "metadata": {},
     "output_type": "execute_result"
    }
   ],
   "source": [
    "len(l1)"
   ]
  },
  {
   "cell_type": "code",
   "execution_count": 88,
   "id": "25d490e9-2d9e-45d6-b1c3-20493deace18",
   "metadata": {},
   "outputs": [
    {
     "name": "stdout",
     "output_type": "stream",
     "text": [
      "1\n",
      "7\n",
      "48\n",
      "7\n",
      "18\n",
      "18\n",
      "2\n",
      "94\n",
      "68\n",
      "89\n",
      "579\n",
      "8\n",
      "2\n",
      "21\n",
      "1\n",
      "4\n",
      "87\n",
      "41\n",
      "98\n"
     ]
    }
   ],
   "source": [
    "for gian in range(0,len(l1),2):\n",
    "    print(l1[gian])"
   ]
  },
  {
   "cell_type": "code",
   "execution_count": 91,
   "id": "1cf464a6-3518-4e5a-84b9-980a6499e6e3",
   "metadata": {},
   "outputs": [
    {
     "data": {
      "text/plain": [
       "2798"
      ]
     },
     "execution_count": 91,
     "metadata": {},
     "output_type": "execute_result"
    }
   ],
   "source": [
    "result = 0\n",
    "for I in l1:\n",
    "    result = result + I\n",
    "result"
   ]
  },
  {
   "cell_type": "code",
   "execution_count": 92,
   "id": "34af6023-2358-44c0-a896-5e3694eeb274",
   "metadata": {},
   "outputs": [
    {
     "data": {
      "text/plain": [
       "2798"
      ]
     },
     "execution_count": 92,
     "metadata": {},
     "output_type": "execute_result"
    }
   ],
   "source": [
    "sum(l1)"
   ]
  },
  {
   "cell_type": "code",
   "execution_count": 93,
   "id": "efd260f4-1d27-4e73-95ef-969545275c38",
   "metadata": {},
   "outputs": [],
   "source": [
    "tup =(1,2,3,4,5,6,7,8,9)"
   ]
  },
  {
   "cell_type": "code",
   "execution_count": 94,
   "id": "fc5794d8-6022-44de-849f-f0a51bfdf254",
   "metadata": {},
   "outputs": [
    {
     "name": "stdout",
     "output_type": "stream",
     "text": [
      "1\n",
      "2\n",
      "3\n",
      "4\n",
      "5\n",
      "6\n",
      "7\n",
      "8\n",
      "9\n"
     ]
    }
   ],
   "source": [
    "for i in tup:\n",
    "    print(i)"
   ]
  },
  {
   "cell_type": "code",
   "execution_count": 95,
   "id": "d1724f43-b207-4b89-a9e0-19cf35e6a1e6",
   "metadata": {},
   "outputs": [
    {
     "data": {
      "text/plain": [
       "45"
      ]
     },
     "execution_count": 95,
     "metadata": {},
     "output_type": "execute_result"
    }
   ],
   "source": [
    "results = 0\n",
    "for i in tup:\n",
    "    results = results + i\n",
    "results"
   ]
  },
  {
   "cell_type": "code",
   "execution_count": 96,
   "id": "b4f49bce-c6e9-43f3-966f-ff853a0232c4",
   "metadata": {},
   "outputs": [],
   "source": [
    "suuuu = {1,2,3,4,5,87}\n",
    "pooh = {54,48,1,6,78,\"Happy Chauhan\", \"Data Science\"}"
   ]
  },
  {
   "cell_type": "code",
   "execution_count": 97,
   "id": "887dec2c-8b4b-4f61-a593-e64f93c5d64b",
   "metadata": {},
   "outputs": [
    {
     "data": {
      "text/plain": [
       "102"
      ]
     },
     "execution_count": 97,
     "metadata": {},
     "output_type": "execute_result"
    }
   ],
   "source": [
    "re = 0 \n",
    "for p in suuuu:\n",
    "    re = re + p\n",
    "re"
   ]
  },
  {
   "cell_type": "code",
   "execution_count": 98,
   "id": "ec382618-80a7-4f0c-83b1-5da29386cc33",
   "metadata": {},
   "outputs": [
    {
     "name": "stdout",
     "output_type": "stream",
     "text": [
      "48\n",
      "1\n",
      "Data Science\n",
      "Happy Chauhan\n",
      "6\n",
      "54\n",
      "78\n"
     ]
    }
   ],
   "source": [
    "for pu in pooh:\n",
    "    print(pu)"
   ]
  },
  {
   "cell_type": "code",
   "execution_count": 99,
   "id": "de45f80c-c635-47d5-bda2-113e56b01df2",
   "metadata": {},
   "outputs": [],
   "source": [
    "s1 = \"Yo Yo Honey singh\""
   ]
  },
  {
   "cell_type": "code",
   "execution_count": 103,
   "id": "3bffb31a-274c-4b8c-a0a5-b621766fd3d8",
   "metadata": {},
   "outputs": [
    {
     "name": "stdout",
     "output_type": "stream",
     "text": [
      "Y\n",
      "o\n",
      " \n",
      "Y\n",
      "o\n",
      " \n",
      "H\n",
      "o\n",
      "n\n",
      "e\n",
      "y\n",
      " \n",
      "s\n",
      "i\n",
      "n\n",
      "g\n",
      "h\n"
     ]
    }
   ],
   "source": [
    "for i in s1:\n",
    "    print(i)"
   ]
  },
  {
   "cell_type": "code",
   "execution_count": 104,
   "id": "d0387026-7d45-4069-9788-fdf0b1258e98",
   "metadata": {},
   "outputs": [],
   "source": [
    "dic = {\"name\" : \"Happy Chauhan\", \"time\": [5,10,8,2] , \"course\": [\"Data science\", \"Python\", \"ML\"]}"
   ]
  },
  {
   "cell_type": "code",
   "execution_count": 105,
   "id": "c01789ed-39d7-424d-a7af-75dac631ec1c",
   "metadata": {},
   "outputs": [
    {
     "name": "stdout",
     "output_type": "stream",
     "text": [
      "Happy Chauhan\n",
      "[5, 10, 8, 2]\n",
      "['Data science', 'Python', 'ML']\n"
     ]
    }
   ],
   "source": [
    "for i in dic.keys():\n",
    "    print(dic[i])"
   ]
  },
  {
   "cell_type": "code",
   "execution_count": 108,
   "id": "727efa68-8407-410f-8f7c-c17123e16652",
   "metadata": {},
   "outputs": [
    {
     "name": "stdout",
     "output_type": "stream",
     "text": [
      "Happy Chauhan\n",
      "[5, 10, 8, 2]\n",
      "['Data science', 'Python', 'ML']\n"
     ]
    }
   ],
   "source": [
    "for i in dic.values():\n",
    "    print(i)"
   ]
  },
  {
   "cell_type": "code",
   "execution_count": 109,
   "id": "0ef95e5f-98a5-41ee-b0a0-855f752a1eb5",
   "metadata": {},
   "outputs": [
    {
     "name": "stdout",
     "output_type": "stream",
     "text": [
      "('name', 'Happy Chauhan')\n",
      "('time', [5, 10, 8, 2])\n",
      "('course', ['Data science', 'Python', 'ML'])\n"
     ]
    }
   ],
   "source": [
    "for i in dic.items():\n",
    "    print(i)"
   ]
  },
  {
   "cell_type": "code",
   "execution_count": null,
   "id": "a6eeac63-40f8-47ea-98dd-7a18208f4136",
   "metadata": {},
   "outputs": [],
   "source": []
  }
 ],
 "metadata": {
  "kernelspec": {
   "display_name": "Python 3 (ipykernel)",
   "language": "python",
   "name": "python3"
  },
  "language_info": {
   "codemirror_mode": {
    "name": "ipython",
    "version": 3
   },
   "file_extension": ".py",
   "mimetype": "text/x-python",
   "name": "python",
   "nbconvert_exporter": "python",
   "pygments_lexer": "ipython3",
   "version": "3.10.8"
  }
 },
 "nbformat": 4,
 "nbformat_minor": 5
}
