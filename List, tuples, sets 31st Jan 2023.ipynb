{
 "cells": [
  {
   "cell_type": "code",
   "execution_count": 1,
   "id": "3d0fb652-dbae-4535-aad3-fe0dfd215b42",
   "metadata": {},
   "outputs": [],
   "source": [
    "#list is something that stores different type of variables in a single list"
   ]
  },
  {
   "cell_type": "code",
   "execution_count": 3,
   "id": "5f1b83c0-8222-4919-9c7a-a1ac9eff32a7",
   "metadata": {},
   "outputs": [],
   "source": [
    "List = [1, 337, 3478.3468, \"Data Science\", True, False, 38 + 34j]"
   ]
  },
  {
   "cell_type": "code",
   "execution_count": 4,
   "id": "d86a66d6-b169-45ec-8cb0-0a011b2b8fef",
   "metadata": {},
   "outputs": [
    {
     "data": {
      "text/plain": [
       "list"
      ]
     },
     "execution_count": 4,
     "metadata": {},
     "output_type": "execute_result"
    }
   ],
   "source": [
    "type(List)"
   ]
  },
  {
   "cell_type": "code",
   "execution_count": 5,
   "id": "c4347a0f-2fbd-4473-8ce7-cdf5e1eb5e0a",
   "metadata": {},
   "outputs": [],
   "source": [
    "#in list data must be stored inside the square brackets[]."
   ]
  },
  {
   "cell_type": "code",
   "execution_count": 6,
   "id": "ceaf1691-bb94-4200-b3db-f656a8df5b2d",
   "metadata": {},
   "outputs": [],
   "source": [
    "#as in string slicing and indexing is done same goes for list too."
   ]
  },
  {
   "cell_type": "code",
   "execution_count": 7,
   "id": "6c0fc81b-53bc-443b-8326-151dc1ed1777",
   "metadata": {},
   "outputs": [],
   "source": [
    "#List also follows the slicing and indexing"
   ]
  },
  {
   "cell_type": "code",
   "execution_count": 8,
   "id": "0b4f34ba-6976-4ed4-9bcb-e3292a3d82b9",
   "metadata": {},
   "outputs": [
    {
     "data": {
      "text/plain": [
       "1"
      ]
     },
     "execution_count": 8,
     "metadata": {},
     "output_type": "execute_result"
    }
   ],
   "source": [
    "List[0]"
   ]
  },
  {
   "cell_type": "code",
   "execution_count": 9,
   "id": "03e51fed-53a7-4276-8fa0-0a16f1f457b0",
   "metadata": {},
   "outputs": [
    {
     "data": {
      "text/plain": [
       "337"
      ]
     },
     "execution_count": 9,
     "metadata": {},
     "output_type": "execute_result"
    }
   ],
   "source": [
    "List[1]"
   ]
  },
  {
   "cell_type": "code",
   "execution_count": 10,
   "id": "2c60b43a-d49a-49fb-83f7-2beddfa30219",
   "metadata": {},
   "outputs": [
    {
     "data": {
      "text/plain": [
       "3478.3468"
      ]
     },
     "execution_count": 10,
     "metadata": {},
     "output_type": "execute_result"
    }
   ],
   "source": [
    "List[2]"
   ]
  },
  {
   "cell_type": "code",
   "execution_count": 11,
   "id": "af306bc4-ea96-4374-93bf-527dec8f1125",
   "metadata": {},
   "outputs": [
    {
     "data": {
      "text/plain": [
       "'Data Science'"
      ]
     },
     "execution_count": 11,
     "metadata": {},
     "output_type": "execute_result"
    }
   ],
   "source": [
    "List[3]"
   ]
  },
  {
   "cell_type": "code",
   "execution_count": 12,
   "id": "854f0a55-d5c5-4c22-9a58-f98ff8d5bde1",
   "metadata": {},
   "outputs": [
    {
     "data": {
      "text/plain": [
       "True"
      ]
     },
     "execution_count": 12,
     "metadata": {},
     "output_type": "execute_result"
    }
   ],
   "source": [
    "List[4]"
   ]
  },
  {
   "cell_type": "code",
   "execution_count": 13,
   "id": "41466a4d-9c85-4dd0-a2ad-aea4c95ba524",
   "metadata": {},
   "outputs": [
    {
     "data": {
      "text/plain": [
       "False"
      ]
     },
     "execution_count": 13,
     "metadata": {},
     "output_type": "execute_result"
    }
   ],
   "source": [
    "List[5]"
   ]
  },
  {
   "cell_type": "code",
   "execution_count": 14,
   "id": "33163a77-febb-4114-9a8e-d9aadf1fe17f",
   "metadata": {},
   "outputs": [
    {
     "data": {
      "text/plain": [
       "(38+34j)"
      ]
     },
     "execution_count": 14,
     "metadata": {},
     "output_type": "execute_result"
    }
   ],
   "source": [
    "List[6]"
   ]
  },
  {
   "cell_type": "code",
   "execution_count": 15,
   "id": "8245ac48-222d-4e68-b88f-ae41cb654283",
   "metadata": {},
   "outputs": [],
   "source": [
    "# When we call any index out of the range then it is going to show an error"
   ]
  },
  {
   "cell_type": "code",
   "execution_count": 16,
   "id": "2f02e98a-e700-4000-baa5-070519e90695",
   "metadata": {},
   "outputs": [],
   "source": [
    "#anything can be stored inside a list either it is set, toples or any other thing"
   ]
  },
  {
   "cell_type": "code",
   "execution_count": 17,
   "id": "751e3c5d-e2c2-4569-9d75-10d29feb5311",
   "metadata": {},
   "outputs": [
    {
     "data": {
      "text/plain": [
       "[1, 337, 3478.3468, 'Data Science']"
      ]
     },
     "execution_count": 17,
     "metadata": {},
     "output_type": "execute_result"
    }
   ],
   "source": [
    "List[0:4]"
   ]
  },
  {
   "cell_type": "code",
   "execution_count": 18,
   "id": "c85d7ca1-d85c-4925-9f93-08cbd693dede",
   "metadata": {},
   "outputs": [
    {
     "data": {
      "text/plain": [
       "(38+34j)"
      ]
     },
     "execution_count": 18,
     "metadata": {},
     "output_type": "execute_result"
    }
   ],
   "source": [
    "List[-1]"
   ]
  },
  {
   "cell_type": "code",
   "execution_count": 19,
   "id": "d134c616-1c7e-45ef-b116-8463ad7bfd99",
   "metadata": {},
   "outputs": [
    {
     "data": {
      "text/plain": [
       "[(38+34j), False, True, 'Data Science', 3478.3468, 337, 1]"
      ]
     },
     "execution_count": 19,
     "metadata": {},
     "output_type": "execute_result"
    }
   ],
   "source": [
    "List[::-1]"
   ]
  },
  {
   "cell_type": "code",
   "execution_count": 20,
   "id": "5d1afa46-5b05-47e2-9766-e86fe0abcb01",
   "metadata": {},
   "outputs": [
    {
     "data": {
      "text/plain": [
       "[1, 3478.3468, True, (38+34j)]"
      ]
     },
     "execution_count": 20,
     "metadata": {},
     "output_type": "execute_result"
    }
   ],
   "source": [
    "List[::2]"
   ]
  },
  {
   "cell_type": "code",
   "execution_count": 21,
   "id": "c4330d2a-add5-4944-82e3-012fca6567e3",
   "metadata": {},
   "outputs": [
    {
     "data": {
      "text/plain": [
       "[(38+34j), True, 3478.3468, 1]"
      ]
     },
     "execution_count": 21,
     "metadata": {},
     "output_type": "execute_result"
    }
   ],
   "source": [
    "List[::-2]"
   ]
  },
  {
   "cell_type": "code",
   "execution_count": 22,
   "id": "0e6558b7-3bfd-492c-8c4c-37048b4a7439",
   "metadata": {},
   "outputs": [],
   "source": [
    "String = \"Data Sciences\""
   ]
  },
  {
   "cell_type": "code",
   "execution_count": 23,
   "id": "73003486-e91f-449a-a66f-a5c98703b178",
   "metadata": {},
   "outputs": [
    {
     "ename": "TypeError",
     "evalue": "can only concatenate list (not \"str\") to list",
     "output_type": "error",
     "traceback": [
      "\u001b[0;31m---------------------------------------------------------------------------\u001b[0m",
      "\u001b[0;31mTypeError\u001b[0m                                 Traceback (most recent call last)",
      "Cell \u001b[0;32mIn[23], line 1\u001b[0m\n\u001b[0;32m----> 1\u001b[0m \u001b[43mList\u001b[49m\u001b[43m \u001b[49m\u001b[38;5;241;43m+\u001b[39;49m\u001b[43m \u001b[49m\u001b[43mString\u001b[49m\n",
      "\u001b[0;31mTypeError\u001b[0m: can only concatenate list (not \"str\") to list"
     ]
    }
   ],
   "source": [
    "List + String"
   ]
  },
  {
   "cell_type": "code",
   "execution_count": 24,
   "id": "0d3186ea-2040-4a99-99a0-9c3f7e72ea79",
   "metadata": {},
   "outputs": [],
   "source": [
    "#can't concatinate string with the list because both contain different data type"
   ]
  },
  {
   "cell_type": "code",
   "execution_count": 26,
   "id": "dc879ec1-c537-4e4d-9be8-1613739baec2",
   "metadata": {},
   "outputs": [
    {
     "data": {
      "text/plain": [
       "['D', 'a', 't', 'a', ' ', 'S', 'c', 'i', 'e', 'n', 'c', 'e', 's']"
      ]
     },
     "execution_count": 26,
     "metadata": {},
     "output_type": "execute_result"
    }
   ],
   "source": [
    "list(String)"
   ]
  },
  {
   "cell_type": "code",
   "execution_count": 27,
   "id": "0e2200c2-72f9-4c6f-9e92-b734b40bc2b7",
   "metadata": {},
   "outputs": [
    {
     "data": {
      "text/plain": [
       "['D',\n",
       " 'a',\n",
       " 't',\n",
       " 'a',\n",
       " ' ',\n",
       " 'S',\n",
       " 'c',\n",
       " 'i',\n",
       " 'e',\n",
       " 'n',\n",
       " 'c',\n",
       " 'e',\n",
       " 's',\n",
       " 1,\n",
       " 337,\n",
       " 3478.3468,\n",
       " 'Data Science',\n",
       " True,\n",
       " False,\n",
       " (38+34j)]"
      ]
     },
     "execution_count": 27,
     "metadata": {},
     "output_type": "execute_result"
    }
   ],
   "source": [
    "list(String) + List"
   ]
  },
  {
   "cell_type": "code",
   "execution_count": 28,
   "id": "93875f95-bd7c-4b5d-bb56-7ebc69380f07",
   "metadata": {},
   "outputs": [
    {
     "data": {
      "text/plain": [
       "[1, 337, 3478.3468, 'Data Science', True, False, (38+34j)]"
      ]
     },
     "execution_count": 28,
     "metadata": {},
     "output_type": "execute_result"
    }
   ],
   "source": [
    "List"
   ]
  },
  {
   "cell_type": "code",
   "execution_count": 30,
   "id": "a2e30f0a-781a-4264-8ab7-be949ee088d5",
   "metadata": {},
   "outputs": [
    {
     "data": {
      "text/plain": [
       "'a'"
      ]
     },
     "execution_count": 30,
     "metadata": {},
     "output_type": "execute_result"
    }
   ],
   "source": [
    "List[3][3]"
   ]
  },
  {
   "cell_type": "code",
   "execution_count": 31,
   "id": "68a9a534-d101-4c56-8307-7274c7b0bdf8",
   "metadata": {},
   "outputs": [],
   "source": [
    "#this is used if we want to get a certain word or charcter from a string or a list"
   ]
  },
  {
   "cell_type": "code",
   "execution_count": 33,
   "id": "1f8dbdaa-0abd-44a9-a83d-25f9b75b744c",
   "metadata": {},
   "outputs": [
    {
     "data": {
      "text/plain": [
       "'Data'"
      ]
     },
     "execution_count": 33,
     "metadata": {},
     "output_type": "execute_result"
    }
   ],
   "source": [
    "List[3][0:4]"
   ]
  },
  {
   "cell_type": "code",
   "execution_count": 34,
   "id": "f9eb56cf-a3f5-438c-ac5c-ec608bd4a395",
   "metadata": {},
   "outputs": [
    {
     "data": {
      "text/plain": [
       "'Data Science'"
      ]
     },
     "execution_count": 34,
     "metadata": {},
     "output_type": "execute_result"
    }
   ],
   "source": [
    "List[3][::]"
   ]
  },
  {
   "cell_type": "code",
   "execution_count": 35,
   "id": "0c6a2524-31ac-4a7e-bde5-c8d8ca11195f",
   "metadata": {},
   "outputs": [
    {
     "data": {
      "text/plain": [
       "'Science'"
      ]
     },
     "execution_count": 35,
     "metadata": {},
     "output_type": "execute_result"
    }
   ],
   "source": [
    "List[3][5::]"
   ]
  },
  {
   "cell_type": "code",
   "execution_count": 36,
   "id": "cb537835-ad24-4a2d-aebb-36128bc59ef9",
   "metadata": {},
   "outputs": [
    {
     "data": {
      "text/plain": [
       "[1, 337, 3478.3468, 'Data Science', True, False, (38+34j)]"
      ]
     },
     "execution_count": 36,
     "metadata": {},
     "output_type": "execute_result"
    }
   ],
   "source": [
    "List"
   ]
  },
  {
   "cell_type": "code",
   "execution_count": 38,
   "id": "c34559f4-0251-4a03-b9e4-4bf57fd19f70",
   "metadata": {},
   "outputs": [
    {
     "data": {
      "text/plain": [
       "'Tr'"
      ]
     },
     "execution_count": 38,
     "metadata": {},
     "output_type": "execute_result"
    }
   ],
   "source": [
    "str(List[4])[0:2]"
   ]
  },
  {
   "cell_type": "code",
   "execution_count": 39,
   "id": "67ceb991-b8a7-4bf2-93cd-32520f116643",
   "metadata": {},
   "outputs": [],
   "source": [
    "# there is a upend and a extend operation which is used to make or join something in a list\n",
    "# or used to create a list in order to add something in a list"
   ]
  },
  {
   "cell_type": "code",
   "execution_count": 41,
   "id": "c5de0d63-8827-48f5-bd85-e795521e2ef3",
   "metadata": {},
   "outputs": [],
   "source": [
    "go = [1,34,5,67,83]"
   ]
  },
  {
   "cell_type": "code",
   "execution_count": 42,
   "id": "3aa4c710-d849-47d8-ab8f-a51a79ebc67e",
   "metadata": {},
   "outputs": [
    {
     "data": {
      "text/plain": [
       "[1, 337, 3478.3468, 'Data Science', True, False, (38+34j), 1, 34, 5, 67, 83]"
      ]
     },
     "execution_count": 42,
     "metadata": {},
     "output_type": "execute_result"
    }
   ],
   "source": [
    "List + go"
   ]
  },
  {
   "cell_type": "code",
   "execution_count": 43,
   "id": "3e98253d-626c-48cf-a824-4594101fe813",
   "metadata": {},
   "outputs": [
    {
     "data": {
      "text/plain": [
       "[1, 34, 5, 67, 83, 1, 34, 5, 67, 83, 1, 34, 5, 67, 83]"
      ]
     },
     "execution_count": 43,
     "metadata": {},
     "output_type": "execute_result"
    }
   ],
   "source": [
    "go *3"
   ]
  },
  {
   "cell_type": "code",
   "execution_count": 47,
   "id": "979956aa-2665-427c-a591-7c4d49ddadff",
   "metadata": {},
   "outputs": [
    {
     "data": {
      "text/plain": [
       "[1,\n",
       " 34,\n",
       " 5,\n",
       " 67,\n",
       " 83,\n",
       " 1,\n",
       " 34,\n",
       " 5,\n",
       " 67,\n",
       " 83,\n",
       " 1,\n",
       " 34,\n",
       " 5,\n",
       " 67,\n",
       " 83,\n",
       " 1,\n",
       " 34,\n",
       " 5,\n",
       " 67,\n",
       " 83,\n",
       " 1,\n",
       " 34,\n",
       " 5,\n",
       " 67,\n",
       " 83,\n",
       " 1,\n",
       " 34,\n",
       " 5,\n",
       " 67,\n",
       " 83,\n",
       " 1,\n",
       " 34,\n",
       " 5,\n",
       " 67,\n",
       " 83,\n",
       " 1,\n",
       " 34,\n",
       " 5,\n",
       " 67,\n",
       " 83,\n",
       " 1,\n",
       " 34,\n",
       " 5,\n",
       " 67,\n",
       " 83,\n",
       " 1,\n",
       " 34,\n",
       " 5,\n",
       " 67,\n",
       " 83]"
      ]
     },
     "execution_count": 47,
     "metadata": {},
     "output_type": "execute_result"
    }
   ],
   "source": [
    "go * 10"
   ]
  },
  {
   "cell_type": "code",
   "execution_count": 48,
   "id": "f9772a7d-2c43-41ac-97a5-891b2818fe26",
   "metadata": {},
   "outputs": [
    {
     "data": {
      "text/plain": [
       "7"
      ]
     },
     "execution_count": 48,
     "metadata": {},
     "output_type": "execute_result"
    }
   ],
   "source": [
    "len(List)"
   ]
  },
  {
   "cell_type": "code",
   "execution_count": 49,
   "id": "187aeaa0-c798-425a-a4e8-86c291e4e883",
   "metadata": {},
   "outputs": [
    {
     "data": {
      "text/plain": [
       "50"
      ]
     },
     "execution_count": 49,
     "metadata": {},
     "output_type": "execute_result"
    }
   ],
   "source": [
    "len(go*10)"
   ]
  },
  {
   "cell_type": "code",
   "execution_count": 50,
   "id": "337f91ce-ed0a-40d8-8be0-77b78465cb1a",
   "metadata": {},
   "outputs": [],
   "source": [
    "List.append(\"Happy Chauhan\")"
   ]
  },
  {
   "cell_type": "code",
   "execution_count": 51,
   "id": "c309f1f6-e188-4113-88f8-e8961bc4086f",
   "metadata": {},
   "outputs": [
    {
     "data": {
      "text/plain": [
       "[1, 337, 3478.3468, 'Data Science', True, False, (38+34j), 'Happy Chauhan']"
      ]
     },
     "execution_count": 51,
     "metadata": {},
     "output_type": "execute_result"
    }
   ],
   "source": [
    "List"
   ]
  },
  {
   "cell_type": "code",
   "execution_count": 52,
   "id": "5c6e7133-2bdc-4224-8f50-28aea80b0f09",
   "metadata": {},
   "outputs": [],
   "source": [
    "List.append(go)"
   ]
  },
  {
   "cell_type": "code",
   "execution_count": 53,
   "id": "12f08c6c-188e-4a56-8c7d-d15dc2d1f7bd",
   "metadata": {},
   "outputs": [
    {
     "data": {
      "text/plain": [
       "[1,\n",
       " 337,\n",
       " 3478.3468,\n",
       " 'Data Science',\n",
       " True,\n",
       " False,\n",
       " (38+34j),\n",
       " 'Happy Chauhan',\n",
       " [1, 34, 5, 67, 83]]"
      ]
     },
     "execution_count": 53,
     "metadata": {},
     "output_type": "execute_result"
    }
   ],
   "source": [
    "List"
   ]
  },
  {
   "cell_type": "code",
   "execution_count": 54,
   "id": "73a6ec10-3f09-4296-b4e2-87c8c39f6393",
   "metadata": {},
   "outputs": [
    {
     "data": {
      "text/plain": [
       "5"
      ]
     },
     "execution_count": 54,
     "metadata": {},
     "output_type": "execute_result"
    }
   ],
   "source": [
    "List[8][2]"
   ]
  },
  {
   "cell_type": "code",
   "execution_count": 55,
   "id": "6c980c46-864d-4d30-b3be-12978e2b9e1b",
   "metadata": {},
   "outputs": [
    {
     "data": {
      "text/plain": [
       "[1, 34, 5, 67, 83]"
      ]
     },
     "execution_count": 55,
     "metadata": {},
     "output_type": "execute_result"
    }
   ],
   "source": [
    "List[-1]"
   ]
  },
  {
   "cell_type": "code",
   "execution_count": 56,
   "id": "7ce3c116-e725-48c4-afac-c27a171c4004",
   "metadata": {},
   "outputs": [
    {
     "data": {
      "text/plain": [
       "5"
      ]
     },
     "execution_count": 56,
     "metadata": {},
     "output_type": "execute_result"
    }
   ],
   "source": [
    "List[-1][2]"
   ]
  },
  {
   "cell_type": "code",
   "execution_count": 57,
   "id": "622233b7-1087-4820-970b-3e2165795971",
   "metadata": {},
   "outputs": [
    {
     "ename": "TypeError",
     "evalue": "'int' object is not iterable",
     "output_type": "error",
     "traceback": [
      "\u001b[0;31m---------------------------------------------------------------------------\u001b[0m",
      "\u001b[0;31mTypeError\u001b[0m                                 Traceback (most recent call last)",
      "Cell \u001b[0;32mIn[57], line 1\u001b[0m\n\u001b[0;32m----> 1\u001b[0m \u001b[43mList\u001b[49m\u001b[38;5;241;43m.\u001b[39;49m\u001b[43mextend\u001b[49m\u001b[43m(\u001b[49m\u001b[38;5;241;43m3\u001b[39;49m\u001b[43m)\u001b[49m\n",
      "\u001b[0;31mTypeError\u001b[0m: 'int' object is not iterable"
     ]
    }
   ],
   "source": [
    "List.extend(3)"
   ]
  },
  {
   "cell_type": "code",
   "execution_count": 58,
   "id": "50da8154-df46-4235-9176-987d3392f658",
   "metadata": {},
   "outputs": [],
   "source": [
    "List.extend(\"Chauhan\")"
   ]
  },
  {
   "cell_type": "code",
   "execution_count": 59,
   "id": "b4497684-b207-4945-bc29-a05856f80593",
   "metadata": {},
   "outputs": [
    {
     "data": {
      "text/plain": [
       "[1,\n",
       " 337,\n",
       " 3478.3468,\n",
       " 'Data Science',\n",
       " True,\n",
       " False,\n",
       " (38+34j),\n",
       " 'Happy Chauhan',\n",
       " [1, 34, 5, 67, 83],\n",
       " 'C',\n",
       " 'h',\n",
       " 'a',\n",
       " 'u',\n",
       " 'h',\n",
       " 'a',\n",
       " 'n']"
      ]
     },
     "execution_count": 59,
     "metadata": {},
     "output_type": "execute_result"
    }
   ],
   "source": [
    "List"
   ]
  },
  {
   "cell_type": "code",
   "execution_count": 60,
   "id": "fe682af6-abb0-4473-858b-25d5c745108b",
   "metadata": {},
   "outputs": [],
   "source": [
    "# extend function adds only those data type which is iterable i.e in which indexing can be done"
   ]
  },
  {
   "cell_type": "code",
   "execution_count": 61,
   "id": "14867fb7-8e22-4917-9f97-e4aa80212c10",
   "metadata": {},
   "outputs": [],
   "source": [
    "List.extend([3,53,534])"
   ]
  },
  {
   "cell_type": "code",
   "execution_count": 64,
   "id": "cb52ea9e-2b59-404d-af55-f1f69c606d4a",
   "metadata": {},
   "outputs": [
    {
     "data": {
      "text/plain": [
       "[1,\n",
       " 337,\n",
       " 3478.3468,\n",
       " 'Data Science',\n",
       " True,\n",
       " False,\n",
       " (38+34j),\n",
       " 'Happy Chauhan',\n",
       " [1, 34, 5, 67, 83],\n",
       " 'C',\n",
       " 'h',\n",
       " 'a',\n",
       " 'u',\n",
       " 'h',\n",
       " 'a',\n",
       " 'n',\n",
       " 3,\n",
       " 53,\n",
       " 534]"
      ]
     },
     "execution_count": 64,
     "metadata": {},
     "output_type": "execute_result"
    }
   ],
   "source": [
    "List"
   ]
  },
  {
   "cell_type": "code",
   "execution_count": 65,
   "id": "cce088f0-81f4-470e-834c-b2a7f081e320",
   "metadata": {},
   "outputs": [],
   "source": [
    "# upend adds data to a list as it is available while\n",
    "# extend adds data by firstly unwreking it and then adding it to the list"
   ]
  },
  {
   "cell_type": "code",
   "execution_count": 66,
   "id": "710a792f-5bc6-41d9-bfb2-1360a57a7e8d",
   "metadata": {},
   "outputs": [
    {
     "data": {
      "text/plain": [
       "[1, 34, 5, 67, 83]"
      ]
     },
     "execution_count": 66,
     "metadata": {},
     "output_type": "execute_result"
    }
   ],
   "source": [
    "go"
   ]
  },
  {
   "cell_type": "code",
   "execution_count": 67,
   "id": "655995fe-6447-4c9b-9493-29ef7e296c22",
   "metadata": {},
   "outputs": [],
   "source": [
    "# in both the upend and extend function data is added to the end of the list \n",
    "# for adding a certain data in a list at a specific position index function is used"
   ]
  },
  {
   "cell_type": "code",
   "execution_count": 68,
   "id": "dc7bc5f6-e82d-4c38-98d2-8481ee39ff83",
   "metadata": {},
   "outputs": [],
   "source": [
    "go.insert(1, \"Happy Chauhan\")"
   ]
  },
  {
   "cell_type": "code",
   "execution_count": 69,
   "id": "3e8aa9c7-8f76-4331-8e46-b465296ec85d",
   "metadata": {},
   "outputs": [
    {
     "data": {
      "text/plain": [
       "[1, 'Happy Chauhan', 34, 5, 67, 83]"
      ]
     },
     "execution_count": 69,
     "metadata": {},
     "output_type": "execute_result"
    }
   ],
   "source": [
    "go"
   ]
  },
  {
   "cell_type": "code",
   "execution_count": 70,
   "id": "268271dc-89b2-4dc1-b123-2a803b05962d",
   "metadata": {},
   "outputs": [],
   "source": [
    "go.insert(3, [23,4,873])"
   ]
  },
  {
   "cell_type": "code",
   "execution_count": 71,
   "id": "49cb2f1a-ba7d-4f80-b261-fd79cd57bbf7",
   "metadata": {},
   "outputs": [
    {
     "data": {
      "text/plain": [
       "[1, 'Happy Chauhan', 34, [23, 4, 873], 5, 67, 83]"
      ]
     },
     "execution_count": 71,
     "metadata": {},
     "output_type": "execute_result"
    }
   ],
   "source": [
    "go"
   ]
  },
  {
   "cell_type": "code",
   "execution_count": 72,
   "id": "8f61b9e7-0ec7-4327-9700-f9147823cfa8",
   "metadata": {},
   "outputs": [
    {
     "data": {
      "text/plain": [
       "83"
      ]
     },
     "execution_count": 72,
     "metadata": {},
     "output_type": "execute_result"
    }
   ],
   "source": [
    "go.pop()"
   ]
  },
  {
   "cell_type": "code",
   "execution_count": 73,
   "id": "d1f326a3-8233-4543-925b-a5b877e60e3b",
   "metadata": {},
   "outputs": [
    {
     "data": {
      "text/plain": [
       "[1, 'Happy Chauhan', 34, [23, 4, 873], 5, 67]"
      ]
     },
     "execution_count": 73,
     "metadata": {},
     "output_type": "execute_result"
    }
   ],
   "source": [
    "go"
   ]
  },
  {
   "cell_type": "code",
   "execution_count": 74,
   "id": "cf0a3edd-1786-49df-8e65-c804bac42850",
   "metadata": {},
   "outputs": [
    {
     "data": {
      "text/plain": [
       "67"
      ]
     },
     "execution_count": 74,
     "metadata": {},
     "output_type": "execute_result"
    }
   ],
   "source": [
    "go.pop()"
   ]
  },
  {
   "cell_type": "code",
   "execution_count": 75,
   "id": "84754924-bca6-4ef2-9b4f-eb31ee10ac75",
   "metadata": {},
   "outputs": [
    {
     "data": {
      "text/plain": [
       "[1, 'Happy Chauhan', 34, [23, 4, 873], 5]"
      ]
     },
     "execution_count": 75,
     "metadata": {},
     "output_type": "execute_result"
    }
   ],
   "source": [
    "go"
   ]
  },
  {
   "cell_type": "code",
   "execution_count": 76,
   "id": "fcb1e134-dbb0-4ef4-a9aa-05f4639ab6fa",
   "metadata": {},
   "outputs": [
    {
     "data": {
      "text/plain": [
       "[23, 4, 873]"
      ]
     },
     "execution_count": 76,
     "metadata": {},
     "output_type": "execute_result"
    }
   ],
   "source": [
    "go.pop(3)"
   ]
  },
  {
   "cell_type": "code",
   "execution_count": 77,
   "id": "c9ac242d-a82a-4160-bd69-95a6fec1f0f2",
   "metadata": {},
   "outputs": [
    {
     "data": {
      "text/plain": [
       "[1, 'Happy Chauhan', 34, 5]"
      ]
     },
     "execution_count": 77,
     "metadata": {},
     "output_type": "execute_result"
    }
   ],
   "source": [
    "go"
   ]
  },
  {
   "cell_type": "code",
   "execution_count": 79,
   "id": "614dd636-54be-4957-a15e-1ecdd67d871c",
   "metadata": {},
   "outputs": [],
   "source": [
    "List.remove(3)"
   ]
  },
  {
   "cell_type": "code",
   "execution_count": 80,
   "id": "2921cf8b-3674-40d9-bca7-950f1b3ac92e",
   "metadata": {},
   "outputs": [
    {
     "data": {
      "text/plain": [
       "[1,\n",
       " 337,\n",
       " 3478.3468,\n",
       " 'Data Science',\n",
       " True,\n",
       " False,\n",
       " (38+34j),\n",
       " 'Happy Chauhan',\n",
       " [1, 'Happy Chauhan', 34, 5],\n",
       " 'C',\n",
       " 'h',\n",
       " 'a',\n",
       " 'u',\n",
       " 'h',\n",
       " 'a',\n",
       " 'n',\n",
       " 53,\n",
       " 534]"
      ]
     },
     "execution_count": 80,
     "metadata": {},
     "output_type": "execute_result"
    }
   ],
   "source": [
    "List"
   ]
  },
  {
   "cell_type": "code",
   "execution_count": 81,
   "id": "2a092baf-4f46-468b-b207-c973c994d491",
   "metadata": {},
   "outputs": [],
   "source": [
    "List.remove([1, \"Happy Chauhan\", 34, 5])"
   ]
  },
  {
   "cell_type": "code",
   "execution_count": 82,
   "id": "dbc336de-ec63-471d-ad96-d3065fd268df",
   "metadata": {},
   "outputs": [
    {
     "data": {
      "text/plain": [
       "[1,\n",
       " 337,\n",
       " 3478.3468,\n",
       " 'Data Science',\n",
       " True,\n",
       " False,\n",
       " (38+34j),\n",
       " 'Happy Chauhan',\n",
       " 'C',\n",
       " 'h',\n",
       " 'a',\n",
       " 'u',\n",
       " 'h',\n",
       " 'a',\n",
       " 'n',\n",
       " 53,\n",
       " 534]"
      ]
     },
     "execution_count": 82,
     "metadata": {},
     "output_type": "execute_result"
    }
   ],
   "source": [
    "List"
   ]
  },
  {
   "cell_type": "code",
   "execution_count": 83,
   "id": "d62481e0-7097-44de-90f2-8b871c1ee8fc",
   "metadata": {},
   "outputs": [],
   "source": [
    "List.insert(4,[3, \"Happy Chauhan\", 34, 5])"
   ]
  },
  {
   "cell_type": "code",
   "execution_count": 84,
   "id": "ba612330-d46f-4e37-94a7-d65b43342469",
   "metadata": {},
   "outputs": [
    {
     "data": {
      "text/plain": [
       "[1,\n",
       " 337,\n",
       " 3478.3468,\n",
       " 'Data Science',\n",
       " [3, 'Happy Chauhan', 34, 5],\n",
       " True,\n",
       " False,\n",
       " (38+34j),\n",
       " 'Happy Chauhan',\n",
       " 'C',\n",
       " 'h',\n",
       " 'a',\n",
       " 'u',\n",
       " 'h',\n",
       " 'a',\n",
       " 'n',\n",
       " 53,\n",
       " 534]"
      ]
     },
     "execution_count": 84,
     "metadata": {},
     "output_type": "execute_result"
    }
   ],
   "source": [
    "List"
   ]
  },
  {
   "cell_type": "code",
   "execution_count": 85,
   "id": "749a1692-7192-4681-879f-52fd629f8b7f",
   "metadata": {},
   "outputs": [
    {
     "name": "stderr",
     "output_type": "stream",
     "text": [
      "<>:1: SyntaxWarning: list indices must be integers or slices, not str; perhaps you missed a comma?\n",
      "<>:1: SyntaxWarning: list indices must be integers or slices, not str; perhaps you missed a comma?\n",
      "/tmp/ipykernel_73/199167066.py:1: SyntaxWarning: list indices must be integers or slices, not str; perhaps you missed a comma?\n",
      "  List.remove([3, \"Happy Chauhan\", 34, 5][\"Happy Chauhan\"])\n",
      "/tmp/ipykernel_73/199167066.py:1: SyntaxWarning: list indices must be integers or slices, not str; perhaps you missed a comma?\n",
      "  List.remove([3, \"Happy Chauhan\", 34, 5][\"Happy Chauhan\"])\n",
      "/tmp/ipykernel_73/199167066.py:1: SyntaxWarning: list indices must be integers or slices, not str; perhaps you missed a comma?\n",
      "  List.remove([3, \"Happy Chauhan\", 34, 5][\"Happy Chauhan\"])\n"
     ]
    },
    {
     "ename": "TypeError",
     "evalue": "list indices must be integers or slices, not str",
     "output_type": "error",
     "traceback": [
      "\u001b[0;31m---------------------------------------------------------------------------\u001b[0m",
      "\u001b[0;31mTypeError\u001b[0m                                 Traceback (most recent call last)",
      "Cell \u001b[0;32mIn[85], line 1\u001b[0m\n\u001b[0;32m----> 1\u001b[0m List\u001b[38;5;241m.\u001b[39mremove(\u001b[43m[\u001b[49m\u001b[38;5;241;43m3\u001b[39;49m\u001b[43m,\u001b[49m\u001b[43m \u001b[49m\u001b[38;5;124;43m\"\u001b[39;49m\u001b[38;5;124;43mHappy Chauhan\u001b[39;49m\u001b[38;5;124;43m\"\u001b[39;49m\u001b[43m,\u001b[49m\u001b[43m \u001b[49m\u001b[38;5;241;43m34\u001b[39;49m\u001b[43m,\u001b[49m\u001b[43m \u001b[49m\u001b[38;5;241;43m5\u001b[39;49m\u001b[43m]\u001b[49m\u001b[43m[\u001b[49m\u001b[38;5;124;43m\"\u001b[39;49m\u001b[38;5;124;43mHappy Chauhan\u001b[39;49m\u001b[38;5;124;43m\"\u001b[39;49m\u001b[43m]\u001b[49m)\n",
      "\u001b[0;31mTypeError\u001b[0m: list indices must be integers or slices, not str"
     ]
    }
   ],
   "source": [
    "List.remove([3, \"Happy Chauhan\", 34, 5][\"Happy Chauhan\"])"
   ]
  },
  {
   "cell_type": "code",
   "execution_count": 86,
   "id": "d0f50d0f-7fc3-4089-9d5c-b14a6297fff0",
   "metadata": {},
   "outputs": [],
   "source": [
    "# There is no direct way to do upper function we have to first extract list then remove desired data then again add to the list for\n",
    "# the desired product or list"
   ]
  },
  {
   "cell_type": "code",
   "execution_count": 87,
   "id": "e2bfd862-54a0-4069-99cd-da40b97d2294",
   "metadata": {},
   "outputs": [],
   "source": [
    "List.remove([3, \"Happy Chauhan\", 34,5])"
   ]
  },
  {
   "cell_type": "code",
   "execution_count": 88,
   "id": "1f4175c6-87f6-4968-aab2-a205d51f49a9",
   "metadata": {},
   "outputs": [],
   "source": [
    "List.insert(4, [3, \"Happy Chauhan\", 34,5])"
   ]
  },
  {
   "cell_type": "code",
   "execution_count": 89,
   "id": "94348233-b897-49b1-903e-6429a6554f40",
   "metadata": {},
   "outputs": [
    {
     "data": {
      "text/plain": [
       "[1,\n",
       " 337,\n",
       " 3478.3468,\n",
       " 'Data Science',\n",
       " [3, 'Happy Chauhan', 34, 5],\n",
       " True,\n",
       " False,\n",
       " (38+34j),\n",
       " 'Happy Chauhan',\n",
       " 'C',\n",
       " 'h',\n",
       " 'a',\n",
       " 'u',\n",
       " 'h',\n",
       " 'a',\n",
       " 'n',\n",
       " 53,\n",
       " 534]"
      ]
     },
     "execution_count": 89,
     "metadata": {},
     "output_type": "execute_result"
    }
   ],
   "source": [
    "List"
   ]
  },
  {
   "cell_type": "code",
   "execution_count": 90,
   "id": "ce7deb8d-069e-48c2-be50-bbb2c67a3a0f",
   "metadata": {},
   "outputs": [
    {
     "data": {
      "text/plain": [
       "[3, 'Happy Chauhan', 34, 5]"
      ]
     },
     "execution_count": 90,
     "metadata": {},
     "output_type": "execute_result"
    }
   ],
   "source": [
    "List[4]"
   ]
  },
  {
   "cell_type": "code",
   "execution_count": 91,
   "id": "71fb5e24-7ee7-4997-bd9c-68c5f1b422f7",
   "metadata": {},
   "outputs": [],
   "source": [
    "List[4].remove(\"Happy Chauhan\")"
   ]
  },
  {
   "cell_type": "code",
   "execution_count": 92,
   "id": "0adc5676-07d3-4e55-a54d-577ad5936b3e",
   "metadata": {},
   "outputs": [
    {
     "data": {
      "text/plain": [
       "[1,\n",
       " 337,\n",
       " 3478.3468,\n",
       " 'Data Science',\n",
       " [3, 34, 5],\n",
       " True,\n",
       " False,\n",
       " (38+34j),\n",
       " 'Happy Chauhan',\n",
       " 'C',\n",
       " 'h',\n",
       " 'a',\n",
       " 'u',\n",
       " 'h',\n",
       " 'a',\n",
       " 'n',\n",
       " 53,\n",
       " 534]"
      ]
     },
     "execution_count": 92,
     "metadata": {},
     "output_type": "execute_result"
    }
   ],
   "source": [
    "List"
   ]
  },
  {
   "cell_type": "code",
   "execution_count": 93,
   "id": "209c6841-2847-4a62-a442-f7b4bc4aef95",
   "metadata": {},
   "outputs": [
    {
     "data": {
      "text/plain": [
       "[1, 'Happy Chauhan', 34, 5]"
      ]
     },
     "execution_count": 93,
     "metadata": {},
     "output_type": "execute_result"
    }
   ],
   "source": [
    "go"
   ]
  },
  {
   "cell_type": "code",
   "execution_count": 94,
   "id": "be06e03b-09dd-4082-ba00-16737937ce33",
   "metadata": {},
   "outputs": [
    {
     "ename": "SyntaxError",
     "evalue": "invalid syntax (2466915761.py, line 1)",
     "output_type": "error",
     "traceback": [
      "\u001b[0;36m  Cell \u001b[0;32mIn[94], line 1\u001b[0;36m\u001b[0m\n\u001b[0;31m    go[1].remove(3:5)\u001b[0m\n\u001b[0m                  ^\u001b[0m\n\u001b[0;31mSyntaxError\u001b[0m\u001b[0;31m:\u001b[0m invalid syntax\n"
     ]
    }
   ],
   "source": [
    "go[1].remove(3:5)"
   ]
  },
  {
   "cell_type": "code",
   "execution_count": 95,
   "id": "a8b2841d-cb69-48c0-adef-3a816c6c5648",
   "metadata": {},
   "outputs": [],
   "source": [
    "# this can not be done in any case"
   ]
  },
  {
   "cell_type": "code",
   "execution_count": 97,
   "id": "09553055-65aa-48e9-8a46-7ecfedf96a83",
   "metadata": {},
   "outputs": [],
   "source": [
    "go.reverse()"
   ]
  },
  {
   "cell_type": "code",
   "execution_count": 98,
   "id": "047a8525-a51e-4319-bc5a-f2344ce8f3d2",
   "metadata": {},
   "outputs": [
    {
     "data": {
      "text/plain": [
       "[5, 34, 'Happy Chauhan', 1]"
      ]
     },
     "execution_count": 98,
     "metadata": {},
     "output_type": "execute_result"
    }
   ],
   "source": [
    "go"
   ]
  },
  {
   "cell_type": "code",
   "execution_count": 99,
   "id": "a4988455-9c6b-4c68-a61b-7aa1f08dae5c",
   "metadata": {},
   "outputs": [],
   "source": [
    "# this reverse is a permanent reverse while other reverse with -1 is temporary one"
   ]
  },
  {
   "cell_type": "code",
   "execution_count": 100,
   "id": "cce9c077-2607-48ad-98c1-04fcf61d7d0b",
   "metadata": {},
   "outputs": [],
   "source": [
    "Itachi = [34,54,23,454,7,5,45,3,6,65,35]"
   ]
  },
  {
   "cell_type": "code",
   "execution_count": 101,
   "id": "6c128745-4a31-4836-86ce-8178fbcaf193",
   "metadata": {},
   "outputs": [
    {
     "data": {
      "text/plain": [
       "[34, 54, 23, 454, 7, 5, 45, 3, 6, 65, 35]"
      ]
     },
     "execution_count": 101,
     "metadata": {},
     "output_type": "execute_result"
    }
   ],
   "source": [
    "Itachi"
   ]
  },
  {
   "cell_type": "code",
   "execution_count": 102,
   "id": "b9e366d0-cb5c-4904-b2c3-a3b8d710cd02",
   "metadata": {},
   "outputs": [],
   "source": [
    "Itachi.sort()"
   ]
  },
  {
   "cell_type": "code",
   "execution_count": 103,
   "id": "50044444-369f-4178-a2f8-d2f8f33627b2",
   "metadata": {},
   "outputs": [
    {
     "data": {
      "text/plain": [
       "[3, 5, 6, 7, 23, 34, 35, 45, 54, 65, 454]"
      ]
     },
     "execution_count": 103,
     "metadata": {},
     "output_type": "execute_result"
    }
   ],
   "source": [
    "Itachi"
   ]
  },
  {
   "cell_type": "code",
   "execution_count": 105,
   "id": "68312f19-ae6a-4c90-8556-22767c83e7fc",
   "metadata": {},
   "outputs": [],
   "source": [
    "Naruto = [\"Ranu mondal\", \"Data science\", \"Happy Chauhan\",\"Doctor\", \"Raju rastogi\"]"
   ]
  },
  {
   "cell_type": "code",
   "execution_count": 106,
   "id": "2d69fdf3-2f09-4888-9263-9f048a3f656c",
   "metadata": {},
   "outputs": [
    {
     "data": {
      "text/plain": [
       "['Ranu mondal', 'Data science', 'Happy Chauhan', 'Doctor', 'Raju rastogi']"
      ]
     },
     "execution_count": 106,
     "metadata": {},
     "output_type": "execute_result"
    }
   ],
   "source": [
    "Naruto"
   ]
  },
  {
   "cell_type": "code",
   "execution_count": 107,
   "id": "8b6eb93b-25c5-41f6-9544-fd4cca9e50fb",
   "metadata": {},
   "outputs": [],
   "source": [
    "Naruto.sort()"
   ]
  },
  {
   "cell_type": "code",
   "execution_count": 108,
   "id": "7384e709-0860-4d36-957b-427a85872c75",
   "metadata": {},
   "outputs": [
    {
     "data": {
      "text/plain": [
       "['Data science', 'Doctor', 'Happy Chauhan', 'Raju rastogi', 'Ranu mondal']"
      ]
     },
     "execution_count": 108,
     "metadata": {},
     "output_type": "execute_result"
    }
   ],
   "source": [
    "Naruto"
   ]
  },
  {
   "cell_type": "code",
   "execution_count": 109,
   "id": "5f6e0605-9648-43a9-bc96-29b0d44e3499",
   "metadata": {},
   "outputs": [],
   "source": [
    "# if we want to get the data in descending order then we can do this otherwise it is going to give us data in ascending order only"
   ]
  },
  {
   "cell_type": "code",
   "execution_count": 110,
   "id": "a869f245-517d-4b22-b689-ba5f422a2bc5",
   "metadata": {},
   "outputs": [],
   "source": [
    "Naruto.sort(reverse=True)"
   ]
  },
  {
   "cell_type": "code",
   "execution_count": 111,
   "id": "fe7b11e3-0169-4659-b099-2270a5e9b0b8",
   "metadata": {},
   "outputs": [
    {
     "data": {
      "text/plain": [
       "['Ranu mondal', 'Raju rastogi', 'Happy Chauhan', 'Doctor', 'Data science']"
      ]
     },
     "execution_count": 111,
     "metadata": {},
     "output_type": "execute_result"
    }
   ],
   "source": [
    "Naruto"
   ]
  },
  {
   "cell_type": "code",
   "execution_count": 112,
   "id": "2602c526-1e84-44b5-bcb8-8f865bd8af4a",
   "metadata": {},
   "outputs": [],
   "source": [
    "Itachi.sort(reverse=True)"
   ]
  },
  {
   "cell_type": "code",
   "execution_count": 113,
   "id": "4d4ded19-c6ca-44ea-81fb-6937584cbc57",
   "metadata": {},
   "outputs": [
    {
     "data": {
      "text/plain": [
       "[454, 65, 54, 45, 35, 34, 23, 7, 6, 5, 3]"
      ]
     },
     "execution_count": 113,
     "metadata": {},
     "output_type": "execute_result"
    }
   ],
   "source": [
    "Itachi"
   ]
  },
  {
   "cell_type": "code",
   "execution_count": 114,
   "id": "df752e29-6c93-4323-8cd6-85ea8bdcb80b",
   "metadata": {},
   "outputs": [
    {
     "data": {
      "text/plain": [
       "3"
      ]
     },
     "execution_count": 114,
     "metadata": {},
     "output_type": "execute_result"
    }
   ],
   "source": [
    "Itachi.index(45)"
   ]
  },
  {
   "cell_type": "code",
   "execution_count": 117,
   "id": "94407d3c-0ba8-4cc5-9ad6-8c3273d99838",
   "metadata": {},
   "outputs": [
    {
     "data": {
      "text/plain": [
       "1"
      ]
     },
     "execution_count": 117,
     "metadata": {},
     "output_type": "execute_result"
    }
   ],
   "source": [
    "Itachi.count(454)"
   ]
  },
  {
   "cell_type": "code",
   "execution_count": 118,
   "id": "fac2a41c-67b4-4c4e-a929-90ffac3d0801",
   "metadata": {},
   "outputs": [
    {
     "data": {
      "text/plain": [
       "'Data science'"
      ]
     },
     "execution_count": 118,
     "metadata": {},
     "output_type": "execute_result"
    }
   ],
   "source": [
    "Naruto[4]"
   ]
  },
  {
   "cell_type": "code",
   "execution_count": 119,
   "id": "f82b2a08-4cfa-49f0-bca1-c8989db08661",
   "metadata": {},
   "outputs": [],
   "source": [
    "Naruto[4] = \"Data Scientist\""
   ]
  },
  {
   "cell_type": "code",
   "execution_count": 120,
   "id": "5d8ba393-277e-4b0c-af15-257b1efca849",
   "metadata": {},
   "outputs": [
    {
     "data": {
      "text/plain": [
       "['Ranu mondal', 'Raju rastogi', 'Happy Chauhan', 'Doctor', 'Data Scientist']"
      ]
     },
     "execution_count": 120,
     "metadata": {},
     "output_type": "execute_result"
    }
   ],
   "source": [
    "Naruto"
   ]
  },
  {
   "cell_type": "code",
   "execution_count": 121,
   "id": "b03a5cdf-9e20-43d9-b513-16b9698025ef",
   "metadata": {},
   "outputs": [],
   "source": [
    "Itachi[4] = \"Data Science\""
   ]
  },
  {
   "cell_type": "code",
   "execution_count": 122,
   "id": "604f7645-beac-459f-9fc1-ed45cf32860b",
   "metadata": {},
   "outputs": [
    {
     "data": {
      "text/plain": [
       "[454, 65, 54, 45, 'Data Science', 34, 23, 7, 6, 5, 3]"
      ]
     },
     "execution_count": 122,
     "metadata": {},
     "output_type": "execute_result"
    }
   ],
   "source": [
    "Itachi"
   ]
  },
  {
   "cell_type": "code",
   "execution_count": 123,
   "id": "2d591511-a594-4c97-869a-598fc72ca1aa",
   "metadata": {},
   "outputs": [],
   "source": [
    "Ino = \"Madara Uchiha\""
   ]
  },
  {
   "cell_type": "code",
   "execution_count": 124,
   "id": "47de4375-c602-4ee6-9bb3-4f354c415348",
   "metadata": {},
   "outputs": [
    {
     "data": {
      "text/plain": [
       "'r'"
      ]
     },
     "execution_count": 124,
     "metadata": {},
     "output_type": "execute_result"
    }
   ],
   "source": [
    "Ino[4] "
   ]
  },
  {
   "cell_type": "code",
   "execution_count": 125,
   "id": "28c4aeef-fad8-46f8-a633-73f9158d4ab9",
   "metadata": {},
   "outputs": [
    {
     "ename": "TypeError",
     "evalue": "'str' object does not support item assignment",
     "output_type": "error",
     "traceback": [
      "\u001b[0;31m---------------------------------------------------------------------------\u001b[0m",
      "\u001b[0;31mTypeError\u001b[0m                                 Traceback (most recent call last)",
      "Cell \u001b[0;32mIn[125], line 1\u001b[0m\n\u001b[0;32m----> 1\u001b[0m \u001b[43mIno\u001b[49m\u001b[43m[\u001b[49m\u001b[38;5;241;43m4\u001b[39;49m\u001b[43m]\u001b[49m \u001b[38;5;241m=\u001b[39m \u001b[38;5;124m\"\u001b[39m\u001b[38;5;124mp\u001b[39m\u001b[38;5;124m\"\u001b[39m\n",
      "\u001b[0;31mTypeError\u001b[0m: 'str' object does not support item assignment"
     ]
    }
   ],
   "source": [
    "Ino[4] = \"p\""
   ]
  },
  {
   "cell_type": "code",
   "execution_count": 126,
   "id": "d7093b38-2f54-49f1-b913-e0a5120e3b14",
   "metadata": {},
   "outputs": [],
   "source": [
    "# in string this can not be done but when we try to do it with the list then it shows desired resluts"
   ]
  },
  {
   "cell_type": "code",
   "execution_count": 128,
   "id": "ea281c58-c68a-4bfd-bd53-838f14d54bc3",
   "metadata": {},
   "outputs": [],
   "source": [
    "# mutablity and item assignment are two different things we can do mutation in mutable list or function\n",
    "# strings are immutable\n",
    "# where lists are mutable entity\n",
    "\n",
    "# for doing that in the string we can use another function that is known as replace function"
   ]
  },
  {
   "cell_type": "code",
   "execution_count": 131,
   "id": "6db654a7-4398-4899-8191-5824843c5ed2",
   "metadata": {},
   "outputs": [
    {
     "data": {
      "text/plain": [
       "'Madapa Uchiha'"
      ]
     },
     "execution_count": 131,
     "metadata": {},
     "output_type": "execute_result"
    }
   ],
   "source": [
    "Ino.replace(\"r\", \"p\")"
   ]
  },
  {
   "cell_type": "code",
   "execution_count": 132,
   "id": "61956754-3dfd-4d8c-a9c1-f2dcede82583",
   "metadata": {},
   "outputs": [
    {
     "data": {
      "text/plain": [
       "'Madara Uchiha'"
      ]
     },
     "execution_count": 132,
     "metadata": {},
     "output_type": "execute_result"
    }
   ],
   "source": [
    "Ino"
   ]
  },
  {
   "cell_type": "code",
   "execution_count": 133,
   "id": "1a0dee0d-0366-41b8-bd51-ae6187473c43",
   "metadata": {},
   "outputs": [],
   "source": [
    "# that is not a permanent change like other functions"
   ]
  },
  {
   "cell_type": "code",
   "execution_count": 134,
   "id": "7f02937b-54d9-4c81-a8aa-497a5e4c91a7",
   "metadata": {},
   "outputs": [],
   "source": [
    "                                               # TUPLES"
   ]
  },
  {
   "cell_type": "code",
   "execution_count": 137,
   "id": "3c8cb26b-0068-4a0c-9cd7-d1ac07e243b2",
   "metadata": {},
   "outputs": [],
   "source": [
    "Choji = (34,3553,755.464, \"Data Science\", \"Happy Chauhan\", True, False, 34 + 54j, [35,67655,34,323])"
   ]
  },
  {
   "cell_type": "code",
   "execution_count": 138,
   "id": "d1f8f626-9b5f-4b18-86ee-91d74c2883c6",
   "metadata": {},
   "outputs": [
    {
     "data": {
      "text/plain": [
       "(34,\n",
       " 3553,\n",
       " 755.464,\n",
       " 'Data Science',\n",
       " 'Happy Chauhan',\n",
       " True,\n",
       " False,\n",
       " (34+54j),\n",
       " [35, 67655, 34, 323])"
      ]
     },
     "execution_count": 138,
     "metadata": {},
     "output_type": "execute_result"
    }
   ],
   "source": [
    "Choji"
   ]
  },
  {
   "cell_type": "code",
   "execution_count": 139,
   "id": "9af5c728-44ce-49d7-ad00-73010ed2a4f3",
   "metadata": {},
   "outputs": [
    {
     "data": {
      "text/plain": [
       "tuple"
      ]
     },
     "execution_count": 139,
     "metadata": {},
     "output_type": "execute_result"
    }
   ],
   "source": [
    "type(Choji)"
   ]
  },
  {
   "cell_type": "code",
   "execution_count": 140,
   "id": "c7511468-9c29-43ad-9a7c-e072a64dec9f",
   "metadata": {},
   "outputs": [
    {
     "data": {
      "text/plain": [
       "9"
      ]
     },
     "execution_count": 140,
     "metadata": {},
     "output_type": "execute_result"
    }
   ],
   "source": [
    "len(Choji)"
   ]
  },
  {
   "cell_type": "code",
   "execution_count": 141,
   "id": "3f2e98dc-a522-4b86-8259-6bf2a63572a9",
   "metadata": {},
   "outputs": [
    {
     "data": {
      "text/plain": [
       "'Happy Chauhan'"
      ]
     },
     "execution_count": 141,
     "metadata": {},
     "output_type": "execute_result"
    }
   ],
   "source": [
    "Choji[4]"
   ]
  },
  {
   "cell_type": "code",
   "execution_count": 142,
   "id": "03da3a22-1ca2-4708-8331-2b5160d98403",
   "metadata": {},
   "outputs": [],
   "source": [
    "# mostly all of the concepts of list are applicable to the tuple \n",
    "# but tuple does not support item assignment as list does and it follows immutability as in case of strings\n",
    "# tuple only contain 2 functions which are \n",
    "# count and index"
   ]
  },
  {
   "cell_type": "code",
   "execution_count": 143,
   "id": "df707930-d9f4-42b2-b473-3ab5bc55356e",
   "metadata": {},
   "outputs": [
    {
     "data": {
      "text/plain": [
       "1"
      ]
     },
     "execution_count": 143,
     "metadata": {},
     "output_type": "execute_result"
    }
   ],
   "source": [
    "Choji.count(34)"
   ]
  },
  {
   "cell_type": "code",
   "execution_count": 145,
   "id": "a9b538d0-4ea2-4ab4-9263-80d50daa61f0",
   "metadata": {},
   "outputs": [
    {
     "data": {
      "text/plain": [
       "0"
      ]
     },
     "execution_count": 145,
     "metadata": {},
     "output_type": "execute_result"
    }
   ],
   "source": [
    "Choji.count(3)"
   ]
  },
  {
   "cell_type": "code",
   "execution_count": 146,
   "id": "9f4fb2b8-8e55-4230-9b58-4a32303b663f",
   "metadata": {},
   "outputs": [
    {
     "data": {
      "text/plain": [
       "3"
      ]
     },
     "execution_count": 146,
     "metadata": {},
     "output_type": "execute_result"
    }
   ],
   "source": [
    "Choji.index(\"Data Science\")"
   ]
  },
  {
   "cell_type": "code",
   "execution_count": 148,
   "id": "0b91b934-f868-46e3-95df-cd15b49b6b5b",
   "metadata": {},
   "outputs": [
    {
     "data": {
      "text/plain": [
       "([35, 67655, 34, 323],\n",
       " (34+54j),\n",
       " False,\n",
       " True,\n",
       " 'Happy Chauhan',\n",
       " 'Data Science',\n",
       " 755.464,\n",
       " 3553,\n",
       " 34)"
      ]
     },
     "execution_count": 148,
     "metadata": {},
     "output_type": "execute_result"
    }
   ],
   "source": [
    "Choji[::-1]"
   ]
  },
  {
   "cell_type": "code",
   "execution_count": 149,
   "id": "25fb90c1-c0ff-4b08-bee9-0b3a61959446",
   "metadata": {},
   "outputs": [],
   "source": [
    "                                                  # SET"
   ]
  },
  {
   "cell_type": "code",
   "execution_count": 150,
   "id": "84a2e257-abea-4cc8-a288-2967e3de6ac7",
   "metadata": {},
   "outputs": [],
   "source": [
    "Setting = {}"
   ]
  },
  {
   "cell_type": "code",
   "execution_count": 151,
   "id": "01ecb18a-c78d-43fb-89a8-b06dffc7f8d5",
   "metadata": {},
   "outputs": [
    {
     "data": {
      "text/plain": [
       "dict"
      ]
     },
     "execution_count": 151,
     "metadata": {},
     "output_type": "execute_result"
    }
   ],
   "source": [
    "type(Setting)"
   ]
  },
  {
   "cell_type": "code",
   "execution_count": 158,
   "id": "c8bd06b1-1c86-4a17-973b-141bccf45a8b",
   "metadata": {},
   "outputs": [],
   "source": [
    "Setting = {3,1,4,23,656,0, \"Happy Chuahan\", True, False, 34343.53762}"
   ]
  },
  {
   "cell_type": "code",
   "execution_count": 159,
   "id": "9340a39a-4ffa-4d9d-ae64-702f0c27a539",
   "metadata": {},
   "outputs": [
    {
     "data": {
      "text/plain": [
       "set"
      ]
     },
     "execution_count": 159,
     "metadata": {},
     "output_type": "execute_result"
    }
   ],
   "source": [
    "type(Setting)"
   ]
  },
  {
   "cell_type": "code",
   "execution_count": 160,
   "id": "9562e578-54d0-4c5c-92fd-e5b99899d108",
   "metadata": {},
   "outputs": [],
   "source": [
    "# set do not accept the list in it but it accepts the tuple because it only stores immutable entity"
   ]
  },
  {
   "cell_type": "code",
   "execution_count": 161,
   "id": "3b3c3050-3d05-421e-9309-f8e56ab2dcc6",
   "metadata": {},
   "outputs": [
    {
     "data": {
      "text/plain": [
       "{0, 1, 23, 3, 34343.53762, 4, 656, 'Happy Chuahan'}"
      ]
     },
     "execution_count": 161,
     "metadata": {},
     "output_type": "execute_result"
    }
   ],
   "source": [
    "Setting"
   ]
  },
  {
   "cell_type": "code",
   "execution_count": 166,
   "id": "fbc62fbf-a9d9-419d-b9c9-f2a93916ef44",
   "metadata": {},
   "outputs": [],
   "source": [
    "Set1 = {1,13,9,4,6,7,455,6,3,8,4,4,3,4,4,5,2,3,2,2,32,6,3,35,5,4,5,4}"
   ]
  },
  {
   "cell_type": "code",
   "execution_count": 167,
   "id": "5eea6e40-bd38-4707-8a67-07222ebfc771",
   "metadata": {},
   "outputs": [
    {
     "data": {
      "text/plain": [
       "{1, 2, 3, 4, 5, 6, 7, 8, 9, 13, 32, 35, 455}"
      ]
     },
     "execution_count": 167,
     "metadata": {},
     "output_type": "execute_result"
    }
   ],
   "source": [
    "Set1"
   ]
  },
  {
   "cell_type": "code",
   "execution_count": 170,
   "id": "29c461bc-d2f4-432c-8124-a2313d3b9e1b",
   "metadata": {},
   "outputs": [
    {
     "data": {
      "text/plain": [
       "[65, 34, 3, 5, 454, 7, 6, 45, 54, 23, 'Data Science']"
      ]
     },
     "execution_count": 170,
     "metadata": {},
     "output_type": "execute_result"
    }
   ],
   "source": [
    "list(set(Itachi))"
   ]
  },
  {
   "cell_type": "code",
   "execution_count": 171,
   "id": "7613df15-0194-483a-85f0-cca5ba73989f",
   "metadata": {},
   "outputs": [
    {
     "data": {
      "text/plain": [
       "{0, 1, 23, 3, 34343.53762, 4, 656, 'Happy Chuahan'}"
      ]
     },
     "execution_count": 171,
     "metadata": {},
     "output_type": "execute_result"
    }
   ],
   "source": [
    "Setting"
   ]
  },
  {
   "cell_type": "code",
   "execution_count": 172,
   "id": "ea09ef5a-7397-4a52-a162-6171ece3123f",
   "metadata": {},
   "outputs": [],
   "source": [
    "Setting.add(2)"
   ]
  },
  {
   "cell_type": "code",
   "execution_count": 173,
   "id": "9492fc53-c9df-4358-87f7-e4040616de6f",
   "metadata": {},
   "outputs": [
    {
     "data": {
      "text/plain": [
       "{0, 1, 2, 23, 3, 34343.53762, 4, 656, 'Happy Chuahan'}"
      ]
     },
     "execution_count": 173,
     "metadata": {},
     "output_type": "execute_result"
    }
   ],
   "source": [
    "Setting"
   ]
  },
  {
   "cell_type": "code",
   "execution_count": 174,
   "id": "0549f407-d81f-4733-8adc-1900520eeceb",
   "metadata": {},
   "outputs": [],
   "source": [
    "# we can not add data at a certain position inside a set"
   ]
  },
  {
   "cell_type": "code",
   "execution_count": 175,
   "id": "9aab4aa6-ba8a-4264-97ff-82a6aae68b40",
   "metadata": {},
   "outputs": [],
   "source": [
    "Setting.remove(23)"
   ]
  },
  {
   "cell_type": "code",
   "execution_count": 176,
   "id": "33903dbd-1822-4cd0-9975-8984cc310b56",
   "metadata": {},
   "outputs": [
    {
     "data": {
      "text/plain": [
       "{0, 1, 2, 3, 34343.53762, 4, 656, 'Happy Chuahan'}"
      ]
     },
     "execution_count": 176,
     "metadata": {},
     "output_type": "execute_result"
    }
   ],
   "source": [
    "Setting"
   ]
  },
  {
   "cell_type": "code",
   "execution_count": null,
   "id": "6f561796-9c4d-40ee-9fc9-e584da74eb30",
   "metadata": {},
   "outputs": [],
   "source": []
  }
 ],
 "metadata": {
  "kernelspec": {
   "display_name": "Python 3 (ipykernel)",
   "language": "python",
   "name": "python3"
  },
  "language_info": {
   "codemirror_mode": {
    "name": "ipython",
    "version": 3
   },
   "file_extension": ".py",
   "mimetype": "text/x-python",
   "name": "python",
   "nbconvert_exporter": "python",
   "pygments_lexer": "ipython3",
   "version": "3.10.8"
  }
 },
 "nbformat": 4,
 "nbformat_minor": 5
}
