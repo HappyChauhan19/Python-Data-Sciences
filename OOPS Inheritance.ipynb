{
 "cells": [
  {
   "cell_type": "code",
   "execution_count": 1,
   "id": "f733a346-5bae-40fd-8ac0-ec65614d7ecc",
   "metadata": {},
   "outputs": [],
   "source": [
    "class test:\n",
    "    def data(self):\n",
    "        return \"This is Data Science's Class.\""
   ]
  },
  {
   "cell_type": "code",
   "execution_count": 2,
   "id": "a9cf80bc-3a78-402b-9200-110eba085894",
   "metadata": {},
   "outputs": [],
   "source": [
    "class science(test):\n",
    "    pass"
   ]
  },
  {
   "cell_type": "code",
   "execution_count": 3,
   "id": "06a6565d-695f-4283-8ee4-e5864e3ea2d7",
   "metadata": {},
   "outputs": [],
   "source": [
    "Data_Science = science()"
   ]
  },
  {
   "cell_type": "code",
   "execution_count": 4,
   "id": "8848507a-a0dc-4e76-b29d-440c07869d2c",
   "metadata": {},
   "outputs": [
    {
     "data": {
      "text/plain": [
       "\"This is Data Science's Class.\""
      ]
     },
     "execution_count": 4,
     "metadata": {},
     "output_type": "execute_result"
    }
   ],
   "source": [
    "Data_Science.data()"
   ]
  },
  {
   "cell_type": "code",
   "execution_count": 5,
   "id": "b25b37c3-32e2-4115-a3d1-7b362bd47d5b",
   "metadata": {},
   "outputs": [],
   "source": [
    "# this is an example of inheritance"
   ]
  },
  {
   "cell_type": "code",
   "execution_count": 6,
   "id": "7689b14b-59f4-4765-a1e4-1a776f2c3967",
   "metadata": {},
   "outputs": [],
   "source": [
    "class round1:\n",
    "    \n",
    "    def test_round1(self):\n",
    "        return \"This is my laptop.\""
   ]
  },
  {
   "cell_type": "code",
   "execution_count": 7,
   "id": "bc3a9e1a-476b-4470-88c9-e53fd487bc2e",
   "metadata": {},
   "outputs": [],
   "source": [
    "class round2(round1):\n",
    "    def test_round2(self):\n",
    "        return \"I lost my father on 9th feb 2023\""
   ]
  },
  {
   "cell_type": "code",
   "execution_count": 8,
   "id": "b6f7c51c-25e9-475e-9132-e252a0b4c743",
   "metadata": {},
   "outputs": [],
   "source": [
    "class round3(round2):\n",
    "    pass"
   ]
  },
  {
   "cell_type": "code",
   "execution_count": 9,
   "id": "b64ed352-2114-4cd7-8e40-33dd46c90db1",
   "metadata": {},
   "outputs": [],
   "source": [
    "obj_round3 = round3()"
   ]
  },
  {
   "cell_type": "code",
   "execution_count": 11,
   "id": "cb41e84b-81bd-473a-aee5-c137a8527a26",
   "metadata": {},
   "outputs": [
    {
     "data": {
      "text/plain": [
       "'This is my laptop.'"
      ]
     },
     "execution_count": 11,
     "metadata": {},
     "output_type": "execute_result"
    }
   ],
   "source": [
    "obj_round3.test_round1()"
   ]
  },
  {
   "cell_type": "code",
   "execution_count": 12,
   "id": "c3546c2b-cabf-4f58-8662-303eb2ce7b8e",
   "metadata": {},
   "outputs": [
    {
     "data": {
      "text/plain": [
       "'I lost my father on 9th feb 2023'"
      ]
     },
     "execution_count": 12,
     "metadata": {},
     "output_type": "execute_result"
    }
   ],
   "source": [
    "obj_round3.test_round2()"
   ]
  },
  {
   "cell_type": "code",
   "execution_count": 13,
   "id": "c61936f9-aacc-490c-a46f-4f67940bb842",
   "metadata": {},
   "outputs": [],
   "source": [
    "# here comes multiple inhreitance"
   ]
  },
  {
   "cell_type": "code",
   "execution_count": 14,
   "id": "3241fe22-a01f-48fc-a14a-46b1dcc3a92d",
   "metadata": {},
   "outputs": [],
   "source": [
    "class phii:\n",
    "    def test_phii(self):\n",
    "        return \"Multiple inheritance ka example.\""
   ]
  },
  {
   "cell_type": "code",
   "execution_count": 15,
   "id": "424c676a-5b1d-468d-a042-62652d73b499",
   "metadata": {},
   "outputs": [],
   "source": [
    "class phuu:\n",
    "    def test_phuu(self):\n",
    "        return \"Multiple inheritance ka another example.\""
   ]
  },
  {
   "cell_type": "code",
   "execution_count": 16,
   "id": "60db9897-8a51-4ab7-8a1c-416c77d4dc2b",
   "metadata": {},
   "outputs": [],
   "source": [
    "class phiu(phii, phuu):\n",
    "    pass"
   ]
  },
  {
   "cell_type": "code",
   "execution_count": 17,
   "id": "939ad073-5288-4322-9df0-b5f265a14160",
   "metadata": {},
   "outputs": [],
   "source": [
    "obj_phiu = phiu()"
   ]
  },
  {
   "cell_type": "code",
   "execution_count": 18,
   "id": "3d445209-9c7e-45c2-bf06-b2c1fbbf2c3d",
   "metadata": {},
   "outputs": [
    {
     "data": {
      "text/plain": [
       "'Multiple inheritance ka example.'"
      ]
     },
     "execution_count": 18,
     "metadata": {},
     "output_type": "execute_result"
    }
   ],
   "source": [
    "obj_phiu.test_phii()"
   ]
  },
  {
   "cell_type": "code",
   "execution_count": 19,
   "id": "402aacdf-7b5c-47ec-9e34-bcca9b0d7dfc",
   "metadata": {},
   "outputs": [
    {
     "data": {
      "text/plain": [
       "'Multiple inheritance ka another example.'"
      ]
     },
     "execution_count": 19,
     "metadata": {},
     "output_type": "execute_result"
    }
   ],
   "source": [
    "obj_phiu.test_phuu()"
   ]
  },
  {
   "cell_type": "code",
   "execution_count": null,
   "id": "2a8e4e8a-e230-4c0b-9fd3-31221ee16e77",
   "metadata": {},
   "outputs": [],
   "source": []
  }
 ],
 "metadata": {
  "kernelspec": {
   "display_name": "Python 3 (ipykernel)",
   "language": "python",
   "name": "python3"
  },
  "language_info": {
   "codemirror_mode": {
    "name": "ipython",
    "version": 3
   },
   "file_extension": ".py",
   "mimetype": "text/x-python",
   "name": "python",
   "nbconvert_exporter": "python",
   "pygments_lexer": "ipython3",
   "version": "3.10.8"
  }
 },
 "nbformat": 4,
 "nbformat_minor": 5
}
