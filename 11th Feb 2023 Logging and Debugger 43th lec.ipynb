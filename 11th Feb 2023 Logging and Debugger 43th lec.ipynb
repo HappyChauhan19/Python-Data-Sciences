{
 "cells": [
  {
   "cell_type": "code",
   "execution_count": 1,
   "id": "f6a0d488-edfe-493d-9283-23e6d4c0d4d9",
   "metadata": {},
   "outputs": [
    {
     "name": "stdout",
     "output_type": "stream",
     "text": [
      "Yes I have super powers\n"
     ]
    }
   ],
   "source": [
    "print(\"Yes I have super powers\")"
   ]
  },
  {
   "cell_type": "code",
   "execution_count": 2,
   "id": "bc83fbfb-dcf1-4c32-992b-ee232ae091dd",
   "metadata": {},
   "outputs": [],
   "source": [
    "# we should use logging module instead of using print.\n",
    "# It is a bad practice to use print module."
   ]
  },
  {
   "cell_type": "code",
   "execution_count": 3,
   "id": "5b1e9b07-833b-48cc-b1d4-d5daef7618a8",
   "metadata": {},
   "outputs": [],
   "source": [
    "import logging"
   ]
  },
  {
   "cell_type": "code",
   "execution_count": 4,
   "id": "dd96171c-e154-4c14-90aa-0c2f1bc710be",
   "metadata": {},
   "outputs": [],
   "source": [
    "logging.basicConfig(filename = \"power.log\", level = logging.INFO)"
   ]
  },
  {
   "cell_type": "code",
   "execution_count": 5,
   "id": "a286d054-84a4-4ee9-ab52-05b085d8fb56",
   "metadata": {},
   "outputs": [],
   "source": [
    "logging.info(\"Log This line of execution\")"
   ]
  },
  {
   "cell_type": "code",
   "execution_count": 6,
   "id": "4f22a1da-e20d-40eb-8b24-f26005cc0cdc",
   "metadata": {},
   "outputs": [],
   "source": [
    "logging.info(\"It is my print\")"
   ]
  },
  {
   "cell_type": "code",
   "execution_count": 7,
   "id": "78eac11d-4e28-4cd2-853b-c622b0c4170c",
   "metadata": {},
   "outputs": [],
   "source": [
    "# 1. NOTSET\n",
    "# 2. DEBUG\n",
    "# 3. INFO\n",
    "# 4. WARNING\n",
    "# 5. ERROR\n",
    "# 6. CRITICAL"
   ]
  },
  {
   "cell_type": "code",
   "execution_count": 8,
   "id": "60597edc-e98d-4823-95aa-4b20f3bd2ba7",
   "metadata": {},
   "outputs": [],
   "source": [
    "# if the logging level is set to info then we can not access \n",
    "# the upper levels for example we can not access debug"
   ]
  },
  {
   "cell_type": "code",
   "execution_count": 9,
   "id": "b82a41f3-3912-49b0-82a4-2edd4c65f827",
   "metadata": {},
   "outputs": [],
   "source": [
    "logging.debug(\"It is not going to show in the power.log file\")"
   ]
  },
  {
   "cell_type": "code",
   "execution_count": 10,
   "id": "fbc1c008-2733-426d-90be-bc108c491338",
   "metadata": {},
   "outputs": [],
   "source": [
    "logging.warning(\"If you keep your work aside for some time then kernel is going to die.\")"
   ]
  },
  {
   "cell_type": "code",
   "execution_count": 11,
   "id": "14605a80-e129-471d-a041-f9e5c4581f09",
   "metadata": {},
   "outputs": [],
   "source": [
    "logging.shutdown()"
   ]
  },
  {
   "cell_type": "code",
   "execution_count": 1,
   "id": "4ddb712f-11f0-47d2-88b7-22d47e7cd50f",
   "metadata": {},
   "outputs": [],
   "source": [
    "import logging"
   ]
  },
  {
   "cell_type": "code",
   "execution_count": 2,
   "id": "19718e9c-ccaf-4644-b64a-3e9e1d3c03f3",
   "metadata": {},
   "outputs": [],
   "source": [
    "logging.basicConfig(filename = \"Wow.log\", level = logging.DEBUG, format = \"%(asctime)s %(message)s\")"
   ]
  },
  {
   "cell_type": "code",
   "execution_count": 3,
   "id": "5a72407f-ca9d-41f1-9962-acf24bcef55f",
   "metadata": {},
   "outputs": [],
   "source": [
    "logging.info(\"Welcome to facebook.com\")\n",
    "logging.error(\"You can't login to the facebook\")\n",
    "logging.critical(\"While using google id for singup app crashes\")"
   ]
  },
  {
   "cell_type": "code",
   "execution_count": 4,
   "id": "8c36060e-e3ec-45b0-9eff-0d9a8a12b03e",
   "metadata": {},
   "outputs": [],
   "source": [
    "logging.shutdown()"
   ]
  },
  {
   "cell_type": "code",
   "execution_count": 1,
   "id": "78996806-e653-437c-b051-41b02dc5db71",
   "metadata": {},
   "outputs": [],
   "source": [
    "import logging"
   ]
  },
  {
   "cell_type": "code",
   "execution_count": 2,
   "id": "ad579c1d-2fd1-4368-9524-9cd0b89c8510",
   "metadata": {},
   "outputs": [],
   "source": [
    "logging.basicConfig(filename = \"Command.log\", level = \"DEBUG\", format = \"%(asctime)s %(name)s %(levelname)s %(message)s\")"
   ]
  },
  {
   "cell_type": "code",
   "execution_count": 3,
   "id": "6f141b4f-0408-4d19-b243-55ef89ced5f4",
   "metadata": {},
   "outputs": [],
   "source": [
    "logging.info(\"Welcome to instagram\")\n",
    "logging.error(\"You can't login to the instagram\")\n",
    "logging.critical(\"While using phone number for singup app crashes\")"
   ]
  },
  {
   "cell_type": "code",
   "execution_count": 4,
   "id": "5637d387-8ba5-4e49-bdc4-389b6377132c",
   "metadata": {},
   "outputs": [],
   "source": [
    "row = [1,2,3,4,5,6,[45,674,21,31,64,213,654], \"Happy\", \"Chauhan\", \"Happy Chauhan\"]"
   ]
  },
  {
   "cell_type": "code",
   "execution_count": 15,
   "id": "3d1355d8-bde6-4625-9ec3-48707d6ec5c4",
   "metadata": {},
   "outputs": [],
   "source": [
    "for_str = []\n",
    "for_int = []\n",
    "for i in row :\n",
    "    logging.info(\"We are iterating through our list and our local variable is {}\".format(row))\n",
    "    if type(i) == list :\n",
    "        logging.info(\"We are inside the if statement and we are checking the type of the list\" + str(i))\n",
    "        for j in i :\n",
    "            logging.info(\"We are inside another for loop for list inside list element\")\n",
    "            if type(j) == int:\n",
    "                logging.info(\"We are inside another if statement\")\n",
    "                for_int.append(j)\n",
    "                logging.info(\"If the type of the list is int then it is going to add it to the list named for_int\")\n",
    "            else:\n",
    "                logging.imfo(\"If its type is not int then it is going to assign it to another list name for_str\")\n",
    "                for_str.append(j)\n",
    "    elif type(i) == int:\n",
    "        for_int.append(i)\n",
    "    else:\n",
    "        if type(i) == str:\n",
    "            for_str.append(i)\n",
    "            logging.info(\"My final result for int is {for_int} and for str is {for_str}\".format(for_int = for_int, for_str = for_str))"
   ]
  },
  {
   "cell_type": "code",
   "execution_count": 16,
   "id": "554a2706-d12d-47ed-9690-1aa3c95a9f83",
   "metadata": {},
   "outputs": [
    {
     "data": {
      "text/plain": [
       "['Happy', 'Chauhan', 'Happy Chauhan']"
      ]
     },
     "execution_count": 16,
     "metadata": {},
     "output_type": "execute_result"
    }
   ],
   "source": [
    "for_str"
   ]
  },
  {
   "cell_type": "code",
   "execution_count": 17,
   "id": "9468f5c9-fbd5-4862-9e64-4cdc0b315da2",
   "metadata": {},
   "outputs": [
    {
     "data": {
      "text/plain": [
       "[1, 2, 3, 4, 5, 6, 45, 674, 21, 31, 64, 213, 654]"
      ]
     },
     "execution_count": 17,
     "metadata": {},
     "output_type": "execute_result"
    }
   ],
   "source": [
    "for_int"
   ]
  },
  {
   "cell_type": "code",
   "execution_count": null,
   "id": "f0af6db7-0c73-46b2-b5d2-f4a2b52ed293",
   "metadata": {},
   "outputs": [],
   "source": []
  }
 ],
 "metadata": {
  "kernelspec": {
   "display_name": "Python 3 (ipykernel)",
   "language": "python",
   "name": "python3"
  },
  "language_info": {
   "codemirror_mode": {
    "name": "ipython",
    "version": 3
   },
   "file_extension": ".py",
   "mimetype": "text/x-python",
   "name": "python",
   "nbconvert_exporter": "python",
   "pygments_lexer": "ipython3",
   "version": "3.10.8"
  }
 },
 "nbformat": 4,
 "nbformat_minor": 5
}
