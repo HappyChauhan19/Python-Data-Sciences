{
 "cells": [
  {
   "cell_type": "code",
   "execution_count": 3,
   "id": "f7cc44f5-3200-4157-b137-3d5aeb8c0f85",
   "metadata": {},
   "outputs": [],
   "source": [
    "class encapsulation:\n",
    "    def __init__(self, a, b):\n",
    "        self.a = a\n",
    "        self.b = b"
   ]
  },
  {
   "cell_type": "code",
   "execution_count": 4,
   "id": "7707e86a-0dbc-49e5-b92b-361e25f06a4b",
   "metadata": {},
   "outputs": [],
   "source": [
    "t = encapsulation(454,47)"
   ]
  },
  {
   "cell_type": "code",
   "execution_count": 5,
   "id": "db6bb55b-4c79-4deb-8122-5888b6966446",
   "metadata": {},
   "outputs": [],
   "source": [
    "t.a = 5346"
   ]
  },
  {
   "cell_type": "code",
   "execution_count": 6,
   "id": "d2d2e730-51f7-4215-9aad-9ed74129ea8f",
   "metadata": {},
   "outputs": [
    {
     "data": {
      "text/plain": [
       "5346"
      ]
     },
     "execution_count": 6,
     "metadata": {},
     "output_type": "execute_result"
    }
   ],
   "source": [
    "t.a"
   ]
  },
  {
   "cell_type": "code",
   "execution_count": 7,
   "id": "136987b3-a63e-40a7-ad87-69d97143eeb1",
   "metadata": {},
   "outputs": [],
   "source": [
    "# encapsulation is used to prevent user to modify the internal structures of the class"
   ]
  },
  {
   "cell_type": "code",
   "execution_count": 8,
   "id": "29b0b921-891e-417f-b2ff-3dd73f48d294",
   "metadata": {},
   "outputs": [],
   "source": [
    "class car :\n",
    "    def __init__(self, year, make, model, speed):\n",
    "        self.__year = year\n",
    "#         __ is used to prevent getting it modified later and not to show it when user clicks the tab button\n",
    "        self.__make = make\n",
    "        self.__model = model\n",
    "        self.__speed = speed"
   ]
  },
  {
   "cell_type": "code",
   "execution_count": 19,
   "id": "de026fa8-7b35-4549-bde2-04994c023b1d",
   "metadata": {},
   "outputs": [],
   "source": [
    "Cab = car(2023, \"Jaguar\", \"X156A\", 350)"
   ]
  },
  {
   "cell_type": "code",
   "execution_count": 20,
   "id": "7d8a78a4-1ab9-426b-9491-236a47006345",
   "metadata": {},
   "outputs": [
    {
     "ename": "AttributeError",
     "evalue": "'car' object has no attribute '__year'",
     "output_type": "error",
     "traceback": [
      "\u001b[0;31m---------------------------------------------------------------------------\u001b[0m",
      "\u001b[0;31mAttributeError\u001b[0m                            Traceback (most recent call last)",
      "Cell \u001b[0;32mIn[20], line 1\u001b[0m\n\u001b[0;32m----> 1\u001b[0m \u001b[43mCab\u001b[49m\u001b[38;5;241;43m.\u001b[39;49m\u001b[43m__year\u001b[49m\n",
      "\u001b[0;31mAttributeError\u001b[0m: 'car' object has no attribute '__year'"
     ]
    }
   ],
   "source": [
    "Cab.__year"
   ]
  },
  {
   "cell_type": "code",
   "execution_count": 21,
   "id": "dc581151-9f6d-4d04-b501-222274465a89",
   "metadata": {},
   "outputs": [
    {
     "data": {
      "text/plain": [
       "2023"
      ]
     },
     "execution_count": 21,
     "metadata": {},
     "output_type": "execute_result"
    }
   ],
   "source": [
    "Cab._car__year"
   ]
  },
  {
   "cell_type": "code",
   "execution_count": 22,
   "id": "bd40bdcc-1fb0-45d4-a6b6-a130fc6d198b",
   "metadata": {},
   "outputs": [
    {
     "data": {
      "text/plain": [
       "'X156A'"
      ]
     },
     "execution_count": 22,
     "metadata": {},
     "output_type": "execute_result"
    }
   ],
   "source": [
    "Cab._car__model"
   ]
  },
  {
   "cell_type": "code",
   "execution_count": 23,
   "id": "2562fd88-a8bf-429c-9690-7f4704d8cf04",
   "metadata": {},
   "outputs": [
    {
     "data": {
      "text/plain": [
       "'Jaguar'"
      ]
     },
     "execution_count": 23,
     "metadata": {},
     "output_type": "execute_result"
    }
   ],
   "source": [
    "Cab._car__make"
   ]
  },
  {
   "cell_type": "code",
   "execution_count": 24,
   "id": "a576458c-aa65-46da-a658-aa16ae7325c9",
   "metadata": {},
   "outputs": [
    {
     "data": {
      "text/plain": [
       "350"
      ]
     },
     "execution_count": 24,
     "metadata": {},
     "output_type": "execute_result"
    }
   ],
   "source": [
    "Cab._car__speed"
   ]
  },
  {
   "cell_type": "code",
   "execution_count": 25,
   "id": "741f9a7c-3988-4da0-b8b1-f0437f6e36f2",
   "metadata": {},
   "outputs": [],
   "source": [
    "class car :\n",
    "    def __init__(self, year, make, model, speed):\n",
    "        self.__year = year\n",
    "        self.__make = make\n",
    "        self.__model = model\n",
    "        self.__speed = speed\n",
    "        \n",
    "    def set_speed(self, speed):\n",
    "        self.__speed  = 0 if speed > 0 else speed\n",
    "    def get_speed(self):\n",
    "        return self.__speed"
   ]
  },
  {
   "cell_type": "code",
   "execution_count": 26,
   "id": "0237fa6b-2557-41b6-8265-ce7ccdb83e1e",
   "metadata": {},
   "outputs": [],
   "source": [
    "snack = car(2023, \"Jaguar\", \"X156A\", 350)"
   ]
  },
  {
   "cell_type": "code",
   "execution_count": 27,
   "id": "f2314fd2-9f35-4c57-80a8-eda8669ae6bf",
   "metadata": {},
   "outputs": [
    {
     "data": {
      "text/plain": [
       "350"
      ]
     },
     "execution_count": 27,
     "metadata": {},
     "output_type": "execute_result"
    }
   ],
   "source": [
    "snack.get_speed()"
   ]
  },
  {
   "cell_type": "code",
   "execution_count": 28,
   "id": "ea764e94-c1d0-4809-8f62-ec2573b5bc59",
   "metadata": {},
   "outputs": [],
   "source": [
    "snack.set_speed(579646)"
   ]
  },
  {
   "cell_type": "code",
   "execution_count": 29,
   "id": "05b42926-c326-4130-97b1-e3a2157439af",
   "metadata": {},
   "outputs": [
    {
     "data": {
      "text/plain": [
       "0"
      ]
     },
     "execution_count": 29,
     "metadata": {},
     "output_type": "execute_result"
    }
   ],
   "source": [
    "snack.get_speed()"
   ]
  },
  {
   "cell_type": "code",
   "execution_count": 30,
   "id": "c7ce5d8a-af04-4f49-b09e-b2706a451732",
   "metadata": {},
   "outputs": [],
   "source": [
    "class Bank :\n",
    "    def __init__(self, Balance):\n",
    "        self.__Balance = Balance\n",
    "    \n",
    "    def deposit(self, Amount):\n",
    "        self.__Balance = self.__Balance + Amount\n",
    "        \n",
    "    def withdraw(self, amount):\n",
    "        if self.__Balance >= amount:\n",
    "            self.__Balance = self.__Balance - amount\n",
    "            return True\n",
    "        else :\n",
    "            return False\n",
    "    \n",
    "    def get_Balance(self):\n",
    "        return self.__Balance"
   ]
  },
  {
   "cell_type": "code",
   "execution_count": 31,
   "id": "d99130b2-0865-42f2-b169-2806a068cb65",
   "metadata": {},
   "outputs": [],
   "source": [
    "Happy = Bank(1000000)"
   ]
  },
  {
   "cell_type": "code",
   "execution_count": 32,
   "id": "eebd4912-841c-4fe9-89fe-7b6d50513faf",
   "metadata": {},
   "outputs": [
    {
     "data": {
      "text/plain": [
       "1000000"
      ]
     },
     "execution_count": 32,
     "metadata": {},
     "output_type": "execute_result"
    }
   ],
   "source": [
    "Happy.get_Balance()"
   ]
  },
  {
   "cell_type": "code",
   "execution_count": 33,
   "id": "d512f429-1cdc-441a-8ca7-b9efb66bc3e5",
   "metadata": {},
   "outputs": [],
   "source": [
    "Happy.deposit(500000)"
   ]
  },
  {
   "cell_type": "code",
   "execution_count": 34,
   "id": "2c7693e0-6515-42a8-9bcd-3ad383faf67b",
   "metadata": {},
   "outputs": [
    {
     "data": {
      "text/plain": [
       "1500000"
      ]
     },
     "execution_count": 34,
     "metadata": {},
     "output_type": "execute_result"
    }
   ],
   "source": [
    "Happy.get_Balance()"
   ]
  },
  {
   "cell_type": "code",
   "execution_count": 35,
   "id": "97189b7b-34cf-4670-8b41-df6c92dce7ee",
   "metadata": {},
   "outputs": [
    {
     "data": {
      "text/plain": [
       "True"
      ]
     },
     "execution_count": 35,
     "metadata": {},
     "output_type": "execute_result"
    }
   ],
   "source": [
    "Happy.withdraw(1000000)"
   ]
  },
  {
   "cell_type": "code",
   "execution_count": 36,
   "id": "4820a43f-a1e8-487e-8e54-b3d8dadda156",
   "metadata": {},
   "outputs": [
    {
     "data": {
      "text/plain": [
       "500000"
      ]
     },
     "execution_count": 36,
     "metadata": {},
     "output_type": "execute_result"
    }
   ],
   "source": [
    "Happy.get_Balance()"
   ]
  },
  {
   "cell_type": "code",
   "execution_count": null,
   "id": "207cd7e4-332e-4608-8289-cefdc72c48f7",
   "metadata": {},
   "outputs": [],
   "source": []
  }
 ],
 "metadata": {
  "kernelspec": {
   "display_name": "Python 3 (ipykernel)",
   "language": "python",
   "name": "python3"
  },
  "language_info": {
   "codemirror_mode": {
    "name": "ipython",
    "version": 3
   },
   "file_extension": ".py",
   "mimetype": "text/x-python",
   "name": "python",
   "nbconvert_exporter": "python",
   "pygments_lexer": "ipython3",
   "version": "3.10.8"
  }
 },
 "nbformat": 4,
 "nbformat_minor": 5
}
