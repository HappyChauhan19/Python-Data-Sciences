{
 "cells": [
  {
   "cell_type": "code",
   "execution_count": 1,
   "id": "f5b0f6fc-99c7-41db-b70f-2bac62c1add2",
   "metadata": {},
   "outputs": [],
   "source": [
    "class random:\n",
    "    def __init__(self, name, email):\n",
    "        \n",
    "        self.name = name\n",
    "        self.email = email\n",
    "    def students(self):\n",
    "        print(self.name, self.email)"
   ]
  },
  {
   "cell_type": "code",
   "execution_count": 2,
   "id": "3ffc6945-27d7-48ea-bed8-4f39502877d3",
   "metadata": {},
   "outputs": [],
   "source": [
    "ran = random(\"Happy Chauhan\", \"happy.chauhan1902@gmail.com\")"
   ]
  },
  {
   "cell_type": "code",
   "execution_count": 4,
   "id": "79ff0eef-8692-4baa-96b1-fca2b788b979",
   "metadata": {},
   "outputs": [
    {
     "data": {
      "text/plain": [
       "'Happy Chauhan'"
      ]
     },
     "execution_count": 4,
     "metadata": {},
     "output_type": "execute_result"
    }
   ],
   "source": [
    "ran.name"
   ]
  },
  {
   "cell_type": "code",
   "execution_count": 5,
   "id": "b51f6b2e-b08b-493d-aecf-78858a3818de",
   "metadata": {},
   "outputs": [
    {
     "data": {
      "text/plain": [
       "'happy.chauhan1902@gmail.com'"
      ]
     },
     "execution_count": 5,
     "metadata": {},
     "output_type": "execute_result"
    }
   ],
   "source": [
    "ran.email"
   ]
  },
  {
   "cell_type": "code",
   "execution_count": 6,
   "id": "0e3b6dcd-f94f-4351-9024-53e3ee4d0b91",
   "metadata": {},
   "outputs": [],
   "source": [
    "class random:\n",
    "    def __init__(self, name, email):\n",
    "        \n",
    "        self.name = name\n",
    "        self.email = email\n",
    "        \n",
    "    @classmethod\n",
    "    def details(cls, name, email):\n",
    "        return cls(name, email)\n",
    "    def students(self):\n",
    "        print(self.name, self.email)"
   ]
  },
  {
   "cell_type": "code",
   "execution_count": 8,
   "id": "b5e87af5-7b9a-4b56-ae70-d81f6155641c",
   "metadata": {},
   "outputs": [],
   "source": [
    "rans = random.details(\"Harbajan Singh\", \"Harbajanballeballe@gmail.com\")"
   ]
  },
  {
   "cell_type": "code",
   "execution_count": 9,
   "id": "7385c444-6176-46bb-b56c-4ebe0f2497f9",
   "metadata": {},
   "outputs": [
    {
     "data": {
      "text/plain": [
       "'Harbajan Singh'"
      ]
     },
     "execution_count": 9,
     "metadata": {},
     "output_type": "execute_result"
    }
   ],
   "source": [
    "rans.name"
   ]
  },
  {
   "cell_type": "code",
   "execution_count": 10,
   "id": "2d58f286-36d8-4103-bf42-acdef9e92b72",
   "metadata": {},
   "outputs": [
    {
     "data": {
      "text/plain": [
       "'Harbajanballeballe@gmail.com'"
      ]
     },
     "execution_count": 10,
     "metadata": {},
     "output_type": "execute_result"
    }
   ],
   "source": [
    "rans.email"
   ]
  },
  {
   "cell_type": "code",
   "execution_count": 11,
   "id": "b0feb675-7eed-42d5-bcbc-0fa75e870dc9",
   "metadata": {},
   "outputs": [
    {
     "data": {
      "text/plain": [
       "<bound method random.details of <class '__main__.random'>>"
      ]
     },
     "execution_count": 11,
     "metadata": {},
     "output_type": "execute_result"
    }
   ],
   "source": [
    "rans.details"
   ]
  },
  {
   "cell_type": "code",
   "execution_count": 12,
   "id": "055ca926-5edc-4a8f-9cfa-143b54e32161",
   "metadata": {},
   "outputs": [
    {
     "data": {
      "text/plain": [
       "<bound method random.students of <__main__.random object at 0x7f779ca511b0>>"
      ]
     },
     "execution_count": 12,
     "metadata": {},
     "output_type": "execute_result"
    }
   ],
   "source": [
    "rans.students"
   ]
  },
  {
   "cell_type": "code",
   "execution_count": 13,
   "id": "13bf939f-2492-4927-9957-c161d84e2857",
   "metadata": {},
   "outputs": [],
   "source": [
    "class random1:\n",
    "    mobile_number = 7011535418\n",
    "    def __init__(self, name, email):\n",
    "        \n",
    "        self.name = name\n",
    "        self.email = email\n",
    "    \n",
    "    @classmethod\n",
    "    def change_number(cls, mobile):\n",
    "        random1.mobile_number = mobile\n",
    "        \n",
    "    @classmethod\n",
    "    def details(cls, name, email):\n",
    "        return cls(name, email)\n",
    "    def students(self):\n",
    "        print(self.name, self.email)"
   ]
  },
  {
   "cell_type": "code",
   "execution_count": 14,
   "id": "e5cd928a-83c4-4f6a-8114-ef66d2eb6f1f",
   "metadata": {},
   "outputs": [
    {
     "data": {
      "text/plain": [
       "7011535418"
      ]
     },
     "execution_count": 14,
     "metadata": {},
     "output_type": "execute_result"
    }
   ],
   "source": [
    "random1.mobile_number"
   ]
  },
  {
   "cell_type": "code",
   "execution_count": 15,
   "id": "4a296d37-41f5-4368-b588-3712a4750e50",
   "metadata": {},
   "outputs": [],
   "source": [
    "random1.change_number(9560040927)"
   ]
  },
  {
   "cell_type": "code",
   "execution_count": 16,
   "id": "4fc585a0-96bd-438c-9a6a-2cc615811916",
   "metadata": {},
   "outputs": [
    {
     "data": {
      "text/plain": [
       "9560040927"
      ]
     },
     "execution_count": 16,
     "metadata": {},
     "output_type": "execute_result"
    }
   ],
   "source": [
    "random1.mobile_number"
   ]
  },
  {
   "cell_type": "code",
   "execution_count": 17,
   "id": "3eed126e-3f93-4176-ac8a-dfd980b886a3",
   "metadata": {},
   "outputs": [],
   "source": [
    "class random2:\n",
    "    mobile_number = 7011535418\n",
    "    def __init__(self, name, email):\n",
    "        \n",
    "        self.name = name\n",
    "        self.email = email\n",
    "    \n",
    "    @classmethod\n",
    "    def change_number(cls, mobile):\n",
    "        random1.mobile_number = mobile\n",
    "        \n",
    "    @classmethod\n",
    "    def details(cls, name, email):\n",
    "        return cls(name, email)\n",
    "    def students(self):\n",
    "        print(self.name, self.email)"
   ]
  },
  {
   "cell_type": "code",
   "execution_count": 20,
   "id": "fb421e25-2e3b-4156-b7fd-6f03b5b994dc",
   "metadata": {},
   "outputs": [],
   "source": [
    "def course_details(cls, course_name):\n",
    "    print(\"The name of the course is \", course_name)"
   ]
  },
  {
   "cell_type": "code",
   "execution_count": 21,
   "id": "d6b9b080-fa40-4880-a507-49e25ddd7d7a",
   "metadata": {},
   "outputs": [],
   "source": [
    "random2.course_details = classmethod(course_details)"
   ]
  },
  {
   "cell_type": "code",
   "execution_count": 23,
   "id": "6b28b8d8-a642-4ce4-8455-760e21a3f13a",
   "metadata": {},
   "outputs": [
    {
     "name": "stdout",
     "output_type": "stream",
     "text": [
      "The name of the course is  Data Science Masters\n"
     ]
    }
   ],
   "source": [
    "random2.course_details(\"Data Science Masters\")"
   ]
  },
  {
   "cell_type": "code",
   "execution_count": 24,
   "id": "d44e956e-e24c-4e5a-851c-75387e4858dd",
   "metadata": {},
   "outputs": [],
   "source": [
    "def teacher(cls, List_of_teachers):\n",
    "    print(List_of_teachers)"
   ]
  },
  {
   "cell_type": "code",
   "execution_count": 25,
   "id": "7ebe9833-7230-461c-83fc-38177000f064",
   "metadata": {},
   "outputs": [],
   "source": [
    "random2.teacher = classmethod(teacher)"
   ]
  },
  {
   "cell_type": "code",
   "execution_count": 26,
   "id": "d815b36b-15b1-41ae-be9b-21ebdbd397db",
   "metadata": {},
   "outputs": [
    {
     "name": "stdout",
     "output_type": "stream",
     "text": [
      "Happy Chauhan\n"
     ]
    }
   ],
   "source": [
    "random2.teacher(\"Happy Chauhan\")"
   ]
  },
  {
   "cell_type": "code",
   "execution_count": 27,
   "id": "b2a71e65-e537-4df8-9882-04ce1481a5c9",
   "metadata": {},
   "outputs": [],
   "source": [
    "class random3:\n",
    "    mobile_number = 7011535418\n",
    "    def __init__(self, name, email):\n",
    "        \n",
    "        self.name = name\n",
    "        self.email = email\n",
    "    \n",
    "    @classmethod\n",
    "    def change_number(cls, mobile):\n",
    "        random1.mobile_number = mobile\n",
    "        \n",
    "    @classmethod\n",
    "    def details(cls, name, email):\n",
    "        return cls(name, email)\n",
    "    def students(self):\n",
    "        print(self.name, self.email)"
   ]
  },
  {
   "cell_type": "code",
   "execution_count": 28,
   "id": "a5ed0558-1f74-4438-b86f-4ec15de0ba2e",
   "metadata": {},
   "outputs": [],
   "source": [
    "# to delete something from the classmethod"
   ]
  },
  {
   "cell_type": "code",
   "execution_count": 29,
   "id": "34e19b07-3941-49e6-ad2e-0c5f8f679776",
   "metadata": {},
   "outputs": [],
   "source": [
    "del random3.change_number"
   ]
  },
  {
   "cell_type": "code",
   "execution_count": 30,
   "id": "281936dd-54eb-490d-a972-803ced6b7355",
   "metadata": {},
   "outputs": [],
   "source": [
    "delattr(random3, \"details\")"
   ]
  },
  {
   "cell_type": "code",
   "execution_count": 31,
   "id": "77f53f97-fed6-49ad-a8f0-74cb93f8b4ea",
   "metadata": {},
   "outputs": [],
   "source": [
    "delattr(random3, \"students\")"
   ]
  },
  {
   "cell_type": "code",
   "execution_count": 35,
   "id": "220b2686-1615-4fcf-9e24-de8b9ce8a236",
   "metadata": {},
   "outputs": [],
   "source": [
    "delattr(random3, \"mobile_number\")"
   ]
  },
  {
   "cell_type": "code",
   "execution_count": null,
   "id": "74dccefc-3969-469b-be03-4dbe7283aeb1",
   "metadata": {},
   "outputs": [],
   "source": []
  }
 ],
 "metadata": {
  "kernelspec": {
   "display_name": "Python 3 (ipykernel)",
   "language": "python",
   "name": "python3"
  },
  "language_info": {
   "codemirror_mode": {
    "name": "ipython",
    "version": 3
   },
   "file_extension": ".py",
   "mimetype": "text/x-python",
   "name": "python",
   "nbconvert_exporter": "python",
   "pygments_lexer": "ipython3",
   "version": "3.10.8"
  }
 },
 "nbformat": 4,
 "nbformat_minor": 5
}
