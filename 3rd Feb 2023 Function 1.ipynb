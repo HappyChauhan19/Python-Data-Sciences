{
 "cells": [
  {
   "cell_type": "code",
   "execution_count": 1,
   "id": "48a30607-ab01-45be-b75d-8f7b827349c4",
   "metadata": {},
   "outputs": [
    {
     "name": "stdout",
     "output_type": "stream",
     "text": [
      "My name is Happy Chauhan\n"
     ]
    }
   ],
   "source": [
    "print(\"My name is Happy Chauhan\")"
   ]
  },
  {
   "cell_type": "code",
   "execution_count": 2,
   "id": "145e20e3-9228-41af-91fd-3fd3877c7b49",
   "metadata": {},
   "outputs": [],
   "source": [
    "go = [543,54,87,21,89,876,564]"
   ]
  },
  {
   "cell_type": "code",
   "execution_count": 3,
   "id": "ab242b0b-2482-4a8c-b5e1-87910eb6551d",
   "metadata": {},
   "outputs": [
    {
     "data": {
      "text/plain": [
       "7"
      ]
     },
     "execution_count": 3,
     "metadata": {},
     "output_type": "execute_result"
    }
   ],
   "source": [
    "len(go)"
   ]
  },
  {
   "cell_type": "code",
   "execution_count": 4,
   "id": "2fe17ffd-ae8e-438c-bc82-afdf0ddc2af9",
   "metadata": {},
   "outputs": [
    {
     "data": {
      "text/plain": [
       "list"
      ]
     },
     "execution_count": 4,
     "metadata": {},
     "output_type": "execute_result"
    }
   ],
   "source": [
    "type(go)"
   ]
  },
  {
   "cell_type": "code",
   "execution_count": 5,
   "id": "98f5fcdd-753f-4dfc-82d5-0fed61ef99ab",
   "metadata": {},
   "outputs": [],
   "source": [
    "def test():\n",
    "    print(\"This is my first Function\")"
   ]
  },
  {
   "cell_type": "code",
   "execution_count": 6,
   "id": "5f660ee0-5a9c-4250-af4f-d013b3fa36f0",
   "metadata": {},
   "outputs": [
    {
     "name": "stdout",
     "output_type": "stream",
     "text": [
      "This is my first Function\n"
     ]
    }
   ],
   "source": [
    "test()"
   ]
  },
  {
   "cell_type": "code",
   "execution_count": 7,
   "id": "3ac7badd-371c-4a27-8fba-a6f0e5c9eda1",
   "metadata": {},
   "outputs": [
    {
     "name": "stdout",
     "output_type": "stream",
     "text": [
      "This is my first Function\n"
     ]
    },
    {
     "ename": "TypeError",
     "evalue": "unsupported operand type(s) for +: 'NoneType' and 'str'",
     "output_type": "error",
     "traceback": [
      "\u001b[0;31m---------------------------------------------------------------------------\u001b[0m",
      "\u001b[0;31mTypeError\u001b[0m                                 Traceback (most recent call last)",
      "Cell \u001b[0;32mIn[7], line 1\u001b[0m\n\u001b[0;32m----> 1\u001b[0m \u001b[43mtest\u001b[49m\u001b[43m(\u001b[49m\u001b[43m)\u001b[49m\u001b[43m \u001b[49m\u001b[38;5;241;43m+\u001b[39;49m\u001b[43m \u001b[49m\u001b[38;5;124;43m\"\u001b[39;49m\u001b[38;5;124;43mHappy Chauhan\u001b[39;49m\u001b[38;5;124;43m\"\u001b[39;49m\n",
      "\u001b[0;31mTypeError\u001b[0m: unsupported operand type(s) for +: 'NoneType' and 'str'"
     ]
    }
   ],
   "source": [
    "test() + \"Happy Chauhan\""
   ]
  },
  {
   "cell_type": "code",
   "execution_count": 8,
   "id": "cfe88f72-1bed-4c5f-af83-06a4065f2865",
   "metadata": {},
   "outputs": [],
   "source": [
    "# it is going to show error because print is a none type data type"
   ]
  },
  {
   "cell_type": "code",
   "execution_count": 15,
   "id": "05d82d42-de9c-4570-96a7-748ac5d46834",
   "metadata": {},
   "outputs": [],
   "source": [
    "def fortnight():\n",
    "    return \"Checking if it is going to work or not\""
   ]
  },
  {
   "cell_type": "code",
   "execution_count": 16,
   "id": "a414c9be-f23e-4f81-beea-e1adf3b53ba8",
   "metadata": {},
   "outputs": [
    {
     "data": {
      "text/plain": [
       "'Checking if it is going to work or not'"
      ]
     },
     "execution_count": 16,
     "metadata": {},
     "output_type": "execute_result"
    }
   ],
   "source": [
    "fortnight()"
   ]
  },
  {
   "cell_type": "code",
   "execution_count": 19,
   "id": "5d3ca096-a2cc-4154-a6a9-b2a8a7f13eaf",
   "metadata": {},
   "outputs": [
    {
     "data": {
      "text/plain": [
       "'Checking if it is going to work or not Happy Chauhan'"
      ]
     },
     "execution_count": 19,
     "metadata": {},
     "output_type": "execute_result"
    }
   ],
   "source": [
    "fortnight() + \" Happy Chauhan\""
   ]
  },
  {
   "cell_type": "code",
   "execution_count": 24,
   "id": "0ad8ec5d-bbe7-4007-b2e2-1aa910c47b62",
   "metadata": {},
   "outputs": [],
   "source": [
    "def movies():\n",
    "    return \"Wanda Vision\", 22, \"Happy Chuahan\", 454.787, [4,586,483,41,564,\"Happy\", \"Chauhan\"], True, False, (5,786,5), {\"Zuku bhaiya\", \"Billu\", 478,798,9,64864,45,65}, {\"Key 1\": 1, \"key 2\": 2, \"key 3\": 3}"
   ]
  },
  {
   "cell_type": "code",
   "execution_count": 25,
   "id": "6f2e28b7-f092-4004-96ca-df6ec7c7e9a3",
   "metadata": {},
   "outputs": [
    {
     "data": {
      "text/plain": [
       "('Wanda Vision',\n",
       " 22,\n",
       " 'Happy Chuahan',\n",
       " 454.787,\n",
       " [4, 586, 483, 41, 564, 'Happy', 'Chauhan'],\n",
       " True,\n",
       " False,\n",
       " (5, 786, 5),\n",
       " {45, 478, 64864, 65, 798, 9, 'Billu', 'Zuku bhaiya'},\n",
       " {'Key 1': 1, 'key 2': 2, 'key 3': 3})"
      ]
     },
     "execution_count": 25,
     "metadata": {},
     "output_type": "execute_result"
    }
   ],
   "source": [
    "movies()"
   ]
  },
  {
   "cell_type": "code",
   "execution_count": 26,
   "id": "e190d3da-1717-4c2e-a44b-3e613e4b767c",
   "metadata": {},
   "outputs": [
    {
     "data": {
      "text/plain": [
       "10"
      ]
     },
     "execution_count": 26,
     "metadata": {},
     "output_type": "execute_result"
    }
   ],
   "source": [
    "len(movies())"
   ]
  },
  {
   "cell_type": "code",
   "execution_count": 27,
   "id": "5d5bf090-d1dd-4900-aee4-66914f43b145",
   "metadata": {},
   "outputs": [],
   "source": [
    "a,b,c,d,e,f,g,h,i,j = movies()"
   ]
  },
  {
   "cell_type": "code",
   "execution_count": 28,
   "id": "6b56f0ee-0cac-4cd3-ad67-5f7adeb575a8",
   "metadata": {},
   "outputs": [
    {
     "data": {
      "text/plain": [
       "'Wanda Vision'"
      ]
     },
     "execution_count": 28,
     "metadata": {},
     "output_type": "execute_result"
    }
   ],
   "source": [
    "a"
   ]
  },
  {
   "cell_type": "code",
   "execution_count": 29,
   "id": "7a19ef62-48c7-4e76-93d8-54df596a0815",
   "metadata": {},
   "outputs": [
    {
     "data": {
      "text/plain": [
       "22"
      ]
     },
     "execution_count": 29,
     "metadata": {},
     "output_type": "execute_result"
    }
   ],
   "source": [
    "b"
   ]
  },
  {
   "cell_type": "code",
   "execution_count": 30,
   "id": "d480c5d4-7582-4923-ac20-6946d1327d5b",
   "metadata": {},
   "outputs": [
    {
     "data": {
      "text/plain": [
       "'Happy Chuahan'"
      ]
     },
     "execution_count": 30,
     "metadata": {},
     "output_type": "execute_result"
    }
   ],
   "source": [
    "c"
   ]
  },
  {
   "cell_type": "code",
   "execution_count": 31,
   "id": "d83d26f5-1ed6-47d4-8dd5-17796b3db985",
   "metadata": {},
   "outputs": [
    {
     "data": {
      "text/plain": [
       "454.787"
      ]
     },
     "execution_count": 31,
     "metadata": {},
     "output_type": "execute_result"
    }
   ],
   "source": [
    "d"
   ]
  },
  {
   "cell_type": "code",
   "execution_count": 32,
   "id": "ac266478-b3c0-4cb4-bbb4-62afd883a656",
   "metadata": {},
   "outputs": [
    {
     "data": {
      "text/plain": [
       "[4, 586, 483, 41, 564, 'Happy', 'Chauhan']"
      ]
     },
     "execution_count": 32,
     "metadata": {},
     "output_type": "execute_result"
    }
   ],
   "source": [
    "e"
   ]
  },
  {
   "cell_type": "code",
   "execution_count": 33,
   "id": "0619232f-dfeb-4fc2-8936-b0d81409c56e",
   "metadata": {},
   "outputs": [
    {
     "data": {
      "text/plain": [
       "True"
      ]
     },
     "execution_count": 33,
     "metadata": {},
     "output_type": "execute_result"
    }
   ],
   "source": [
    "f"
   ]
  },
  {
   "cell_type": "code",
   "execution_count": 34,
   "id": "ea3b0955-12ed-4c6a-98e6-c5df0efc77ce",
   "metadata": {},
   "outputs": [
    {
     "data": {
      "text/plain": [
       "False"
      ]
     },
     "execution_count": 34,
     "metadata": {},
     "output_type": "execute_result"
    }
   ],
   "source": [
    "g"
   ]
  },
  {
   "cell_type": "code",
   "execution_count": 35,
   "id": "c6f6b3c8-92aa-42a0-8e12-67d2d9e26aa5",
   "metadata": {},
   "outputs": [
    {
     "data": {
      "text/plain": [
       "(5, 786, 5)"
      ]
     },
     "execution_count": 35,
     "metadata": {},
     "output_type": "execute_result"
    }
   ],
   "source": [
    "h"
   ]
  },
  {
   "cell_type": "code",
   "execution_count": 36,
   "id": "c269992c-7061-480f-a231-5b30b0eb81d8",
   "metadata": {},
   "outputs": [
    {
     "data": {
      "text/plain": [
       "{45, 478, 64864, 65, 798, 9, 'Billu', 'Zuku bhaiya'}"
      ]
     },
     "execution_count": 36,
     "metadata": {},
     "output_type": "execute_result"
    }
   ],
   "source": [
    "i"
   ]
  },
  {
   "cell_type": "code",
   "execution_count": 37,
   "id": "da1e1f0e-7858-4a3e-bbc1-b351154482fe",
   "metadata": {},
   "outputs": [
    {
     "data": {
      "text/plain": [
       "{'Key 1': 1, 'key 2': 2, 'key 3': 3}"
      ]
     },
     "execution_count": 37,
     "metadata": {},
     "output_type": "execute_result"
    }
   ],
   "source": [
    "j"
   ]
  },
  {
   "cell_type": "code",
   "execution_count": 38,
   "id": "cc5cd14f-1a40-4724-b994-8077f931663c",
   "metadata": {},
   "outputs": [],
   "source": [
    "def calculation():\n",
    "    a = 545+4556/545\n",
    "    return a"
   ]
  },
  {
   "cell_type": "code",
   "execution_count": 39,
   "id": "037ebcee-caf3-4af3-8c67-25447f949d09",
   "metadata": {},
   "outputs": [
    {
     "data": {
      "text/plain": [
       "553.3596330275229"
      ]
     },
     "execution_count": 39,
     "metadata": {},
     "output_type": "execute_result"
    }
   ],
   "source": [
    "calculation()"
   ]
  },
  {
   "cell_type": "code",
   "execution_count": 40,
   "id": "4ba41cdd-62e7-4d74-a520-ed18befc47d4",
   "metadata": {},
   "outputs": [],
   "source": [
    "def  user(a,b,c):\n",
    "    d = a+b/c\n",
    "    return d"
   ]
  },
  {
   "cell_type": "code",
   "execution_count": 42,
   "id": "67ecda83-31ef-45e9-9342-6ec83a07c7a7",
   "metadata": {},
   "outputs": [
    {
     "data": {
      "text/plain": [
       "146.1044776119403"
      ]
     },
     "execution_count": 42,
     "metadata": {},
     "output_type": "execute_result"
    }
   ],
   "source": [
    "user(145,74,67)"
   ]
  },
  {
   "cell_type": "code",
   "execution_count": 43,
   "id": "89642650-a9a0-4c2b-8d6d-5fcd8a0af096",
   "metadata": {},
   "outputs": [],
   "source": [
    "def addition(a,b):\n",
    "    return a+b"
   ]
  },
  {
   "cell_type": "code",
   "execution_count": 44,
   "id": "58e982e3-082d-4fd8-ad98-f541e726022c",
   "metadata": {},
   "outputs": [
    {
     "data": {
      "text/plain": [
       "6889"
      ]
     },
     "execution_count": 44,
     "metadata": {},
     "output_type": "execute_result"
    }
   ],
   "source": [
    "addition(15,6874)"
   ]
  },
  {
   "cell_type": "code",
   "execution_count": 45,
   "id": "747ad457-5b2c-4422-ae9d-dcd7ce70708d",
   "metadata": {},
   "outputs": [
    {
     "data": {
      "text/plain": [
       "'Happy Chauhan'"
      ]
     },
     "execution_count": 45,
     "metadata": {},
     "output_type": "execute_result"
    }
   ],
   "source": [
    "addition(\"Happy \", \"Chauhan\")"
   ]
  },
  {
   "cell_type": "code",
   "execution_count": 46,
   "id": "26f34a68-383c-4c89-abe1-d4a4c3e47c2d",
   "metadata": {},
   "outputs": [
    {
     "data": {
      "text/plain": [
       "[77, 4987, 489, 21, 54, 89, 87, 492, 86, 6541, 348, 248]"
      ]
     },
     "execution_count": 46,
     "metadata": {},
     "output_type": "execute_result"
    }
   ],
   "source": [
    "addition([77,4987,489,21,54,89],[87,492,86,6541,348,248])"
   ]
  },
  {
   "cell_type": "code",
   "execution_count": 47,
   "id": "ceb0a9fd-65e3-4292-b2db-a1123eaecdcd",
   "metadata": {},
   "outputs": [],
   "source": [
    "# Making the function increases the usability of the function "
   ]
  },
  {
   "cell_type": "code",
   "execution_count": 48,
   "id": "38867a73-864f-4af3-899e-14f092379d68",
   "metadata": {},
   "outputs": [],
   "source": [
    "malinga = [1,2,3,4,5,\"Happy\", \"Chauhan\",[6,7,8,9,10, \"Data Science\"]]"
   ]
  },
  {
   "cell_type": "code",
   "execution_count": 49,
   "id": "853b363a-8b12-4a9c-b9dd-aab33b587338",
   "metadata": {},
   "outputs": [],
   "source": [
    "# we have here 2 ways to do that 1st by loops method 2nd by making function"
   ]
  },
  {
   "cell_type": "code",
   "execution_count": 74,
   "id": "41bfd08f-490a-41a1-be43-7c7320de2daa",
   "metadata": {},
   "outputs": [],
   "source": [
    "such = []\n",
    "for i in malinga :\n",
    "    if type(i) == int or type(i) == float:\n",
    "        such.append(i)"
   ]
  },
  {
   "cell_type": "code",
   "execution_count": 75,
   "id": "d35c786a-d426-408e-9eff-64ce1ab6ed8d",
   "metadata": {},
   "outputs": [
    {
     "data": {
      "text/plain": [
       "[1, 2, 3, 4, 5]"
      ]
     },
     "execution_count": 75,
     "metadata": {},
     "output_type": "execute_result"
    }
   ],
   "source": [
    "such"
   ]
  },
  {
   "cell_type": "code",
   "execution_count": 76,
   "id": "ba27e621-9795-42d3-a011-5558ef81764a",
   "metadata": {},
   "outputs": [],
   "source": [
    "def gogogo(malinga):\n",
    "    such = []\n",
    "    for i in malinga :\n",
    "        if type(i) == int or type(i) == float:\n",
    "            such.append(i)\n",
    "        return such"
   ]
  },
  {
   "cell_type": "code",
   "execution_count": 77,
   "id": "113ff260-164f-41f4-9ad3-91dc946adaf3",
   "metadata": {},
   "outputs": [
    {
     "data": {
      "text/plain": [
       "[1]"
      ]
     },
     "execution_count": 77,
     "metadata": {},
     "output_type": "execute_result"
    }
   ],
   "source": [
    "gogogo(malinga)"
   ]
  },
  {
   "cell_type": "code",
   "execution_count": 78,
   "id": "659d9c6e-4e3f-40b7-b699-52c1b3ab9d70",
   "metadata": {},
   "outputs": [
    {
     "data": {
      "text/plain": [
       "[1, 2, 3, 4, 5, 'Happy', 'Chauhan', [6, 7, 8, 9, 10, 'Data Science']]"
      ]
     },
     "execution_count": 78,
     "metadata": {},
     "output_type": "execute_result"
    }
   ],
   "source": [
    "malinga"
   ]
  },
  {
   "cell_type": "code",
   "execution_count": 79,
   "id": "9afe51ff-2108-4b0e-9985-05ea349cc998",
   "metadata": {},
   "outputs": [
    {
     "data": {
      "text/plain": [
       "[1, 2, 3, 4, 5]"
      ]
     },
     "execution_count": 79,
     "metadata": {},
     "output_type": "execute_result"
    }
   ],
   "source": [
    "such"
   ]
  },
  {
   "cell_type": "code",
   "execution_count": 80,
   "id": "ce5d79c2-3f7e-4357-99c7-aac209d8b482",
   "metadata": {},
   "outputs": [
    {
     "data": {
      "text/plain": [
       "[1]"
      ]
     },
     "execution_count": 80,
     "metadata": {},
     "output_type": "execute_result"
    }
   ],
   "source": [
    "gogogo(malinga)"
   ]
  },
  {
   "cell_type": "code",
   "execution_count": 84,
   "id": "f53ca162-6bb4-4d65-9149-cf3f0bf6610e",
   "metadata": {},
   "outputs": [],
   "source": [
    "def run(malinga):\n",
    "    lukas = []\n",
    "    for i in malinga:\n",
    "        if type(i) == list:\n",
    "            for p in i:\n",
    "                lukas.append(p)\n",
    "        else:\n",
    "            if type(i) == int or type(i) == float:\n",
    "                lukas.append(i)\n",
    "    return lukas"
   ]
  },
  {
   "cell_type": "code",
   "execution_count": 87,
   "id": "68a44463-3648-43aa-b3f7-ef08564e01b3",
   "metadata": {},
   "outputs": [
    {
     "data": {
      "text/plain": [
       "[1, 2, 3, 4, 5, 6, 7, 8, 9, 10, 'Data Science']"
      ]
     },
     "execution_count": 87,
     "metadata": {},
     "output_type": "execute_result"
    }
   ],
   "source": [
    "run(malinga)"
   ]
  },
  {
   "cell_type": "code",
   "execution_count": 83,
   "id": "901b9649-27a8-468c-b424-bb5ea100dcfe",
   "metadata": {},
   "outputs": [
    {
     "data": {
      "text/plain": [
       "{'Key 1': 1, 'key 2': 2, 'key 3': 3}"
      ]
     },
     "execution_count": 83,
     "metadata": {},
     "output_type": "execute_result"
    }
   ],
   "source": [
    "j"
   ]
  },
  {
   "cell_type": "code",
   "execution_count": 89,
   "id": "03de418e-3c37-45c5-8861-b9086e9e6fd1",
   "metadata": {},
   "outputs": [],
   "source": [
    "def run(malinga):\n",
    "    lukas = []\n",
    "    for i in malinga:\n",
    "        if type(i) == list:\n",
    "            for p in i:\n",
    "                if type(p) == int or type(p) == float:\n",
    "                    lukas.append(p)\n",
    "                else:\n",
    "                    continue\n",
    "        else:\n",
    "            if type(i) == int or type(i) == float:\n",
    "                lukas.append(i)\n",
    "    return lukas"
   ]
  },
  {
   "cell_type": "code",
   "execution_count": 90,
   "id": "3c212ecc-6f95-464b-ace3-92b272cd8a16",
   "metadata": {},
   "outputs": [
    {
     "data": {
      "text/plain": [
       "[1, 2, 3, 4, 5, 6, 7, 8, 9, 10]"
      ]
     },
     "execution_count": 90,
     "metadata": {},
     "output_type": "execute_result"
    }
   ],
   "source": [
    "run(malinga)"
   ]
  },
  {
   "cell_type": "code",
   "execution_count": 93,
   "id": "3b161d13-8178-475d-8155-c928c54c8601",
   "metadata": {},
   "outputs": [],
   "source": [
    "def run(malinga):\n",
    "    \"\"\"This is my function which gives integer value from the list\"\"\"\n",
    "    \n",
    "    lukas = []\n",
    "    for i in malinga:\n",
    "        if type(i) == list:\n",
    "            for p in i:\n",
    "                if type(p) == int or type(p) == float:\n",
    "                    lukas.append(p)\n",
    "                else:\n",
    "                    continue\n",
    "        else:\n",
    "            if type(i) == int or type(i) == float:\n",
    "                lukas.append(i)\n",
    "    return lukas"
   ]
  },
  {
   "cell_type": "code",
   "execution_count": 94,
   "id": "f97bbeb7-bb2b-4923-af81-3988010f2df3",
   "metadata": {},
   "outputs": [
    {
     "data": {
      "text/plain": [
       "[1, 2, 3, 4, 5, 6, 7, 8, 9, 10]"
      ]
     },
     "execution_count": 94,
     "metadata": {},
     "output_type": "execute_result"
    }
   ],
   "source": [
    "run(malinga)"
   ]
  },
  {
   "cell_type": "code",
   "execution_count": 95,
   "id": "57bd05e9-b68c-42ab-b65d-eea02d40130c",
   "metadata": {},
   "outputs": [],
   "source": [
    "def user_data(*args):\n",
    "    return args"
   ]
  },
  {
   "cell_type": "code",
   "execution_count": 97,
   "id": "1166933f-cf65-418b-8327-2d43df656342",
   "metadata": {},
   "outputs": [
    {
     "data": {
      "text/plain": [
       "()"
      ]
     },
     "execution_count": 97,
     "metadata": {},
     "output_type": "execute_result"
    }
   ],
   "source": [
    "user_data()"
   ]
  },
  {
   "cell_type": "code",
   "execution_count": 98,
   "id": "0f7caac7-79af-49cf-a2b2-f163b3ec7f42",
   "metadata": {},
   "outputs": [
    {
     "data": {
      "text/plain": [
       "(1, 56, 168, 4564, 'Happy Chauhan')"
      ]
     },
     "execution_count": 98,
     "metadata": {},
     "output_type": "execute_result"
    }
   ],
   "source": [
    "user_data(1,56,168,4564,\"Happy Chauhan\")"
   ]
  },
  {
   "cell_type": "code",
   "execution_count": 99,
   "id": "90cee724-9e33-45d7-bc91-6a1df45578b3",
   "metadata": {},
   "outputs": [],
   "source": [
    "# *means that we can pass n number of the input"
   ]
  },
  {
   "cell_type": "code",
   "execution_count": 100,
   "id": "792830e0-485a-4b3a-a049-34c66341462c",
   "metadata": {},
   "outputs": [],
   "source": [
    "# and using single * indicates that it keeps it in form of the tuples"
   ]
  },
  {
   "cell_type": "code",
   "execution_count": 101,
   "id": "2b88b830-1ae4-44d5-bb46-fb27487b87f1",
   "metadata": {},
   "outputs": [],
   "source": [
    "def gian(*happy):\n",
    "    return happy"
   ]
  },
  {
   "cell_type": "code",
   "execution_count": 102,
   "id": "b1b09b36-c75e-488b-b4cf-05499372ab67",
   "metadata": {},
   "outputs": [
    {
     "data": {
      "text/plain": [
       "(465,)"
      ]
     },
     "execution_count": 102,
     "metadata": {},
     "output_type": "execute_result"
    }
   ],
   "source": [
    "gian(465)"
   ]
  },
  {
   "cell_type": "code",
   "execution_count": 103,
   "id": "7d0f9425-9a67-4124-9ecf-0f1f5e3d6bbe",
   "metadata": {},
   "outputs": [
    {
     "data": {
      "text/plain": [
       "(46, 67, 1, 68)"
      ]
     },
     "execution_count": 103,
     "metadata": {},
     "output_type": "execute_result"
    }
   ],
   "source": [
    "gian(46,67,1,68)"
   ]
  },
  {
   "cell_type": "code",
   "execution_count": 105,
   "id": "b43eaafa-97fb-4d6f-b797-2eef0ebaef36",
   "metadata": {},
   "outputs": [],
   "source": [
    "def sunio(*vet, b):\n",
    "    return vet, b"
   ]
  },
  {
   "cell_type": "code",
   "execution_count": 108,
   "id": "15dc158e-30a3-4d21-94c9-2eda29e941e1",
   "metadata": {},
   "outputs": [
    {
     "data": {
      "text/plain": [
       "((54, 4, 64, 4, 2, 8), 8)"
      ]
     },
     "execution_count": 108,
     "metadata": {},
     "output_type": "execute_result"
    }
   ],
   "source": [
    "sunio(54,4,64,4,2,8, b = 8)"
   ]
  },
  {
   "cell_type": "code",
   "execution_count": 110,
   "id": "577f7998-fcc7-4ea3-b09e-cc4e5af71075",
   "metadata": {},
   "outputs": [],
   "source": [
    "def nobita(a,b,c = 54, d =4):\n",
    "    return a,b,c,d"
   ]
  },
  {
   "cell_type": "code",
   "execution_count": 111,
   "id": "4dc276a4-a751-4ade-bfe3-8177c64e9678",
   "metadata": {},
   "outputs": [
    {
     "data": {
      "text/plain": [
       "(5, 78, 54, 4)"
      ]
     },
     "execution_count": 111,
     "metadata": {},
     "output_type": "execute_result"
    }
   ],
   "source": [
    "nobita(5,78)"
   ]
  },
  {
   "cell_type": "code",
   "execution_count": 112,
   "id": "2b7600a4-7737-4cf9-9031-62ae7a77f73a",
   "metadata": {},
   "outputs": [
    {
     "data": {
      "text/plain": [
       "(5, 43, 4698, 1)"
      ]
     },
     "execution_count": 112,
     "metadata": {},
     "output_type": "execute_result"
    }
   ],
   "source": [
    "nobita(5,43,c =4698, d =1)"
   ]
  },
  {
   "cell_type": "code",
   "execution_count": 113,
   "id": "0174f3c6-bde1-4c31-be78-dfadfad1ae99",
   "metadata": {},
   "outputs": [],
   "source": [
    "# we can change the value of fixed input inside a function easily"
   ]
  },
  {
   "cell_type": "code",
   "execution_count": 114,
   "id": "34397497-3320-4d2c-90b8-c88974f8515e",
   "metadata": {},
   "outputs": [],
   "source": [
    "# ** helps to get the data in form of the dict or set just like *"
   ]
  },
  {
   "cell_type": "code",
   "execution_count": 115,
   "id": "48dc230e-8f40-4ddd-bec6-46592fef3eaa",
   "metadata": {},
   "outputs": [],
   "source": [
    "def naruto(**kwargs):\n",
    "    return kwargs"
   ]
  },
  {
   "cell_type": "code",
   "execution_count": 117,
   "id": "ecb7ea81-ca5f-459b-9258-abcc1da3c1b4",
   "metadata": {},
   "outputs": [
    {
     "data": {
      "text/plain": [
       "{}"
      ]
     },
     "execution_count": 117,
     "metadata": {},
     "output_type": "execute_result"
    }
   ],
   "source": [
    "naruto()"
   ]
  },
  {
   "cell_type": "code",
   "execution_count": 121,
   "id": "5fb6a2d4-df2e-48d9-adb9-eac6fc16f94b",
   "metadata": {},
   "outputs": [
    {
     "data": {
      "text/plain": [
       "{'a': [5, 4, 7, 16, 4, 8], 'b': [48, 979, 1, 64, 987, 57]}"
      ]
     },
     "execution_count": 121,
     "metadata": {},
     "output_type": "execute_result"
    }
   ],
   "source": [
    "naruto(a = [5,4,7,16,4,8], b = [48,979,1,64,987,57])"
   ]
  },
  {
   "cell_type": "code",
   "execution_count": 122,
   "id": "19a24691-e5da-4592-a60a-c986f4d5dd37",
   "metadata": {},
   "outputs": [
    {
     "data": {
      "text/plain": [
       "{'key1': 1, 'key2': 2, 'key3': 3}"
      ]
     },
     "execution_count": 122,
     "metadata": {},
     "output_type": "execute_result"
    }
   ],
   "source": [
    "naruto(key1 = 1, key2 = 2, key3 = 3)"
   ]
  },
  {
   "cell_type": "code",
   "execution_count": null,
   "id": "91487029-30cb-4c3e-ac1a-e87f7eeef529",
   "metadata": {},
   "outputs": [],
   "source": []
  }
 ],
 "metadata": {
  "kernelspec": {
   "display_name": "Python 3 (ipykernel)",
   "language": "python",
   "name": "python3"
  },
  "language_info": {
   "codemirror_mode": {
    "name": "ipython",
    "version": 3
   },
   "file_extension": ".py",
   "mimetype": "text/x-python",
   "name": "python",
   "nbconvert_exporter": "python",
   "pygments_lexer": "ipython3",
   "version": "3.10.8"
  }
 },
 "nbformat": 4,
 "nbformat_minor": 5
}
