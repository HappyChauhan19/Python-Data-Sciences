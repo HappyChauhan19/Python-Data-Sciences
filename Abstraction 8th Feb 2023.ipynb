{
 "cells": [
  {
   "cell_type": "code",
   "execution_count": 1,
   "id": "7f51495b-5a5f-49ac-a642-412d19534de4",
   "metadata": {},
   "outputs": [],
   "source": [
    "# abstract class is used to creat blueprint of the code or to prepare outline"
   ]
  },
  {
   "cell_type": "code",
   "execution_count": 2,
   "id": "f8acdd92-3c00-423f-860c-05c4a91b721f",
   "metadata": {},
   "outputs": [],
   "source": [
    "import abc\n",
    "class pwskills:\n",
    "    @abc.abstractmethod\n",
    "    def student_details(self):\n",
    "        pass\n",
    "    @abc.abstractmethod\n",
    "    def student_assignment(self):\n",
    "        pass\n",
    "    @abc.abstractmethod\n",
    "    def student_marks(self):\n",
    "        pass"
   ]
  },
  {
   "cell_type": "code",
   "execution_count": 4,
   "id": "ff061c42-1a8f-4704-ae08-a91de8e87ea4",
   "metadata": {},
   "outputs": [],
   "source": [
    "class student_details(pwskills):\n",
    "    def student_details(self):\n",
    "        return \"This is method of taking student details and is a part of abstraction.\"\n",
    "    def student_assignment(self):\n",
    "        return \"This is for taking Assignment details.\"\n",
    "    "
   ]
  },
  {
   "cell_type": "code",
   "execution_count": 5,
   "id": "42d7ac09-29ef-4da7-80fc-a11737b03fe7",
   "metadata": {},
   "outputs": [],
   "source": [
    "class data_science_masters(pwskills):\n",
    "    def student_details(self):\n",
    "        return \"It is going to return student details for the data science masters\"\n",
    "    def student_assignment(self):\n",
    "        return \"This will return student assignment details for data science masters\""
   ]
  },
  {
   "cell_type": "code",
   "execution_count": 6,
   "id": "db6a2223-d5d2-475e-8d0c-1671234a3d32",
   "metadata": {},
   "outputs": [
    {
     "data": {
      "text/plain": [
       "'It is going to return student details for the data science masters'"
      ]
     },
     "execution_count": 6,
     "metadata": {},
     "output_type": "execute_result"
    }
   ],
   "source": [
    "data = data_science_masters()\n",
    "data.student_details()"
   ]
  },
  {
   "cell_type": "code",
   "execution_count": 8,
   "id": "5959cfd8-3915-45d4-a25e-6c047c939e51",
   "metadata": {},
   "outputs": [
    {
     "data": {
      "text/plain": [
       "'This is for taking Assignment details.'"
      ]
     },
     "execution_count": 8,
     "metadata": {},
     "output_type": "execute_result"
    }
   ],
   "source": [
    "student = student_details()\n",
    "student.student_assignment()"
   ]
  },
  {
   "cell_type": "code",
   "execution_count": null,
   "id": "3fe27d37-0325-4d17-bd58-5a845ed251dd",
   "metadata": {},
   "outputs": [],
   "source": []
  }
 ],
 "metadata": {
  "kernelspec": {
   "display_name": "Python 3 (ipykernel)",
   "language": "python",
   "name": "python3"
  },
  "language_info": {
   "codemirror_mode": {
    "name": "ipython",
    "version": 3
   },
   "file_extension": ".py",
   "mimetype": "text/x-python",
   "name": "python",
   "nbconvert_exporter": "python",
   "pygments_lexer": "ipython3",
   "version": "3.10.8"
  }
 },
 "nbformat": 4,
 "nbformat_minor": 5
}
