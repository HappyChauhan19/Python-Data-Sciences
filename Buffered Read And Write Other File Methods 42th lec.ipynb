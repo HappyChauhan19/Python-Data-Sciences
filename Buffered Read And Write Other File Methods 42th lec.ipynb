{
 "cells": [
  {
   "cell_type": "code",
   "execution_count": 1,
   "id": "d53ac7f3-32df-4d19-badf-e1992a6d01d5",
   "metadata": {},
   "outputs": [],
   "source": [
    "import io"
   ]
  },
  {
   "cell_type": "code",
   "execution_count": 13,
   "id": "94738ae9-4430-4610-8540-55fa764bded4",
   "metadata": {},
   "outputs": [],
   "source": [
    "with open(\"text.txt\", \"wb\")  as f :\n",
    "    file = io.BufferedWriter(f)\n",
    "    \n",
    "    file.write(b\"This is my first line.\\n\")\n",
    "    file.write(b\"This is my second line.\\n\")\n",
    "    \n",
    "    file.flush()"
   ]
  },
  {
   "cell_type": "code",
   "execution_count": 12,
   "id": "3846782f-b86a-434e-933b-2fce098ad8dc",
   "metadata": {},
   "outputs": [],
   "source": [
    "# In the Buffered read and write we have to use flush() at the place of the close()"
   ]
  },
  {
   "cell_type": "code",
   "execution_count": 14,
   "id": "79354e60-15dd-4ed3-b1e8-5e9aa312e86b",
   "metadata": {},
   "outputs": [
    {
     "name": "stdout",
     "output_type": "stream",
     "text": [
      "b'This is my first line.\\nThis is my second line.\\n'\n"
     ]
    }
   ],
   "source": [
    "with open(\"text.txt\", \"rb\") as f:\n",
    "    file = io.BufferedReader(f)\n",
    "    print(file.read())"
   ]
  },
  {
   "cell_type": "code",
   "execution_count": null,
   "id": "2e04a05e-d0ef-4fa0-a9f6-b14720686a91",
   "metadata": {},
   "outputs": [],
   "source": []
  }
 ],
 "metadata": {
  "kernelspec": {
   "display_name": "Python 3 (ipykernel)",
   "language": "python",
   "name": "python3"
  },
  "language_info": {
   "codemirror_mode": {
    "name": "ipython",
    "version": 3
   },
   "file_extension": ".py",
   "mimetype": "text/x-python",
   "name": "python",
   "nbconvert_exporter": "python",
   "pygments_lexer": "ipython3",
   "version": "3.10.8"
  }
 },
 "nbformat": 4,
 "nbformat_minor": 5
}
