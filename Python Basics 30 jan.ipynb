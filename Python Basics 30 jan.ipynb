{
 "cells": [
  {
   "cell_type": "code",
   "execution_count": 1,
   "id": "b73e9cd1-74ac-476c-ad7f-1c57da5dafc8",
   "metadata": {},
   "outputs": [
    {
     "data": {
      "text/plain": [
       "2"
      ]
     },
     "execution_count": 1,
     "metadata": {},
     "output_type": "execute_result"
    }
   ],
   "source": [
    "1+1"
   ]
  },
  {
   "cell_type": "code",
   "execution_count": 2,
   "id": "82c1bc69-3262-4a4b-b499-635b811bb55a",
   "metadata": {},
   "outputs": [
    {
     "data": {
      "text/plain": [
       "10"
      ]
     },
     "execution_count": 2,
     "metadata": {},
     "output_type": "execute_result"
    }
   ],
   "source": [
    "5+5\n",
    "#Shift + enter is for Executing a code\n",
    "#we can use ctrl + Enter too."
   ]
  },
  {
   "cell_type": "code",
   "execution_count": 3,
   "id": "46b16a72-79e6-4c20-9a52-c0933f8439dc",
   "metadata": {},
   "outputs": [
    {
     "data": {
      "text/plain": [
       "25"
      ]
     },
     "execution_count": 3,
     "metadata": {},
     "output_type": "execute_result"
    }
   ],
   "source": [
    "5*5"
   ]
  },
  {
   "cell_type": "code",
   "execution_count": 4,
   "id": "eaf1f3a6-e303-49a7-9d48-29d8d1e208a3",
   "metadata": {},
   "outputs": [],
   "source": [
    "a = 23\n",
    "#it is a variable and some data is stored in it we can assume anything as a variable as above it is a we can \n",
    "#give some name to it too. for logical understanding."
   ]
  },
  {
   "cell_type": "code",
   "execution_count": 5,
   "id": "f2c45c33-368b-408f-be62-e4da5d096bbc",
   "metadata": {},
   "outputs": [
    {
     "data": {
      "text/plain": [
       "23"
      ]
     },
     "execution_count": 5,
     "metadata": {},
     "output_type": "execute_result"
    }
   ],
   "source": [
    "a"
   ]
  },
  {
   "cell_type": "code",
   "execution_count": 6,
   "id": "b879f8fe-7ca0-4de3-9d65-bb2c9b36c74d",
   "metadata": {},
   "outputs": [],
   "source": [
    "Hap = 22"
   ]
  },
  {
   "cell_type": "code",
   "execution_count": 7,
   "id": "9aa7ccc6-ed88-4686-8178-a25fffcd3628",
   "metadata": {},
   "outputs": [
    {
     "data": {
      "text/plain": [
       "22"
      ]
     },
     "execution_count": 7,
     "metadata": {},
     "output_type": "execute_result"
    }
   ],
   "source": [
    "Hap"
   ]
  },
  {
   "cell_type": "code",
   "execution_count": 8,
   "id": "2f7529b1-7716-4031-8190-82b78170200f",
   "metadata": {},
   "outputs": [
    {
     "data": {
      "text/plain": [
       "45"
      ]
     },
     "execution_count": 8,
     "metadata": {},
     "output_type": "execute_result"
    }
   ],
   "source": [
    "Hap + a\n",
    "#variables are case sensitive use proper letters for calling a certain variable"
   ]
  },
  {
   "cell_type": "code",
   "execution_count": 9,
   "id": "3afd3b8a-0c22-46e7-b294-9b8fdf523b62",
   "metadata": {},
   "outputs": [
    {
     "data": {
      "text/plain": [
       "int"
      ]
     },
     "execution_count": 9,
     "metadata": {},
     "output_type": "execute_result"
    }
   ],
   "source": [
    "type(a)\n",
    "#this is used to find the type of the variable being used."
   ]
  },
  {
   "cell_type": "code",
   "execution_count": 10,
   "id": "d447bcd6-b852-4397-ba03-eac8530722e9",
   "metadata": {},
   "outputs": [
    {
     "data": {
      "text/plain": [
       "506"
      ]
     },
     "execution_count": 10,
     "metadata": {},
     "output_type": "execute_result"
    }
   ],
   "source": [
    "Hap*a"
   ]
  },
  {
   "cell_type": "code",
   "execution_count": 11,
   "id": "de90b85d-d697-4d81-b322-a407f21b21a5",
   "metadata": {},
   "outputs": [
    {
     "data": {
      "text/plain": [
       "int"
      ]
     },
     "execution_count": 11,
     "metadata": {},
     "output_type": "execute_result"
    }
   ],
   "source": [
    "type(Hap)"
   ]
  },
  {
   "cell_type": "code",
   "execution_count": 12,
   "id": "14f34704-e099-4448-ba01-e0e876a9854a",
   "metadata": {},
   "outputs": [],
   "source": [
    "b=34.434"
   ]
  },
  {
   "cell_type": "code",
   "execution_count": 13,
   "id": "752a53cf-1c75-4a83-bdb4-0e0302631a76",
   "metadata": {},
   "outputs": [
    {
     "data": {
      "text/plain": [
       "float"
      ]
     },
     "execution_count": 13,
     "metadata": {},
     "output_type": "execute_result"
    }
   ],
   "source": [
    "type(b)"
   ]
  },
  {
   "cell_type": "code",
   "execution_count": 14,
   "id": "15be67ee-3b0d-4df0-b8d8-9cd13ef6adbe",
   "metadata": {},
   "outputs": [],
   "source": [
    "c=343.79574857"
   ]
  },
  {
   "cell_type": "code",
   "execution_count": 15,
   "id": "996c1b49-5481-48d2-aa12-95c3e15a091c",
   "metadata": {},
   "outputs": [
    {
     "data": {
      "text/plain": [
       "float"
      ]
     },
     "execution_count": 15,
     "metadata": {},
     "output_type": "execute_result"
    }
   ],
   "source": [
    "type(c)"
   ]
  },
  {
   "cell_type": "code",
   "execution_count": 16,
   "id": "3dabbdd5-277c-438c-84c3-991efc071d99",
   "metadata": {},
   "outputs": [],
   "source": [
    "d = \"Happy Chauhan\"\n",
    "#sting should be in the double or single quotes"
   ]
  },
  {
   "cell_type": "code",
   "execution_count": 17,
   "id": "6f3cd599-ad0a-400b-b8ef-a8ab166e8234",
   "metadata": {},
   "outputs": [
    {
     "data": {
      "text/plain": [
       "str"
      ]
     },
     "execution_count": 17,
     "metadata": {},
     "output_type": "execute_result"
    }
   ],
   "source": [
    "type(d)"
   ]
  },
  {
   "cell_type": "code",
   "execution_count": 18,
   "id": "ac5d1b78-6a82-444c-8e73-c0854708b081",
   "metadata": {},
   "outputs": [
    {
     "data": {
      "text/plain": [
       "'Happy Chauhan'"
      ]
     },
     "execution_count": 18,
     "metadata": {},
     "output_type": "execute_result"
    }
   ],
   "source": [
    "d"
   ]
  },
  {
   "cell_type": "code",
   "execution_count": 20,
   "id": "a0ac172f-d559-4422-b193-127b3cd2a123",
   "metadata": {},
   "outputs": [],
   "source": [
    "e = 'This is my first Data Science class'"
   ]
  },
  {
   "cell_type": "code",
   "execution_count": 21,
   "id": "eaa40a54-c2a1-4024-b544-80fd640dee76",
   "metadata": {},
   "outputs": [
    {
     "data": {
      "text/plain": [
       "str"
      ]
     },
     "execution_count": 21,
     "metadata": {},
     "output_type": "execute_result"
    }
   ],
   "source": [
    "type(e)"
   ]
  },
  {
   "cell_type": "code",
   "execution_count": 22,
   "id": "9c1459c7-fb51-42be-bc2d-117994b1cb5f",
   "metadata": {},
   "outputs": [],
   "source": [
    "f = True\n",
    "#it will show boolean data which is either 0 or 1 which means true or false \n",
    "#in this we have to type true which have a capital T and false as capital F\n",
    "#where True means 1 and False means 0"
   ]
  },
  {
   "cell_type": "code",
   "execution_count": 23,
   "id": "32dbac82-4e88-491b-a845-e8bed92563fe",
   "metadata": {},
   "outputs": [
    {
     "data": {
      "text/plain": [
       "bool"
      ]
     },
     "execution_count": 23,
     "metadata": {},
     "output_type": "execute_result"
    }
   ],
   "source": [
    "type(f)"
   ]
  },
  {
   "cell_type": "code",
   "execution_count": 24,
   "id": "f0cfcede-8f5a-43cf-8a4f-b21b06007c25",
   "metadata": {},
   "outputs": [],
   "source": [
    "g = False"
   ]
  },
  {
   "cell_type": "code",
   "execution_count": 25,
   "id": "b22bb5f3-0f28-4828-b3cb-6d38c6252cd7",
   "metadata": {},
   "outputs": [
    {
     "data": {
      "text/plain": [
       "bool"
      ]
     },
     "execution_count": 25,
     "metadata": {},
     "output_type": "execute_result"
    }
   ],
   "source": [
    "type(g)"
   ]
  },
  {
   "cell_type": "code",
   "execution_count": 26,
   "id": "49c2c0ff-753a-4d81-a24f-44f823a3c844",
   "metadata": {},
   "outputs": [
    {
     "data": {
      "text/plain": [
       "1"
      ]
     },
     "execution_count": 26,
     "metadata": {},
     "output_type": "execute_result"
    }
   ],
   "source": [
    "f+g"
   ]
  },
  {
   "cell_type": "code",
   "execution_count": 27,
   "id": "44a88561-dc7b-4daa-b495-3a3f7b5d16af",
   "metadata": {},
   "outputs": [
    {
     "data": {
      "text/plain": [
       "0"
      ]
     },
     "execution_count": 27,
     "metadata": {},
     "output_type": "execute_result"
    }
   ],
   "source": [
    "f*g"
   ]
  },
  {
   "cell_type": "code",
   "execution_count": 28,
   "id": "11cb58b9-aafc-4721-806b-cd897fd30c57",
   "metadata": {},
   "outputs": [
    {
     "data": {
      "text/plain": [
       "1"
      ]
     },
     "execution_count": 28,
     "metadata": {},
     "output_type": "execute_result"
    }
   ],
   "source": [
    "f-g"
   ]
  },
  {
   "cell_type": "code",
   "execution_count": 29,
   "id": "c0ce993a-df7c-49bf-b874-f33fb8e235f9",
   "metadata": {},
   "outputs": [
    {
     "data": {
      "text/plain": [
       "-1"
      ]
     },
     "execution_count": 29,
     "metadata": {},
     "output_type": "execute_result"
    }
   ],
   "source": [
    "g-f"
   ]
  },
  {
   "cell_type": "code",
   "execution_count": 30,
   "id": "d5f53dff-0f06-440a-9648-15dd315580fc",
   "metadata": {},
   "outputs": [
    {
     "data": {
      "text/plain": [
       "0.0"
      ]
     },
     "execution_count": 30,
     "metadata": {},
     "output_type": "execute_result"
    }
   ],
   "source": [
    "g/f"
   ]
  },
  {
   "cell_type": "code",
   "execution_count": 31,
   "id": "e48f0212-aa8c-49bb-abdd-4eec06e0f1f0",
   "metadata": {},
   "outputs": [
    {
     "data": {
      "text/plain": [
       "1"
      ]
     },
     "execution_count": 31,
     "metadata": {},
     "output_type": "execute_result"
    }
   ],
   "source": [
    "True+False"
   ]
  },
  {
   "cell_type": "code",
   "execution_count": 32,
   "id": "077b6798-83d1-4ad2-869e-77d64fa944b1",
   "metadata": {},
   "outputs": [
    {
     "data": {
      "text/plain": [
       "0"
      ]
     },
     "execution_count": 32,
     "metadata": {},
     "output_type": "execute_result"
    }
   ],
   "source": [
    "True*False"
   ]
  },
  {
   "cell_type": "code",
   "execution_count": 33,
   "id": "3d0159c4-d8fb-444e-b769-bf1b653c9eba",
   "metadata": {},
   "outputs": [
    {
     "data": {
      "text/plain": [
       "1"
      ]
     },
     "execution_count": 33,
     "metadata": {},
     "output_type": "execute_result"
    }
   ],
   "source": [
    "True * True"
   ]
  },
  {
   "cell_type": "code",
   "execution_count": 34,
   "id": "b29befd0-148c-4aea-95b2-63d5f3f9e4ed",
   "metadata": {},
   "outputs": [
    {
     "data": {
      "text/plain": [
       "0.0"
      ]
     },
     "execution_count": 34,
     "metadata": {},
     "output_type": "execute_result"
    }
   ],
   "source": [
    "False/True"
   ]
  },
  {
   "cell_type": "code",
   "execution_count": 35,
   "id": "1b4b61c0-eead-462a-bad6-ea72878e8c5e",
   "metadata": {},
   "outputs": [
    {
     "ename": "ZeroDivisionError",
     "evalue": "division by zero",
     "output_type": "error",
     "traceback": [
      "\u001b[0;31m---------------------------------------------------------------------------\u001b[0m",
      "\u001b[0;31mZeroDivisionError\u001b[0m                         Traceback (most recent call last)",
      "Cell \u001b[0;32mIn[35], line 1\u001b[0m\n\u001b[0;32m----> 1\u001b[0m \u001b[38;5;28;43;01mTrue\u001b[39;49;00m\u001b[38;5;241;43m/\u001b[39;49m\u001b[38;5;28;43;01mFalse\u001b[39;49;00m\n",
      "\u001b[0;31mZeroDivisionError\u001b[0m: division by zero"
     ]
    }
   ],
   "source": [
    "True/False"
   ]
  },
  {
   "cell_type": "code",
   "execution_count": 36,
   "id": "318d5e18-49ed-4b82-b073-89eacb0a55a1",
   "metadata": {},
   "outputs": [],
   "source": [
    "h = 48 + 4j\n",
    "#It is a complex type of variable\n",
    "#We can only take j or J we can't take other notation if we try to do that it is going to give error"
   ]
  },
  {
   "cell_type": "code",
   "execution_count": 37,
   "id": "e184cb5d-6d05-406a-a168-7b44414fb4cb",
   "metadata": {},
   "outputs": [
    {
     "data": {
      "text/plain": [
       "complex"
      ]
     },
     "execution_count": 37,
     "metadata": {},
     "output_type": "execute_result"
    }
   ],
   "source": [
    "type(h)\n",
    "#if we want to find out that what does this variable do the just go to the variable or function\n",
    "#then just to shift + tab it will show the details what does it do"
   ]
  },
  {
   "cell_type": "code",
   "execution_count": 38,
   "id": "20254d95-4bc6-464f-8245-734b224a5eea",
   "metadata": {},
   "outputs": [
    {
     "data": {
      "text/plain": [
       "48.0"
      ]
     },
     "execution_count": 38,
     "metadata": {},
     "output_type": "execute_result"
    }
   ],
   "source": [
    "h.real\n",
    "#if we want to extract the real number from any complex number than we can call variable\n",
    "#then . and then finally tab then the list will apper the select real \n",
    "#and it will give the real number present in the variable"
   ]
  },
  {
   "cell_type": "code",
   "execution_count": 39,
   "id": "8c63fb8b-9cd9-4d80-a90b-92f36c54a09d",
   "metadata": {},
   "outputs": [
    {
     "data": {
      "text/plain": [
       "(48+4j)"
      ]
     },
     "execution_count": 39,
     "metadata": {},
     "output_type": "execute_result"
    }
   ],
   "source": [
    "h"
   ]
  },
  {
   "cell_type": "code",
   "execution_count": 40,
   "id": "95a2afd2-8ed7-4254-9468-c33e9b0d931e",
   "metadata": {},
   "outputs": [
    {
     "name": "stdout",
     "output_type": "stream",
     "text": [
      "My name is Happy Chauhan\n"
     ]
    }
   ],
   "source": [
    "print(\"My name is Happy Chauhan\")"
   ]
  },
  {
   "cell_type": "code",
   "execution_count": 41,
   "id": "a6a92593-6ef8-4348-9180-4d2e1b1ac996",
   "metadata": {},
   "outputs": [
    {
     "name": "stdout",
     "output_type": "stream",
     "text": [
      "23\n"
     ]
    }
   ],
   "source": [
    "print(a)"
   ]
  },
  {
   "cell_type": "code",
   "execution_count": 42,
   "id": "8d37711c-6f30-4708-a383-4a081de108cc",
   "metadata": {},
   "outputs": [
    {
     "name": "stdout",
     "output_type": "stream",
     "text": [
      "22\n"
     ]
    }
   ],
   "source": [
    "print(Hap)"
   ]
  },
  {
   "cell_type": "code",
   "execution_count": 43,
   "id": "af715583-5f03-4dd4-bb93-5dc13ef88479",
   "metadata": {},
   "outputs": [
    {
     "name": "stdout",
     "output_type": "stream",
     "text": [
      "34.434\n"
     ]
    }
   ],
   "source": [
    "print(b)"
   ]
  },
  {
   "cell_type": "code",
   "execution_count": 44,
   "id": "47d7671c-c3d4-45bf-9972-68be59f04905",
   "metadata": {},
   "outputs": [
    {
     "name": "stdout",
     "output_type": "stream",
     "text": [
      "343.79574857\n"
     ]
    }
   ],
   "source": [
    "print(c)"
   ]
  },
  {
   "cell_type": "code",
   "execution_count": 45,
   "id": "12aa7060-0434-4211-8f3c-04da69676803",
   "metadata": {},
   "outputs": [
    {
     "name": "stdout",
     "output_type": "stream",
     "text": [
      "Happy Chauhan\n"
     ]
    }
   ],
   "source": [
    "print(d)"
   ]
  },
  {
   "cell_type": "code",
   "execution_count": 46,
   "id": "49b9b94d-9d8e-43fb-8a61-961e43c24cc5",
   "metadata": {},
   "outputs": [
    {
     "name": "stdout",
     "output_type": "stream",
     "text": [
      "This is my first Data Science class\n"
     ]
    }
   ],
   "source": [
    "print(e)"
   ]
  },
  {
   "cell_type": "code",
   "execution_count": 47,
   "id": "7af8faff-0274-4d98-9567-4cdf6f358bb4",
   "metadata": {},
   "outputs": [
    {
     "name": "stdout",
     "output_type": "stream",
     "text": [
      "True\n"
     ]
    }
   ],
   "source": [
    "print(f)"
   ]
  },
  {
   "cell_type": "code",
   "execution_count": 48,
   "id": "06a6cd13-e2e5-450d-911c-e5155c2c05c1",
   "metadata": {},
   "outputs": [
    {
     "name": "stdout",
     "output_type": "stream",
     "text": [
      "False\n"
     ]
    }
   ],
   "source": [
    "print(g)"
   ]
  },
  {
   "cell_type": "code",
   "execution_count": 49,
   "id": "309d2c9c-a747-47d1-8591-6f2edff1e91e",
   "metadata": {},
   "outputs": [
    {
     "name": "stdout",
     "output_type": "stream",
     "text": [
      "(48+4j)\n"
     ]
    }
   ],
   "source": [
    "print(h)"
   ]
  },
  {
   "cell_type": "code",
   "execution_count": 50,
   "id": "1ebcb733-0216-4b56-a062-fe82af97fe82",
   "metadata": {},
   "outputs": [
    {
     "data": {
      "text/plain": [
       "'t'"
      ]
     },
     "execution_count": 50,
     "metadata": {},
     "output_type": "execute_result"
    }
   ],
   "source": [
    "e[15]"
   ]
  },
  {
   "cell_type": "code",
   "execution_count": 51,
   "id": "3fdce72a-1a98-45b3-a7bd-ca6a41ca218a",
   "metadata": {},
   "outputs": [],
   "source": [
    "i = \"Happy\""
   ]
  },
  {
   "cell_type": "code",
   "execution_count": 52,
   "id": "5ef2f9c5-5756-47f4-b457-085fa2039db8",
   "metadata": {},
   "outputs": [
    {
     "data": {
      "text/plain": [
       "'a'"
      ]
     },
     "execution_count": 52,
     "metadata": {},
     "output_type": "execute_result"
    }
   ],
   "source": [
    "i[-4]\n",
    "#this is backward indexing"
   ]
  },
  {
   "cell_type": "code",
   "execution_count": 53,
   "id": "5b29c4b3-dd6c-4858-8f4b-7bd131b91769",
   "metadata": {},
   "outputs": [
    {
     "data": {
      "text/plain": [
       "'a'"
      ]
     },
     "execution_count": 53,
     "metadata": {},
     "output_type": "execute_result"
    }
   ],
   "source": [
    "i[1]\n",
    "#this is called forward indexing"
   ]
  },
  {
   "cell_type": "code",
   "execution_count": 54,
   "id": "3a609f7b-c180-452a-a81f-104a75b83b7a",
   "metadata": {},
   "outputs": [
    {
     "data": {
      "text/plain": [
       "'Hap'"
      ]
     },
     "execution_count": 54,
     "metadata": {},
     "output_type": "execute_result"
    }
   ],
   "source": [
    "i[0:3]\n",
    "#This is called slicing\n",
    "#in slicing data is given not until 3 but all lower than 3\n",
    "#it will always give the data of upperbound - 1"
   ]
  },
  {
   "cell_type": "code",
   "execution_count": 55,
   "id": "0504edfc-f5ea-44f1-8aa0-8f5ee97fda7f",
   "metadata": {},
   "outputs": [
    {
     "data": {
      "text/plain": [
       "'Hpy'"
      ]
     },
     "execution_count": 55,
     "metadata": {},
     "output_type": "execute_result"
    }
   ],
   "source": [
    "i[0:6:2]"
   ]
  },
  {
   "cell_type": "code",
   "execution_count": 56,
   "id": "90bed2dd-4edf-41d0-b8af-b1b4f31414da",
   "metadata": {},
   "outputs": [
    {
     "data": {
      "text/plain": [
       "'Hpy'"
      ]
     },
     "execution_count": 56,
     "metadata": {},
     "output_type": "execute_result"
    }
   ],
   "source": [
    "i[::2]"
   ]
  },
  {
   "cell_type": "code",
   "execution_count": 57,
   "id": "bd42d7ef-791a-48c3-80ac-f1567fb66178",
   "metadata": {},
   "outputs": [
    {
     "data": {
      "text/plain": [
       "'yppaH'"
      ]
     },
     "execution_count": 57,
     "metadata": {},
     "output_type": "execute_result"
    }
   ],
   "source": [
    "i[::-1]"
   ]
  },
  {
   "cell_type": "code",
   "execution_count": 58,
   "id": "c6dfb7d4-ae43-4f6c-9757-e8173f0fed21",
   "metadata": {},
   "outputs": [
    {
     "data": {
      "text/plain": [
       "''"
      ]
     },
     "execution_count": 58,
     "metadata": {},
     "output_type": "execute_result"
    }
   ],
   "source": [
    "i[0:6:-1]"
   ]
  },
  {
   "cell_type": "code",
   "execution_count": 59,
   "id": "4da4bf0a-8645-4b70-b8dc-bc0317f72037",
   "metadata": {},
   "outputs": [
    {
     "data": {
      "text/plain": [
       "'yppa'"
      ]
     },
     "execution_count": 59,
     "metadata": {},
     "output_type": "execute_result"
    }
   ],
   "source": [
    "i[6:0:-1]"
   ]
  },
  {
   "cell_type": "code",
   "execution_count": 60,
   "id": "d88baf16-7ab9-428c-9993-613e6c9df828",
   "metadata": {},
   "outputs": [
    {
     "data": {
      "text/plain": [
       "''"
      ]
     },
     "execution_count": 60,
     "metadata": {},
     "output_type": "execute_result"
    }
   ],
   "source": [
    "i[6:0]"
   ]
  },
  {
   "cell_type": "code",
   "execution_count": 61,
   "id": "527e6d1d-d84a-415a-8d90-4a2489f00671",
   "metadata": {},
   "outputs": [
    {
     "data": {
      "text/plain": [
       "4.0"
      ]
     },
     "execution_count": 61,
     "metadata": {},
     "output_type": "execute_result"
    }
   ],
   "source": [
    "h.imag\n",
    "#if we want to extract the imaginary number from any complex number than we can call variable\n",
    "#then . and then finally tab then the list will apper the select imag \n",
    "#and it will give the imaginary number present in the variable"
   ]
  },
  {
   "cell_type": "code",
   "execution_count": 62,
   "id": "efbd4982-d53b-4545-8379-541096bbf0f0",
   "metadata": {},
   "outputs": [],
   "source": [
    "j = \"Malayalam\""
   ]
  },
  {
   "cell_type": "code",
   "execution_count": 63,
   "id": "a695ada1-3506-4d47-a639-74272223df00",
   "metadata": {},
   "outputs": [
    {
     "data": {
      "text/plain": [
       "'Malayalam'"
      ]
     },
     "execution_count": 63,
     "metadata": {},
     "output_type": "execute_result"
    }
   ],
   "source": [
    "j[::1]"
   ]
  },
  {
   "cell_type": "code",
   "execution_count": 64,
   "id": "31924863-f7db-4d49-8ea4-57f0ff0e13a6",
   "metadata": {},
   "outputs": [
    {
     "data": {
      "text/plain": [
       "'Malayalam'"
      ]
     },
     "execution_count": 64,
     "metadata": {},
     "output_type": "execute_result"
    }
   ],
   "source": [
    "j[0:10]"
   ]
  },
  {
   "cell_type": "code",
   "execution_count": 65,
   "id": "bceb746f-926a-44a7-9fa8-e1408f4d5b12",
   "metadata": {},
   "outputs": [
    {
     "data": {
      "text/plain": [
       "'malayala'"
      ]
     },
     "execution_count": 65,
     "metadata": {},
     "output_type": "execute_result"
    }
   ],
   "source": [
    "j[-1:-9:-1]"
   ]
  },
  {
   "cell_type": "code",
   "execution_count": 66,
   "id": "8d976a7d-16df-4292-ad17-b9c07ca5eeff",
   "metadata": {},
   "outputs": [
    {
     "data": {
      "text/plain": [
       "'malayalaM'"
      ]
     },
     "execution_count": 66,
     "metadata": {},
     "output_type": "execute_result"
    }
   ],
   "source": [
    "j[-1::-1]"
   ]
  },
  {
   "cell_type": "code",
   "execution_count": 67,
   "id": "03e56231-a1d0-4e3f-b825-af315bc019e6",
   "metadata": {},
   "outputs": [
    {
     "data": {
      "text/plain": [
       "'malayalaM'"
      ]
     },
     "execution_count": 67,
     "metadata": {},
     "output_type": "execute_result"
    }
   ],
   "source": [
    "j[::-1]"
   ]
  },
  {
   "cell_type": "code",
   "execution_count": 68,
   "id": "ea90f760-a608-4654-925c-1d925df839f8",
   "metadata": {},
   "outputs": [
    {
     "data": {
      "text/plain": [
       "'yppaH'"
      ]
     },
     "execution_count": 68,
     "metadata": {},
     "output_type": "execute_result"
    }
   ],
   "source": [
    "i[::-1]"
   ]
  },
  {
   "cell_type": "code",
   "execution_count": 69,
   "id": "165b65a7-5e39-4e35-8b14-93f49b125693",
   "metadata": {},
   "outputs": [
    {
     "data": {
      "text/plain": [
       "'yppaH'"
      ]
     },
     "execution_count": 69,
     "metadata": {},
     "output_type": "execute_result"
    }
   ],
   "source": [
    "i[-1:-6:-1]"
   ]
  },
  {
   "cell_type": "code",
   "execution_count": 70,
   "id": "e4127657-a26c-4e8f-a090-2444c286d558",
   "metadata": {},
   "outputs": [
    {
     "data": {
      "text/plain": [
       "5"
      ]
     },
     "execution_count": 70,
     "metadata": {},
     "output_type": "execute_result"
    }
   ],
   "source": [
    "len(i)"
   ]
  },
  {
   "cell_type": "code",
   "execution_count": 71,
   "id": "9c07528c-4a5d-48bd-a9e8-720a72ae5a3b",
   "metadata": {},
   "outputs": [
    {
     "data": {
      "text/plain": [
       "9"
      ]
     },
     "execution_count": 71,
     "metadata": {},
     "output_type": "execute_result"
    }
   ],
   "source": [
    "len(j)"
   ]
  },
  {
   "cell_type": "code",
   "execution_count": 72,
   "id": "06c40146-16dd-4c20-b740-832b35a8f165",
   "metadata": {},
   "outputs": [
    {
     "data": {
      "text/plain": [
       "2"
      ]
     },
     "execution_count": 72,
     "metadata": {},
     "output_type": "execute_result"
    }
   ],
   "source": [
    "i.find('p')\n",
    "#it is used to find the number of the characters available in the string and to find a certain character \n",
    "#inside a string"
   ]
  },
  {
   "cell_type": "code",
   "execution_count": 73,
   "id": "8f94335b-54f6-414c-a6d3-e44630d4bf52",
   "metadata": {},
   "outputs": [
    {
     "data": {
      "text/plain": [
       "1"
      ]
     },
     "execution_count": 73,
     "metadata": {},
     "output_type": "execute_result"
    }
   ],
   "source": [
    "i.find(\"ap\")"
   ]
  },
  {
   "cell_type": "code",
   "execution_count": 74,
   "id": "f981ec0a-5bf3-4cd5-8d2b-34d8ce016c8b",
   "metadata": {},
   "outputs": [
    {
     "data": {
      "text/plain": [
       "-1"
      ]
     },
     "execution_count": 74,
     "metadata": {},
     "output_type": "execute_result"
    }
   ],
   "source": [
    "i.find(\"ha\")\n",
    "#if it can't find the specific type of thing that you are searching then it is goiing to give -1 "
   ]
  },
  {
   "cell_type": "code",
   "execution_count": 75,
   "id": "471fc2d1-4adf-48f0-ba74-0c5724238f36",
   "metadata": {},
   "outputs": [
    {
     "data": {
      "text/plain": [
       "-1"
      ]
     },
     "execution_count": 75,
     "metadata": {},
     "output_type": "execute_result"
    }
   ],
   "source": [
    "i.find(\"c\")"
   ]
  },
  {
   "cell_type": "code",
   "execution_count": 76,
   "id": "41fa52f5-d8bd-42fa-a043-1f430b3b5213",
   "metadata": {},
   "outputs": [
    {
     "data": {
      "text/plain": [
       "2"
      ]
     },
     "execution_count": 76,
     "metadata": {},
     "output_type": "execute_result"
    }
   ],
   "source": [
    "i.count(\"p\")"
   ]
  },
  {
   "cell_type": "code",
   "execution_count": 78,
   "id": "538ee627-4133-45a2-99f2-931781420652",
   "metadata": {},
   "outputs": [
    {
     "data": {
      "text/plain": [
       "0"
      ]
     },
     "execution_count": 78,
     "metadata": {},
     "output_type": "execute_result"
    }
   ],
   "source": [
    "i.count(\"ch\")\n",
    "#if in count character can't be found then it is going to show 0 as a result"
   ]
  },
  {
   "cell_type": "code",
   "execution_count": 79,
   "id": "831ff822-fd41-4c76-b607-7d1558b58e2b",
   "metadata": {},
   "outputs": [
    {
     "data": {
      "text/plain": [
       "'Happy'"
      ]
     },
     "execution_count": 79,
     "metadata": {},
     "output_type": "execute_result"
    }
   ],
   "source": [
    "i"
   ]
  },
  {
   "cell_type": "code",
   "execution_count": 80,
   "id": "b3e46fd1-95ba-49ae-a720-2cf5fb61a079",
   "metadata": {},
   "outputs": [
    {
     "data": {
      "text/plain": [
       "'HAPPY'"
      ]
     },
     "execution_count": 80,
     "metadata": {},
     "output_type": "execute_result"
    }
   ],
   "source": [
    "i.upper()"
   ]
  },
  {
   "cell_type": "code",
   "execution_count": 81,
   "id": "88439d3d-d7f4-4d45-9821-d4e449327903",
   "metadata": {},
   "outputs": [],
   "source": [
    "k = \"HAPPY CHAUHAN\""
   ]
  },
  {
   "cell_type": "code",
   "execution_count": 82,
   "id": "b6de7fe2-501b-432f-b440-35663e95601d",
   "metadata": {},
   "outputs": [
    {
     "data": {
      "text/plain": [
       "'happy chauhan'"
      ]
     },
     "execution_count": 82,
     "metadata": {},
     "output_type": "execute_result"
    }
   ],
   "source": [
    "k.lower()"
   ]
  },
  {
   "cell_type": "code",
   "execution_count": 83,
   "id": "844ddb75-1f4f-4481-9edc-82e7f27c37c4",
   "metadata": {},
   "outputs": [
    {
     "data": {
      "text/plain": [
       "'Happy Chauhan'"
      ]
     },
     "execution_count": 83,
     "metadata": {},
     "output_type": "execute_result"
    }
   ],
   "source": [
    "k.title()"
   ]
  },
  {
   "cell_type": "code",
   "execution_count": 84,
   "id": "8d3c5061-6e71-4ee9-8c7c-8f67e223ed5d",
   "metadata": {},
   "outputs": [
    {
     "data": {
      "text/plain": [
       "'Happy chauhan'"
      ]
     },
     "execution_count": 84,
     "metadata": {},
     "output_type": "execute_result"
    }
   ],
   "source": [
    "k.capitalize()"
   ]
  },
  {
   "cell_type": "code",
   "execution_count": 85,
   "id": "7d9a1988-cd1f-46e0-807a-eb61539b57ee",
   "metadata": {},
   "outputs": [
    {
     "ename": "TypeError",
     "evalue": "can only concatenate str (not \"int\") to str",
     "output_type": "error",
     "traceback": [
      "\u001b[0;31m---------------------------------------------------------------------------\u001b[0m",
      "\u001b[0;31mTypeError\u001b[0m                                 Traceback (most recent call last)",
      "Cell \u001b[0;32mIn[85], line 1\u001b[0m\n\u001b[0;32m----> 1\u001b[0m \u001b[43mk\u001b[49m\u001b[38;5;241;43m+\u001b[39;49m\u001b[38;5;241;43m1\u001b[39;49m\n",
      "\u001b[0;31mTypeError\u001b[0m: can only concatenate str (not \"int\") to str"
     ]
    }
   ],
   "source": [
    "k+1"
   ]
  },
  {
   "cell_type": "code",
   "execution_count": 86,
   "id": "be3629bb-be3e-4437-9d5e-1e92a2a29d4e",
   "metadata": {},
   "outputs": [
    {
     "ename": "TypeError",
     "evalue": "can only concatenate str (not \"int\") to str",
     "output_type": "error",
     "traceback": [
      "\u001b[0;31m---------------------------------------------------------------------------\u001b[0m",
      "\u001b[0;31mTypeError\u001b[0m                                 Traceback (most recent call last)",
      "Cell \u001b[0;32mIn[86], line 1\u001b[0m\n\u001b[0;32m----> 1\u001b[0m \u001b[43mi\u001b[49m\u001b[38;5;241;43m+\u001b[39;49m\u001b[38;5;241;43m1\u001b[39;49m\n",
      "\u001b[0;31mTypeError\u001b[0m: can only concatenate str (not \"int\") to str"
     ]
    }
   ],
   "source": [
    "i+1"
   ]
  },
  {
   "cell_type": "code",
   "execution_count": 87,
   "id": "44a49efe-8391-4cd0-9d19-f0b4a002465a",
   "metadata": {},
   "outputs": [
    {
     "data": {
      "text/plain": [
       "'Happy Chauhan'"
      ]
     },
     "execution_count": 87,
     "metadata": {},
     "output_type": "execute_result"
    }
   ],
   "source": [
    "i + \" Chauhan\""
   ]
  },
  {
   "cell_type": "code",
   "execution_count": 88,
   "id": "745e7d75-3e27-4325-817d-dcfdac3091a5",
   "metadata": {},
   "outputs": [
    {
     "data": {
      "text/plain": [
       "'Happy1902'"
      ]
     },
     "execution_count": 88,
     "metadata": {},
     "output_type": "execute_result"
    }
   ],
   "source": [
    "i + str(\"1902\")"
   ]
  },
  {
   "cell_type": "code",
   "execution_count": 89,
   "id": "3d5f5857-ab03-4170-ba87-168800f6d642",
   "metadata": {},
   "outputs": [
    {
     "data": {
      "text/plain": [
       "'HAPPY CHAUHAN1902'"
      ]
     },
     "execution_count": 89,
     "metadata": {},
     "output_type": "execute_result"
    }
   ],
   "source": [
    "k + str(\"1902\")"
   ]
  },
  {
   "cell_type": "code",
   "execution_count": 90,
   "id": "3862032f-1844-4c45-873d-795e7a1d9e26",
   "metadata": {},
   "outputs": [
    {
     "data": {
      "text/plain": [
       "'HAPPY CHAUHAN 1902'"
      ]
     },
     "execution_count": 90,
     "metadata": {},
     "output_type": "execute_result"
    }
   ],
   "source": [
    "k + str(\" 1902\")"
   ]
  },
  {
   "cell_type": "code",
   "execution_count": 91,
   "id": "3859d18d-f6c0-46ac-b557-eb783c5958c8",
   "metadata": {},
   "outputs": [
    {
     "data": {
      "text/plain": [
       "'HAPPY CHAUHAN1902'"
      ]
     },
     "execution_count": 91,
     "metadata": {},
     "output_type": "execute_result"
    }
   ],
   "source": [
    "k + str( 1902)"
   ]
  },
  {
   "cell_type": "code",
   "execution_count": 92,
   "id": "7bb25674-b391-4d00-8664-c04d24b681ba",
   "metadata": {},
   "outputs": [
    {
     "data": {
      "text/plain": [
       "'HAPPY CHAUHANHAPPY CHAUHANHAPPY CHAUHANHAPPY CHAUHANHAPPY CHAUHAN'"
      ]
     },
     "execution_count": 92,
     "metadata": {},
     "output_type": "execute_result"
    }
   ],
   "source": [
    "k*5"
   ]
  },
  {
   "cell_type": "code",
   "execution_count": 93,
   "id": "f0a34dcd-ebf7-4222-b12b-68261aa9c7fb",
   "metadata": {},
   "outputs": [
    {
     "ename": "TypeError",
     "evalue": "unsupported operand type(s) for /: 'str' and 'int'",
     "output_type": "error",
     "traceback": [
      "\u001b[0;31m---------------------------------------------------------------------------\u001b[0m",
      "\u001b[0;31mTypeError\u001b[0m                                 Traceback (most recent call last)",
      "Cell \u001b[0;32mIn[93], line 1\u001b[0m\n\u001b[0;32m----> 1\u001b[0m \u001b[43mk\u001b[49m\u001b[38;5;241;43m/\u001b[39;49m\u001b[38;5;241;43m4\u001b[39;49m\n",
      "\u001b[0;31mTypeError\u001b[0m: unsupported operand type(s) for /: 'str' and 'int'"
     ]
    }
   ],
   "source": [
    "k/4"
   ]
  },
  {
   "cell_type": "code",
   "execution_count": 94,
   "id": "60279d61-2660-4ae1-a6f2-3393cfbd06e5",
   "metadata": {},
   "outputs": [],
   "source": [
    "# fjksefjehefl\n",
    "# sjfksehkf\n",
    "# hsjfhsehf\n",
    "# fjksekejhfkse\n",
    "# lkfhslesf\n",
    "# hlkfhlse\n",
    "# fnkhekfh"
   ]
  },
  {
   "cell_type": "code",
   "execution_count": 95,
   "id": "0f984b2f-9ad8-4033-9973-f00c624bc303",
   "metadata": {},
   "outputs": [],
   "source": [
    "# use \"Ctrl + back slash\" to add a hash before a sentence "
   ]
  },
  {
   "cell_type": "code",
   "execution_count": null,
   "id": "3b4593b0-f3d3-4b08-94f4-14a16c703a2e",
   "metadata": {},
   "outputs": [],
   "source": []
  }
 ],
 "metadata": {
  "kernelspec": {
   "display_name": "Python 3 (ipykernel)",
   "language": "python",
   "name": "python3"
  },
  "language_info": {
   "codemirror_mode": {
    "name": "ipython",
    "version": 3
   },
   "file_extension": ".py",
   "mimetype": "text/x-python",
   "name": "python",
   "nbconvert_exporter": "python",
   "pygments_lexer": "ipython3",
   "version": "3.10.8"
  }
 },
 "nbformat": 4,
 "nbformat_minor": 5
}
