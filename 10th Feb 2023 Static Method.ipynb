{
 "cells": [
  {
   "cell_type": "code",
   "execution_count": 1,
   "id": "9967f561-dd6a-4b7f-8592-0ff72cca4ab7",
   "metadata": {},
   "outputs": [],
   "source": [
    "class Data_Science:\n",
    "    def Student_Details(self, Name, Mail_ID, Phone_Number):\n",
    "        print(Name, Mail_ID, Phone_Number)"
   ]
  },
  {
   "cell_type": "code",
   "execution_count": 2,
   "id": "b8befdbb-eff8-4806-b24a-6e47e3d33399",
   "metadata": {},
   "outputs": [],
   "source": [
    "DS = Data_Science()"
   ]
  },
  {
   "cell_type": "code",
   "execution_count": 3,
   "id": "83b1b7cd-1818-4b5d-b2ea-24b47e3f77b3",
   "metadata": {},
   "outputs": [
    {
     "name": "stdout",
     "output_type": "stream",
     "text": [
      "Happy Chauhan 19happychauhan19@gmail.com 7011535418\n"
     ]
    }
   ],
   "source": [
    "DS.Student_Details(\"Happy Chauhan\", \"19happychauhan19@gmail.com\", 7011535418)"
   ]
  },
  {
   "cell_type": "markdown",
   "id": "f26328a8-8f27-4caa-9091-5a22285a2eca",
   "metadata": {},
   "source": [
    "To make a function without creating a object."
   ]
  },
  {
   "cell_type": "code",
   "execution_count": 6,
   "id": "f09a497d-11c8-467a-8fa5-0cd7cda0f933",
   "metadata": {},
   "outputs": [],
   "source": [
    "class Data_Science1:\n",
    "    def Student_Details(self, Name, Mail_ID, Phone_Number):\n",
    "        print(Name, Mail_ID, Phone_Number)\n",
    "    \n",
    "    @staticmethod\n",
    "    def Subjects(List_Mentor):\n",
    "        print(List_Mentor)"
   ]
  },
  {
   "cell_type": "code",
   "execution_count": 7,
   "id": "c925098a-5488-490e-8d6d-c5b2315395bd",
   "metadata": {},
   "outputs": [
    {
     "name": "stdout",
     "output_type": "stream",
     "text": [
      "['Big Data', 'Machine Learning', 'Data Analytics', 'Power BI']\n"
     ]
    }
   ],
   "source": [
    "Data_Science1.Subjects([\"Big Data\",\"Machine Learning\", \"Data Analytics\", \"Power BI\"])"
   ]
  },
  {
   "cell_type": "markdown",
   "id": "b1548e31-1a86-45ce-babc-7f0635f546c6",
   "metadata": {},
   "source": [
    "It is going to show same subject in every Student Details"
   ]
  },
  {
   "cell_type": "code",
   "execution_count": 8,
   "id": "6226aff7-0a61-4da8-a384-39c9c7fb7cf1",
   "metadata": {},
   "outputs": [],
   "source": [
    "Student1 = Data_Science()"
   ]
  },
  {
   "cell_type": "code",
   "execution_count": 9,
   "id": "20d38df0-c6a4-4c0e-982e-907ff03f2ce7",
   "metadata": {},
   "outputs": [],
   "source": [
    "Student2 = Data_Science()"
   ]
  },
  {
   "cell_type": "code",
   "execution_count": 10,
   "id": "6b22a6b7-a49a-44af-a91b-813aa2a2cd36",
   "metadata": {},
   "outputs": [],
   "source": [
    "Student3 = Data_Science()"
   ]
  },
  {
   "cell_type": "markdown",
   "id": "95d9a1e2-6b4a-4bfb-bb85-22f7697e01c0",
   "metadata": {},
   "source": [
    "These are to make Objects for different Students"
   ]
  },
  {
   "cell_type": "code",
   "execution_count": 17,
   "id": "1e8ff5c4-1475-4e8b-b58e-b1601282c60d",
   "metadata": {},
   "outputs": [],
   "source": [
    "class Data_Science2:\n",
    "    def Student_Details(self, Name, Mail_ID, Phone_Number):\n",
    "        print(Name, Mail_ID, Phone_Number)\n",
    "        \n",
    "    @staticmethod\n",
    "    def Subjects(List_Subjects):\n",
    "        print(List_Subjects)\n",
    "    \n",
    "    @classmethod\n",
    "    def Class_Name(cls):\n",
    "        cls.Subjects([\"Big Data\", \"Data Analytics\", \"Power BI\", \"Machine Learning\"])\n",
    "        \n",
    "    def Subjects1(Subject_List):\n",
    "        print(Subject_List)"
   ]
  },
  {
   "cell_type": "code",
   "execution_count": 18,
   "id": "3e4faac0-d209-4e3a-b338-c1b1e4b79538",
   "metadata": {},
   "outputs": [
    {
     "name": "stdout",
     "output_type": "stream",
     "text": [
      "['Big Data', 'Data Analytics', 'Power BI', 'Machine Learning']\n"
     ]
    }
   ],
   "source": [
    "Data_Science2.Class_Name()"
   ]
  },
  {
   "cell_type": "code",
   "execution_count": 13,
   "id": "8ffc0522-2f47-4bbc-8f1a-e3646a86280d",
   "metadata": {},
   "outputs": [],
   "source": [
    "class Data_Science2:\n",
    "    def Student_Details(self, Name, Mail_ID, Phone_Number):\n",
    "        print(Name, Mail_ID, Phone_Number)\n",
    "        \n",
    "    @staticmethod\n",
    "    def Subjects(List_Subjects):\n",
    "        print(List_Subjects)\n",
    "    @staticmethod\n",
    "    def Subject_Code(Code_of_Subject):\n",
    "        Data_Science2.Subjects([\"Big Data\", \"Data Analytics\", \"Power BI\", \"Machine Learning\"])\n",
    "        print(Code_of_Subject)\n",
    "    \n",
    "    @classmethod\n",
    "    def Class_Name(cls):\n",
    "        cls.Subjects([\"Big Data\", \"Data Analytics\", \"Power BI\", \"Machine Learning\"])\n",
    "        \n",
    "    def Subjects1(self, Subject_List):\n",
    "        print(Subject_List)\n",
    "        self.Subject_Code([234324,2342324,5564574,141242])"
   ]
  },
  {
   "cell_type": "code",
   "execution_count": 14,
   "id": "95d31344-2974-44e3-8f2c-212c6f8b6a4d",
   "metadata": {},
   "outputs": [
    {
     "name": "stdout",
     "output_type": "stream",
     "text": [
      "['Big Data', 'Data Analytics', 'Power BI', 'Machine Learning']\n",
      "[5487478, 45698, 48948977, 564877]\n"
     ]
    }
   ],
   "source": [
    "Data_Science2.Subject_Code([5487478,45698,48948977,564877])"
   ]
  },
  {
   "cell_type": "code",
   "execution_count": 15,
   "id": "dd7c9fe7-9d6e-4cff-b35d-08e54e914082",
   "metadata": {},
   "outputs": [],
   "source": [
    "name = Data_Science2()"
   ]
  },
  {
   "cell_type": "code",
   "execution_count": 16,
   "id": "e9106296-b0b4-41d4-936e-8532893fbec1",
   "metadata": {},
   "outputs": [
    {
     "name": "stdout",
     "output_type": "stream",
     "text": [
      "['Big Data', 'Data Analytics', 'Power BI', 'Machine Learning']\n",
      "['Big Data', 'Data Analytics', 'Power BI', 'Machine Learning']\n",
      "[234324, 2342324, 5564574, 141242]\n"
     ]
    }
   ],
   "source": [
    "name.Subjects1([\"Big Data\", \"Data Analytics\", \"Power BI\", \"Machine Learning\"])"
   ]
  },
  {
   "cell_type": "code",
   "execution_count": null,
   "id": "8526c278-efbe-4041-9bef-33da664b0705",
   "metadata": {},
   "outputs": [],
   "source": []
  }
 ],
 "metadata": {
  "kernelspec": {
   "display_name": "Python 3 (ipykernel)",
   "language": "python",
   "name": "python3"
  },
  "language_info": {
   "codemirror_mode": {
    "name": "ipython",
    "version": 3
   },
   "file_extension": ".py",
   "mimetype": "text/x-python",
   "name": "python",
   "nbconvert_exporter": "python",
   "pygments_lexer": "ipython3",
   "version": "3.10.8"
  }
 },
 "nbformat": 4,
 "nbformat_minor": 5
}
