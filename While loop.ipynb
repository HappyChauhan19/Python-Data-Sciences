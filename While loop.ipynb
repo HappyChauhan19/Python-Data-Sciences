{
 "cells": [
  {
   "cell_type": "code",
   "execution_count": 1,
   "id": "0c32330b-c6c0-4f99-b7a0-c5efb979b7b2",
   "metadata": {},
   "outputs": [
    {
     "name": "stdout",
     "output_type": "stream",
     "text": [
      "1\n",
      "2\n",
      "3\n",
      "4\n",
      "5\n",
      "6\n",
      "7\n",
      "8\n",
      "9\n",
      "10\n",
      "11\n",
      "12\n",
      "13\n",
      "14\n",
      "15\n"
     ]
    }
   ],
   "source": [
    "Now = 1\n",
    "while Now <= 15:\n",
    "    print(Now)\n",
    "    Now = Now +1"
   ]
  },
  {
   "cell_type": "code",
   "execution_count": 2,
   "id": "684e118e-b060-4a80-898e-27e6b142e611",
   "metadata": {},
   "outputs": [
    {
     "name": "stdout",
     "output_type": "stream",
     "text": [
      "0\n",
      "3\n",
      "6\n",
      "9\n",
      "12\n",
      "15\n",
      "18\n",
      "21\n",
      "24\n",
      "27\n",
      "30\n",
      "33\n",
      "36\n",
      "39\n",
      "42\n",
      "45\n"
     ]
    }
   ],
   "source": [
    "then = 0\n",
    "while then <= 45:\n",
    "    print(then)\n",
    "    then = then + 3"
   ]
  },
  {
   "cell_type": "code",
   "execution_count": 3,
   "id": "6290ea8f-7f50-4bd1-b62f-9b23ffe55469",
   "metadata": {},
   "outputs": [],
   "source": [
    "# sum up the number till some point"
   ]
  },
  {
   "cell_type": "code",
   "execution_count": 4,
   "id": "d2620cc9-8410-426b-9690-4f27b5db29ef",
   "metadata": {},
   "outputs": [
    {
     "name": "stdin",
     "output_type": "stream",
     "text": [
      "Enter your limit  15\n"
     ]
    },
    {
     "data": {
      "text/plain": [
       "120"
      ]
     },
     "execution_count": 4,
     "metadata": {},
     "output_type": "execute_result"
    }
   ],
   "source": [
    "Number = int(input(\"Enter your limit \"))\n",
    "starting_point = 0\n",
    "counter = 1\n",
    "while counter <= Number:\n",
    "    starting_point = starting_point + counter \n",
    "    counter = counter +1\n",
    "starting_point"
   ]
  },
  {
   "cell_type": "code",
   "execution_count": 6,
   "id": "fcfa9556-d0b4-4adb-9a30-877265d9285b",
   "metadata": {},
   "outputs": [
    {
     "name": "stdin",
     "output_type": "stream",
     "text": [
      "Enter your number  45\n"
     ]
    },
    {
     "data": {
      "text/plain": [
       "119622220865480194561963161495657715064383733760000000000"
      ]
     },
     "execution_count": 6,
     "metadata": {},
     "output_type": "execute_result"
    }
   ],
   "source": [
    "number = int(input(\"Enter your number \"))\n",
    "factorial = 1\n",
    "while number > 0 :\n",
    "    factorial = factorial * number\n",
    "    number = number - 1\n",
    "factorial"
   ]
  },
  {
   "cell_type": "code",
   "execution_count": 8,
   "id": "a0eb7e13-64b5-4919-986d-d5384c524e14",
   "metadata": {},
   "outputs": [],
   "source": [
    "# finonacci series = it is a series in which there are sum of the previous 2 numbers"
   ]
  },
  {
   "cell_type": "code",
   "execution_count": 9,
   "id": "3276164d-4c07-4e85-8b84-b70b240f46d9",
   "metadata": {},
   "outputs": [
    {
     "name": "stdin",
     "output_type": "stream",
     "text": [
      "Enter the number you are looking for 15\n"
     ]
    },
    {
     "name": "stdout",
     "output_type": "stream",
     "text": [
      "0\n",
      "1\n",
      "1\n",
      "2\n",
      "3\n",
      "5\n",
      "8\n",
      "13\n",
      "21\n",
      "34\n",
      "55\n",
      "89\n",
      "144\n",
      "233\n",
      "377\n"
     ]
    }
   ],
   "source": [
    "user = int(input(\"Enter the number you are looking for\"))\n",
    "a , b = 0 , 1\n",
    "counter = 0 \n",
    "while counter < user :\n",
    "    print(a)\n",
    "    c = a+ b\n",
    "    a = b\n",
    "    b = c\n",
    "    counter= counter+ 1\n"
   ]
  },
  {
   "cell_type": "code",
   "execution_count": 10,
   "id": "bb4ee96c-3e39-43ef-9155-6429a3773cb9",
   "metadata": {},
   "outputs": [
    {
     "name": "stdin",
     "output_type": "stream",
     "text": [
      "Decide your number 10\n"
     ]
    },
    {
     "name": "stdout",
     "output_type": "stream",
     "text": [
      "610\n",
      "987\n",
      "1597\n",
      "2584\n",
      "4181\n",
      "6765\n",
      "10946\n",
      "17711\n",
      "28657\n",
      "46368\n"
     ]
    }
   ],
   "source": [
    "for i in range(int(input(\"Decide your number\"))):\n",
    "    print(a)\n",
    "    c = a + b\n",
    "    a = b\n",
    "    b = c"
   ]
  },
  {
   "cell_type": "code",
   "execution_count": 11,
   "id": "f2236ddf-2886-4d70-af9c-c811c27952b4",
   "metadata": {},
   "outputs": [
    {
     "name": "stdin",
     "output_type": "stream",
     "text": [
      "Decide your number 10\n"
     ]
    },
    {
     "name": "stdout",
     "output_type": "stream",
     "text": [
      "0\n",
      "1\n",
      "1\n",
      "2\n",
      "3\n",
      "5\n",
      "8\n",
      "13\n",
      "21\n",
      "34\n"
     ]
    }
   ],
   "source": [
    "a, b = 0,1\n",
    "for i in range(int(input(\"Decide your number\"))):\n",
    "    print(a)\n",
    "    c = a + b\n",
    "    a = b\n",
    "    b = c"
   ]
  },
  {
   "cell_type": "code",
   "execution_count": 12,
   "id": "86306695-74dd-457a-b39e-d0f5c940829b",
   "metadata": {},
   "outputs": [],
   "source": [
    "name = \"Happy Chauhan\""
   ]
  },
  {
   "cell_type": "code",
   "execution_count": 13,
   "id": "4913991f-f077-423a-a601-5d6b09801a95",
   "metadata": {},
   "outputs": [
    {
     "data": {
      "text/plain": [
       "'nahuahC yppaH'"
      ]
     },
     "execution_count": 13,
     "metadata": {},
     "output_type": "execute_result"
    }
   ],
   "source": [
    "name[::-1]"
   ]
  },
  {
   "cell_type": "code",
   "execution_count": 14,
   "id": "2b4293f5-0ab0-4bd4-be8e-4dfe361ec1a5",
   "metadata": {},
   "outputs": [
    {
     "name": "stdin",
     "output_type": "stream",
     "text": [
      "Enter the name you want to reverse Malayalam\n"
     ]
    },
    {
     "name": "stdout",
     "output_type": "stream",
     "text": [
      "malayalaM\n"
     ]
    }
   ],
   "source": [
    "names = input(\"Enter the name you want to reverse\")\n",
    "reverse = \"\"\n",
    "length = len(names)\n",
    "while length > 0 :\n",
    "    reverse = reverse + names[length - 1]\n",
    "    length = length -1 \n",
    "print(reverse)"
   ]
  },
  {
   "cell_type": "code",
   "execution_count": 15,
   "id": "76d79c1a-9bf3-4629-95cb-6f1414d2176e",
   "metadata": {},
   "outputs": [],
   "source": [
    "# table of numbers"
   ]
  },
  {
   "cell_type": "code",
   "execution_count": 16,
   "id": "cda3ee06-2c51-49b6-ae3e-045a0fc481ef",
   "metadata": {},
   "outputs": [
    {
     "name": "stdin",
     "output_type": "stream",
     "text": [
      "Enter the number for which you want table 5\n"
     ]
    },
    {
     "name": "stdout",
     "output_type": "stream",
     "text": [
      "5 * 1 = 5\n",
      "5 * 2 = 10\n",
      "5 * 3 = 15\n",
      "5 * 4 = 20\n",
      "5 * 5 = 25\n",
      "5 * 6 = 30\n",
      "5 * 7 = 35\n",
      "5 * 8 = 40\n",
      "5 * 9 = 45\n",
      "5 * 10 = 50\n"
     ]
    }
   ],
   "source": [
    "table = int(input(\"Enter the number for which you want table\"))\n",
    "i = 1\n",
    "while i <= 10:\n",
    "    result = table * i\n",
    "    print(table, \"*\", i, \"=\", result)\n",
    "    i = i + 1"
   ]
  },
  {
   "cell_type": "code",
   "execution_count": 17,
   "id": "955ea0f9-3fae-4333-b959-1cf54629e528",
   "metadata": {},
   "outputs": [
    {
     "name": "stdin",
     "output_type": "stream",
     "text": [
      "Enter the number for which you want table 19\n"
     ]
    },
    {
     "name": "stdout",
     "output_type": "stream",
     "text": [
      "19\n",
      "38\n",
      "57\n",
      "76\n",
      "95\n",
      "114\n",
      "133\n",
      "152\n",
      "171\n",
      "190\n"
     ]
    }
   ],
   "source": [
    "table = int(input(\"Enter the number for which you want table\"))\n",
    "i = 1\n",
    "while i <= 10:\n",
    "    result = table * i\n",
    "    print(result)\n",
    "    i = i + 1"
   ]
  },
  {
   "cell_type": "code",
   "execution_count": 18,
   "id": "4a7881fd-eda8-48e7-a806-bb9cb4df4408",
   "metadata": {},
   "outputs": [
    {
     "name": "stdout",
     "output_type": "stream",
     "text": [
      "1\n",
      "2\n",
      "3\n",
      "4\n",
      "Error 404\n"
     ]
    }
   ],
   "source": [
    "n = 5 \n",
    "i = 1\n",
    "while n > i :\n",
    "    print(i)\n",
    "    i = i + 1\n",
    "else :\n",
    "    print(\"Error 404\")"
   ]
  },
  {
   "cell_type": "code",
   "execution_count": null,
   "id": "ce19cf0e-4127-406b-9feb-823eb9141c81",
   "metadata": {},
   "outputs": [],
   "source": []
  }
 ],
 "metadata": {
  "kernelspec": {
   "display_name": "Python 3 (ipykernel)",
   "language": "python",
   "name": "python3"
  },
  "language_info": {
   "codemirror_mode": {
    "name": "ipython",
    "version": 3
   },
   "file_extension": ".py",
   "mimetype": "text/x-python",
   "name": "python",
   "nbconvert_exporter": "python",
   "pygments_lexer": "ipython3",
   "version": "3.10.8"
  }
 },
 "nbformat": 4,
 "nbformat_minor": 5
}
