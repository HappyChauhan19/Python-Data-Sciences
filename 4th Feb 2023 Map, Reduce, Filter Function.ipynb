{
 "cells": [
  {
   "cell_type": "code",
   "execution_count": 1,
   "id": "d6f4e66e-1e4d-4a16-8dad-4263c71ad4e3",
   "metadata": {},
   "outputs": [],
   "source": [
    "list1 = [1,2,3,4,5,6]"
   ]
  },
  {
   "cell_type": "code",
   "execution_count": 2,
   "id": "6f71e2f7-8ff4-458c-80a7-a55ee2d82ff9",
   "metadata": {},
   "outputs": [],
   "source": [
    "def dhoni(list1):\n",
    "    l1 = []\n",
    "    for i in list1:\n",
    "        l1.append(i**3)\n",
    "    return l1"
   ]
  },
  {
   "cell_type": "code",
   "execution_count": 3,
   "id": "7d2c5df6-8f08-4a74-841d-eb9c8064e18e",
   "metadata": {},
   "outputs": [
    {
     "data": {
      "text/plain": [
       "[1, 8, 27, 64, 125, 216]"
      ]
     },
     "execution_count": 3,
     "metadata": {},
     "output_type": "execute_result"
    }
   ],
   "source": [
    "dhoni(list1)"
   ]
  },
  {
   "cell_type": "code",
   "execution_count": 4,
   "id": "f9fb65f7-3a56-4656-897c-19f175533095",
   "metadata": {},
   "outputs": [],
   "source": [
    "def sq(x):\n",
    "    return x**2"
   ]
  },
  {
   "cell_type": "code",
   "execution_count": 8,
   "id": "a93751c5-cc9d-49ca-bdec-a4fccb64d931",
   "metadata": {},
   "outputs": [
    {
     "data": {
      "text/plain": [
       "[1, 4, 9, 16, 25, 36]"
      ]
     },
     "execution_count": 8,
     "metadata": {},
     "output_type": "execute_result"
    }
   ],
   "source": [
    "list(map(sq, list1))"
   ]
  },
  {
   "cell_type": "code",
   "execution_count": 9,
   "id": "d5ed4835-d364-45b9-85af-00cfd7001c32",
   "metadata": {},
   "outputs": [
    {
     "data": {
      "text/plain": [
       "[1, 8, 27, 64, 125, 216]"
      ]
     },
     "execution_count": 9,
     "metadata": {},
     "output_type": "execute_result"
    }
   ],
   "source": [
    "list(map(lambda x : x**3, list1))"
   ]
  },
  {
   "cell_type": "code",
   "execution_count": 10,
   "id": "c7aab768-1943-4130-9a18-225471b5bb50",
   "metadata": {},
   "outputs": [
    {
     "data": {
      "text/plain": [
       "[7, 9, 11, 13, 15]"
      ]
     },
     "execution_count": 10,
     "metadata": {},
     "output_type": "execute_result"
    }
   ],
   "source": [
    "p = [1,2,3,4,5]\n",
    "q = [6,7,8,9,10]\n",
    "list(map(lambda x, y : x + y, p, q))"
   ]
  },
  {
   "cell_type": "code",
   "execution_count": 11,
   "id": "a7f7a41c-33f9-4441-a3c8-c099d53efc90",
   "metadata": {},
   "outputs": [],
   "source": [
    "def add(x,y):\n",
    "    return x + y"
   ]
  },
  {
   "cell_type": "code",
   "execution_count": 13,
   "id": "e6d3ec74-a52c-4091-ad19-5e8d74673a00",
   "metadata": {},
   "outputs": [
    {
     "data": {
      "text/plain": [
       "[7, 9, 11, 13, 15]"
      ]
     },
     "execution_count": 13,
     "metadata": {},
     "output_type": "execute_result"
    }
   ],
   "source": [
    "list(map(add, p, q))"
   ]
  },
  {
   "cell_type": "code",
   "execution_count": 16,
   "id": "9c31990c-7a7a-4e69-9475-ec4dd3555e76",
   "metadata": {},
   "outputs": [
    {
     "data": {
      "text/plain": [
       "['H', 'A', 'P', 'P', 'Y', ' ', 'C', 'H', 'A', 'U', 'H', 'A', 'N']"
      ]
     },
     "execution_count": 16,
     "metadata": {},
     "output_type": "execute_result"
    }
   ],
   "source": [
    "h = \"Happy Chauhan\"\n",
    "list(map(lambda h : h.upper() , h))"
   ]
  },
  {
   "cell_type": "code",
   "execution_count": 17,
   "id": "1719be16-ac67-49e7-b14c-a53f4c7540b0",
   "metadata": {},
   "outputs": [],
   "source": [
    "from functools import reduce"
   ]
  },
  {
   "cell_type": "code",
   "execution_count": 19,
   "id": "1763c62a-238d-4a3c-9874-584dafc732fa",
   "metadata": {},
   "outputs": [
    {
     "data": {
      "text/plain": [
       "[1, 2, 3, 4, 5]"
      ]
     },
     "execution_count": 19,
     "metadata": {},
     "output_type": "execute_result"
    }
   ],
   "source": [
    "p"
   ]
  },
  {
   "cell_type": "code",
   "execution_count": 20,
   "id": "2901f48e-5040-4a37-802b-61a4dd6f66c2",
   "metadata": {},
   "outputs": [
    {
     "data": {
      "text/plain": [
       "[6, 7, 8, 9, 10]"
      ]
     },
     "execution_count": 20,
     "metadata": {},
     "output_type": "execute_result"
    }
   ],
   "source": [
    "q"
   ]
  },
  {
   "cell_type": "code",
   "execution_count": 23,
   "id": "0209e642-9638-4e7d-a52f-e4c3fb1ca8a5",
   "metadata": {},
   "outputs": [
    {
     "data": {
      "text/plain": [
       "55"
      ]
     },
     "execution_count": 23,
     "metadata": {},
     "output_type": "execute_result"
    }
   ],
   "source": [
    "reduce(lambda x, y : x + y , p + q)"
   ]
  },
  {
   "cell_type": "code",
   "execution_count": 24,
   "id": "49b6c70f-0e7c-4077-9b25-39975603d842",
   "metadata": {},
   "outputs": [
    {
     "data": {
      "text/plain": [
       "40"
      ]
     },
     "execution_count": 24,
     "metadata": {},
     "output_type": "execute_result"
    }
   ],
   "source": [
    "reduce(lambda x, y : x + y , q)"
   ]
  },
  {
   "cell_type": "code",
   "execution_count": 25,
   "id": "3ced00e7-95aa-4bec-b24b-c925b42f323c",
   "metadata": {},
   "outputs": [],
   "source": [
    "# in the reduce type of function we can introduce only 2 functions"
   ]
  },
  {
   "cell_type": "code",
   "execution_count": 26,
   "id": "e072fa1c-85d3-4435-8a62-a3d5bb5940d1",
   "metadata": {},
   "outputs": [
    {
     "data": {
      "text/plain": [
       "2"
      ]
     },
     "execution_count": 26,
     "metadata": {},
     "output_type": "execute_result"
    }
   ],
   "source": [
    "reduce(lambda x, y : x + y , [2])"
   ]
  },
  {
   "cell_type": "code",
   "execution_count": 27,
   "id": "9858c513-0aac-4962-afa2-7586aa3a2852",
   "metadata": {},
   "outputs": [
    {
     "data": {
      "text/plain": [
       "30240"
      ]
     },
     "execution_count": 27,
     "metadata": {},
     "output_type": "execute_result"
    }
   ],
   "source": [
    "reduce(lambda x, y : x*y , q)"
   ]
  },
  {
   "cell_type": "code",
   "execution_count": 29,
   "id": "e1698f9a-29bb-4888-b0ab-02944a31f0a8",
   "metadata": {},
   "outputs": [
    {
     "data": {
      "text/plain": [
       "10"
      ]
     },
     "execution_count": 29,
     "metadata": {},
     "output_type": "execute_result"
    }
   ],
   "source": [
    "reduce(lambda x, y : x if x > y else y, q)"
   ]
  },
  {
   "cell_type": "code",
   "execution_count": 30,
   "id": "06d83645-8f4c-4863-945f-4c89f39f29e2",
   "metadata": {},
   "outputs": [],
   "source": [
    "                                                # filter"
   ]
  },
  {
   "cell_type": "code",
   "execution_count": 31,
   "id": "e8cb6a7e-71f8-4b01-ae07-46fbff877068",
   "metadata": {},
   "outputs": [
    {
     "data": {
      "text/plain": [
       "[6, 8, 10]"
      ]
     },
     "execution_count": 31,
     "metadata": {},
     "output_type": "execute_result"
    }
   ],
   "source": [
    "list(filter(lambda x : x % 2 == 0, q))"
   ]
  },
  {
   "cell_type": "code",
   "execution_count": 32,
   "id": "0e3b5e8c-0f52-4cf6-936c-fee237c91e14",
   "metadata": {},
   "outputs": [
    {
     "data": {
      "text/plain": [
       "[2, 4]"
      ]
     },
     "execution_count": 32,
     "metadata": {},
     "output_type": "execute_result"
    }
   ],
   "source": [
    "list(filter(lambda x:x%2 == 0 , p))"
   ]
  },
  {
   "cell_type": "code",
   "execution_count": 33,
   "id": "6e044c8d-e0dc-41cd-b821-4d640188def7",
   "metadata": {},
   "outputs": [
    {
     "data": {
      "text/plain": [
       "[1, 3, 5]"
      ]
     },
     "execution_count": 33,
     "metadata": {},
     "output_type": "execute_result"
    }
   ],
   "source": [
    "list(filter(lambda x : x % 2  == 1 , p))"
   ]
  },
  {
   "cell_type": "code",
   "execution_count": 34,
   "id": "ab7cc123-74a0-4e1c-ab1a-233d26d78184",
   "metadata": {},
   "outputs": [
    {
     "data": {
      "text/plain": [
       "[1, 3, 5, 7, 9]"
      ]
     },
     "execution_count": 34,
     "metadata": {},
     "output_type": "execute_result"
    }
   ],
   "source": [
    "list(filter(lambda x : x % 2 == 1 , p + q))"
   ]
  },
  {
   "cell_type": "code",
   "execution_count": 35,
   "id": "f343d745-ed49-4657-ac3c-869ca89756c3",
   "metadata": {},
   "outputs": [],
   "source": [
    "go = [-554,-4,-4,-46,-21,465,61,6,-4,-7,-153,15,644]"
   ]
  },
  {
   "cell_type": "code",
   "execution_count": 36,
   "id": "3085e2c0-cba6-4b82-9fb8-c445acc4b8b4",
   "metadata": {},
   "outputs": [
    {
     "data": {
      "text/plain": [
       "[-554, -4, -4, -46, -21, -4, -7, -153]"
      ]
     },
     "execution_count": 36,
     "metadata": {},
     "output_type": "execute_result"
    }
   ],
   "source": [
    "list(filter(lambda x : x< 0 , go))"
   ]
  },
  {
   "cell_type": "code",
   "execution_count": 37,
   "id": "bf689c7a-abba-4210-8987-f9d245270674",
   "metadata": {},
   "outputs": [
    {
     "data": {
      "text/plain": [
       "[1, 2, 3, 4, 5, 6, 7, 8, 9, 10, 465, 61, 6, 15, 644]"
      ]
     },
     "execution_count": 37,
     "metadata": {},
     "output_type": "execute_result"
    }
   ],
   "source": [
    "list(filter(lambda x : x > 0 , p + q + go))"
   ]
  },
  {
   "cell_type": "code",
   "execution_count": 38,
   "id": "5ade5a38-16ad-45ca-a27f-7cdcc4cece54",
   "metadata": {},
   "outputs": [],
   "source": [
    "names = [\"Happy Chauhan\", \"MS Dhoni\", \"Virat Kohli\", \"PW\", \"Skills\", \"Data\", \"Happy\"]"
   ]
  },
  {
   "cell_type": "code",
   "execution_count": 40,
   "id": "24da60ef-99a3-468e-8ce1-7537b74e7022",
   "metadata": {},
   "outputs": [
    {
     "data": {
      "text/plain": [
       "['Happy Chauhan', 'MS Dhoni', 'Virat Kohli']"
      ]
     },
     "execution_count": 40,
     "metadata": {},
     "output_type": "execute_result"
    }
   ],
   "source": [
    "list(filter(lambda x : len(x) > 7 , names))"
   ]
  },
  {
   "cell_type": "code",
   "execution_count": 41,
   "id": "f1dd6a19-e57c-4a7f-b09a-e4b1799330a3",
   "metadata": {},
   "outputs": [
    {
     "data": {
      "text/plain": [
       "['PW', 'Skills', 'Data', 'Happy']"
      ]
     },
     "execution_count": 41,
     "metadata": {},
     "output_type": "execute_result"
    }
   ],
   "source": [
    "list(filter(lambda x : len(x) < 7 , names))"
   ]
  },
  {
   "cell_type": "code",
   "execution_count": null,
   "id": "56858cae-a189-4e4e-8d38-33942548a03a",
   "metadata": {},
   "outputs": [],
   "source": []
  }
 ],
 "metadata": {
  "kernelspec": {
   "display_name": "Python 3 (ipykernel)",
   "language": "python",
   "name": "python3"
  },
  "language_info": {
   "codemirror_mode": {
    "name": "ipython",
    "version": 3
   },
   "file_extension": ".py",
   "mimetype": "text/x-python",
   "name": "python",
   "nbconvert_exporter": "python",
   "pygments_lexer": "ipython3",
   "version": "3.10.8"
  }
 },
 "nbformat": 4,
 "nbformat_minor": 5
}
